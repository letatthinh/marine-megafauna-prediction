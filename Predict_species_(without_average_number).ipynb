{
  "cells": [
    {
      "cell_type": "markdown",
      "metadata": {
        "id": "2B5X89Qb-C00"
      },
      "source": [
        "# Install libraries"
      ]
    },
    {
      "cell_type": "code",
      "execution_count": null,
      "metadata": {
        "colab": {
          "base_uri": "https://localhost:8080/"
        },
        "id": "tGYkHdlw-Elu",
        "outputId": "ee13d66c-8dff-4bd3-c78a-03ed9522f465"
      },
      "outputs": [
        {
          "name": "stdout",
          "output_type": "stream",
          "text": [
            "Requirement already satisfied: category_encoders in /usr/local/lib/python3.11/dist-packages (2.8.1)\n",
            "Requirement already satisfied: numpy>=1.14.0 in /usr/local/lib/python3.11/dist-packages (from category_encoders) (2.0.2)\n",
            "Requirement already satisfied: pandas>=1.0.5 in /usr/local/lib/python3.11/dist-packages (from category_encoders) (2.2.2)\n",
            "Requirement already satisfied: patsy>=0.5.1 in /usr/local/lib/python3.11/dist-packages (from category_encoders) (1.0.1)\n",
            "Requirement already satisfied: scikit-learn>=1.6.0 in /usr/local/lib/python3.11/dist-packages (from category_encoders) (1.6.1)\n",
            "Requirement already satisfied: scipy>=1.0.0 in /usr/local/lib/python3.11/dist-packages (from category_encoders) (1.14.1)\n",
            "Requirement already satisfied: statsmodels>=0.9.0 in /usr/local/lib/python3.11/dist-packages (from category_encoders) (0.14.4)\n",
            "Requirement already satisfied: python-dateutil>=2.8.2 in /usr/local/lib/python3.11/dist-packages (from pandas>=1.0.5->category_encoders) (2.8.2)\n",
            "Requirement already satisfied: pytz>=2020.1 in /usr/local/lib/python3.11/dist-packages (from pandas>=1.0.5->category_encoders) (2025.2)\n",
            "Requirement already satisfied: tzdata>=2022.7 in /usr/local/lib/python3.11/dist-packages (from pandas>=1.0.5->category_encoders) (2025.2)\n",
            "Requirement already satisfied: joblib>=1.2.0 in /usr/local/lib/python3.11/dist-packages (from scikit-learn>=1.6.0->category_encoders) (1.4.2)\n",
            "Requirement already satisfied: threadpoolctl>=3.1.0 in /usr/local/lib/python3.11/dist-packages (from scikit-learn>=1.6.0->category_encoders) (3.6.0)\n",
            "Requirement already satisfied: packaging>=21.3 in /usr/local/lib/python3.11/dist-packages (from statsmodels>=0.9.0->category_encoders) (24.2)\n",
            "Requirement already satisfied: six>=1.5 in /usr/local/lib/python3.11/dist-packages (from python-dateutil>=2.8.2->pandas>=1.0.5->category_encoders) (1.17.0)\n"
          ]
        }
      ],
      "source": [
        "!pip install category_encoders"
      ]
    },
    {
      "cell_type": "markdown",
      "metadata": {
        "id": "RKmtGSE4KM1L"
      },
      "source": [
        "# Import libraries"
      ]
    },
    {
      "cell_type": "code",
      "execution_count": null,
      "metadata": {
        "id": "3R8MGdOUKoqX"
      },
      "outputs": [],
      "source": [
        "# For data manipulation and analysis\n",
        "import pandas as pd\n",
        "# Working with arrays, vectors, matrices, lists\n",
        "import numpy as np\n",
        "# Working with graphs\n",
        "import matplotlib.pyplot as plt\n",
        "# Working with regex\n",
        "import re\n",
        "# Working with google drive\n",
        "from google.colab import drive\n",
        "# Encode categorical values with value between 0 and n-1\n",
        "from sklearn.preprocessing import LabelEncoder\n",
        "# Encode categorical values by mean in Y column\n",
        "from category_encoders.target_encoder import TargetEncoder\n",
        "# Support Random Forest algorithm for classification\n",
        "from sklearn.ensemble import RandomForestClassifier\n",
        "# Split original data into training and testing data\n",
        "from sklearn.model_selection import train_test_split\n",
        "# Calculate the accuracy and loss scores of the trained model\n",
        "from sklearn.metrics import accuracy_score, log_loss"
      ]
    },
    {
      "cell_type": "markdown",
      "metadata": {
        "id": "1R6cr37KxaWO"
      },
      "source": [
        "# Config settings"
      ]
    },
    {
      "cell_type": "code",
      "execution_count": null,
      "metadata": {
        "id": "ye29S3jOxdHI"
      },
      "outputs": [],
      "source": [
        "# Enable copy on write behavior in pandas\n",
        "# Ref: https://pandas.pydata.org/pandas-docs/stable/user_guide/copy_on_write.html#copy-on-write\n",
        "pd.options.mode.copy_on_write = True"
      ]
    },
    {
      "cell_type": "markdown",
      "metadata": {
        "id": "fEXBzn1rLLBA"
      },
      "source": [
        "# Read the dataset"
      ]
    },
    {
      "cell_type": "markdown",
      "metadata": {
        "id": "I5to_8ndNW60"
      },
      "source": [
        "Next, I will access to my dataset by providing the path to the file. My file is located at `/Stockton university/Graduate Research Symposium/whale-watch-data.csv` so that path will be:"
      ]
    },
    {
      "cell_type": "code",
      "execution_count": null,
      "metadata": {
        "id": "pD-4_KRkLQwg"
      },
      "outputs": [],
      "source": [
        "# Define file url\n",
        "file_id = '?'\n",
        "dataset_file_url = f'https://drive.google.com/uc?id={file_id}'"
      ]
    },
    {
      "cell_type": "markdown",
      "metadata": {
        "id": "JMyYIsRPOws1"
      },
      "source": [
        "Note:\n",
        "\n",
        "- *Use this command `!ls '/content/drive/My Drive/'` to quickly view folders and files in Google Drive root folder.*\n",
        "\n",
        "Then I will read the file using pandas library:"
      ]
    },
    {
      "cell_type": "code",
      "execution_count": null,
      "metadata": {
        "id": "kz6KYW_jO5Lg"
      },
      "outputs": [],
      "source": [
        "# Read the dataset file\n",
        "raw_df = pd.read_csv(dataset_file_url, encoding='windows-1252')"
      ]
    },
    {
      "cell_type": "markdown",
      "metadata": {
        "id": "SckM3j55SstY"
      },
      "source": [
        "Note:\n",
        "\n",
        "- *`encoding='windows-1252` is common for files created in Windows apps like Excel or Notepad. Pandas will try to read my dataset using the UTF-8 encoding, but it may encounter some bytes only from Windows (e.g. 0x92, often a \"smart\" or curly quote from Windows) and will raise an error.*"
      ]
    },
    {
      "cell_type": "markdown",
      "metadata": {
        "id": "-w4YunOtUFs2"
      },
      "source": [
        "# Explore the dataset"
      ]
    },
    {
      "cell_type": "markdown",
      "metadata": {
        "id": "Ggv0V9AeUnGh"
      },
      "source": [
        "## Get an overview of data"
      ]
    },
    {
      "cell_type": "code",
      "execution_count": null,
      "metadata": {
        "colab": {
          "base_uri": "https://localhost:8080/"
        },
        "id": "blk5sSTOUu6X",
        "outputId": "e28ac4c1-a937-4124-aecf-83665eda1b16"
      },
      "outputs": [
        {
          "name": "stdout",
          "output_type": "stream",
          "text": [
            "<class 'pandas.core.frame.DataFrame'>\n",
            "RangeIndex: 12325 entries, 0 to 12324\n",
            "Data columns (total 46 columns):\n",
            " #   Column                   Non-Null Count  Dtype  \n",
            "---  ------                   --------------  -----  \n",
            " 0   Date                     12323 non-null  object \n",
            " 1   Trip                     12245 non-null  object \n",
            " 2   Trip Start Time          12228 non-null  object \n",
            " 3   Trip End Time            12213 non-null  object \n",
            " 4   Vessel                   12270 non-null  object \n",
            " 5   Captain                  11685 non-null  object \n",
            " 6   Naturalist               11560 non-null  object \n",
            " 7   Data Collector           11669 non-null  object \n",
            " 8   Data Entered in By       11667 non-null  object \n",
            " 9   Photographer             10413 non-null  object \n",
            " 10  Whale SENSE Mentioned?   11662 non-null  object \n",
            " 11  Atmosphere               11606 non-null  object \n",
            " 12  Precipitation            701 non-null    object \n",
            " 13  Visibility               11607 non-null  object \n",
            " 14  Wind Speed               11569 non-null  object \n",
            " 15  Sea Height               11577 non-null  object \n",
            " 16  Swell Height             11534 non-null  object \n",
            " 17  Wind Direction           11517 non-null  object \n",
            " 18  Swell Direction          11507 non-null  object \n",
            " 19  Cloud Cover              11510 non-null  float64\n",
            " 20  General Area             11408 non-null  object \n",
            " 21  Sighting No.             12264 non-null  object \n",
            " 22  Species                  12173 non-null  object \n",
            " 23  Min                      11539 non-null  object \n",
            " 24  Max                      11470 non-null  object \n",
            " 25  Catologued Animals       3604 non-null   object \n",
            " 26  Time Start               12035 non-null  object \n",
            " 27  Time End                 9230 non-null   object \n",
            " 28  Latitude start           12114 non-null  object \n",
            " 29  Latitude end             9920 non-null   object \n",
            " 30  Longitude start          12100 non-null  object \n",
            " 31  Longitude end            9912 non-null   object \n",
            " 32  Water Temperature        11074 non-null  float64\n",
            " 33  Depth                    11002 non-null  object \n",
            " 34  Original Tide Recording  1936 non-null   object \n",
            " 35  Tide Value               8947 non-null   object \n",
            " 36  Tide Stage               8992 non-null   object \n",
            " 37  Behavior General         8221 non-null   object \n",
            " 38  Feeding                  10321 non-null  object \n",
            " 39  Mating                   10028 non-null  object \n",
            " 40  Photos                   9325 non-null   object \n",
            " 41  With Calf?               10007 non-null  object \n",
            " 42  With Juvenile?           9446 non-null   object \n",
            " 43  Direction Traveling      7035 non-null   object \n",
            " 44  With or Against Tide     6840 non-null   object \n",
            " 45  Notes                    9039 non-null   object \n",
            "dtypes: float64(2), object(44)\n",
            "memory usage: 4.3+ MB\n",
            "None\n"
          ]
        }
      ],
      "source": [
        "# Print dataset info\n",
        "print(raw_df.info())"
      ]
    },
    {
      "cell_type": "markdown",
      "metadata": {
        "id": "G-BJL9XbsbL8"
      },
      "source": [
        "## Check and remove unnamed columns"
      ]
    },
    {
      "cell_type": "markdown",
      "metadata": {
        "id": "hfykPN55grZx"
      },
      "source": [
        "The number of columns is `16384`, this is too much columns for a dataset. I will explore the columns for more insights.<br>\n",
        "First, I want to view all the column names:"
      ]
    },
    {
      "cell_type": "code",
      "execution_count": null,
      "metadata": {
        "colab": {
          "base_uri": "https://localhost:8080/"
        },
        "id": "AsTU6ZHhguja",
        "outputId": "bb806efb-cc85-43d2-c664-58d9f07ab50a"
      },
      "outputs": [
        {
          "name": "stdout",
          "output_type": "stream",
          "text": [
            "Index(['Date', 'Trip', 'Trip Start Time', 'Trip End Time', 'Vessel', 'Captain',\n",
            "       'Naturalist', 'Data Collector', 'Data Entered in By', 'Photographer',\n",
            "       'Whale SENSE Mentioned?', 'Atmosphere', 'Precipitation', 'Visibility',\n",
            "       'Wind Speed', 'Sea Height', 'Swell Height', 'Wind Direction',\n",
            "       'Swell Direction', 'Cloud Cover', 'General Area', 'Sighting No.',\n",
            "       'Species', 'Min', 'Max', 'Catologued Animals', 'Time Start', 'Time End',\n",
            "       'Latitude start', 'Latitude end', 'Longitude start', 'Longitude end',\n",
            "       'Water Temperature', 'Depth', 'Original Tide Recording', 'Tide Value',\n",
            "       'Tide Stage', 'Behavior General', 'Feeding', 'Mating', 'Photos',\n",
            "       'With Calf?', 'With Juvenile?', 'Direction Traveling',\n",
            "       'With or Against Tide', 'Notes'],\n",
            "      dtype='object')\n"
          ]
        }
      ],
      "source": [
        "# View dataset column names\n",
        "print(raw_df.columns)"
      ]
    },
    {
      "cell_type": "markdown",
      "metadata": {
        "id": "tX_tW0LIpZu6"
      },
      "source": [
        "There are a lot of columns start with \"Unnamed: ...\". These columns were assigned by default when Pandas encounters empty column headers or when an index is included during file saving.<br>\n",
        "Therefore, I will remove all the columns start with \"Unnamed: [integer]\""
      ]
    },
    {
      "cell_type": "code",
      "execution_count": null,
      "metadata": {
        "colab": {
          "base_uri": "https://localhost:8080/"
        },
        "id": "5LGUNYHfqBi8",
        "outputId": "373b31bf-44b0-4231-b156-f3e48344e4e5"
      },
      "outputs": [
        {
          "name": "stdout",
          "output_type": "stream",
          "text": [
            "Removed 0 unnamed columns from the dataset\n"
          ]
        }
      ],
      "source": [
        "# Search for columns matching \"Unnamed: [integer]\" using regex\n",
        "unnamed_columns = [column for column in raw_df.columns\n",
        "                   if re.match(r'^Unnamed: \\d+$', str(column))]\n",
        "\n",
        "# Remove those columns and assign to a new variable 'df'\n",
        "df = raw_df.drop(columns=unnamed_columns)\n",
        "\n",
        "print(f\"Removed {len(unnamed_columns)} unnamed columns from the dataset\")"
      ]
    },
    {
      "cell_type": "markdown",
      "metadata": {
        "id": "Hx7Lp3QWr8Bi"
      },
      "source": [
        "Let's view the columns again:"
      ]
    },
    {
      "cell_type": "code",
      "execution_count": null,
      "metadata": {
        "colab": {
          "base_uri": "https://localhost:8080/"
        },
        "id": "i7sZ7MZnr-rO",
        "outputId": "8b16bbfd-9332-4d32-fe53-133dac47e776"
      },
      "outputs": [
        {
          "name": "stdout",
          "output_type": "stream",
          "text": [
            "Index(['Date', 'Trip', 'Trip Start Time', 'Trip End Time', 'Vessel', 'Captain',\n",
            "       'Naturalist', 'Data Collector', 'Data Entered in By', 'Photographer',\n",
            "       'Whale SENSE Mentioned?', 'Atmosphere', 'Precipitation', 'Visibility',\n",
            "       'Wind Speed', 'Sea Height', 'Swell Height', 'Wind Direction',\n",
            "       'Swell Direction', 'Cloud Cover', 'General Area', 'Sighting No.',\n",
            "       'Species', 'Min', 'Max', 'Catologued Animals', 'Time Start', 'Time End',\n",
            "       'Latitude start', 'Latitude end', 'Longitude start', 'Longitude end',\n",
            "       'Water Temperature', 'Depth', 'Original Tide Recording', 'Tide Value',\n",
            "       'Tide Stage', 'Behavior General', 'Feeding', 'Mating', 'Photos',\n",
            "       'With Calf?', 'With Juvenile?', 'Direction Traveling',\n",
            "       'With or Against Tide', 'Notes'],\n",
            "      dtype='object')\n"
          ]
        }
      ],
      "source": [
        "# View the columns again\n",
        "print(df.columns)"
      ]
    },
    {
      "cell_type": "markdown",
      "metadata": {
        "id": "9RTsBp0ws4wg"
      },
      "source": [
        "## Check and remove columns contain no data"
      ]
    },
    {
      "cell_type": "markdown",
      "metadata": {
        "id": "zpXeBGZ1sQ5A"
      },
      "source": [
        "I will check if any column has no data:"
      ]
    },
    {
      "cell_type": "code",
      "execution_count": null,
      "metadata": {
        "colab": {
          "base_uri": "https://localhost:8080/"
        },
        "id": "zcpqCvsjur30",
        "outputId": "425e15bd-3210-435d-a93e-ce0838b75f93"
      },
      "outputs": [
        {
          "name": "stdout",
          "output_type": "stream",
          "text": [
            "False\n"
          ]
        }
      ],
      "source": [
        "# Check if any column contains no data among the columns\n",
        "print((df.isna() | (df == '')).all().any())"
      ]
    },
    {
      "cell_type": "markdown",
      "metadata": {
        "id": "wM17CUfBvQEr"
      },
      "source": [
        "Cool! so I don't need to explore further in this step."
      ]
    },
    {
      "cell_type": "markdown",
      "metadata": {
        "id": "OwqesMfJHSHo"
      },
      "source": [
        "## Get an overview of data with valid columns"
      ]
    },
    {
      "cell_type": "code",
      "execution_count": null,
      "metadata": {
        "colab": {
          "base_uri": "https://localhost:8080/"
        },
        "id": "yq7J2sdHHlQp",
        "outputId": "298871b5-5efa-4604-9e79-6f7c44480f7c"
      },
      "outputs": [
        {
          "name": "stdout",
          "output_type": "stream",
          "text": [
            "<class 'pandas.core.frame.DataFrame'>\n",
            "RangeIndex: 12325 entries, 0 to 12324\n",
            "Data columns (total 46 columns):\n",
            " #   Column                   Non-Null Count  Dtype  \n",
            "---  ------                   --------------  -----  \n",
            " 0   Date                     12323 non-null  object \n",
            " 1   Trip                     12245 non-null  object \n",
            " 2   Trip Start Time          12228 non-null  object \n",
            " 3   Trip End Time            12213 non-null  object \n",
            " 4   Vessel                   12270 non-null  object \n",
            " 5   Captain                  11685 non-null  object \n",
            " 6   Naturalist               11560 non-null  object \n",
            " 7   Data Collector           11669 non-null  object \n",
            " 8   Data Entered in By       11667 non-null  object \n",
            " 9   Photographer             10413 non-null  object \n",
            " 10  Whale SENSE Mentioned?   11662 non-null  object \n",
            " 11  Atmosphere               11606 non-null  object \n",
            " 12  Precipitation            701 non-null    object \n",
            " 13  Visibility               11607 non-null  object \n",
            " 14  Wind Speed               11569 non-null  object \n",
            " 15  Sea Height               11577 non-null  object \n",
            " 16  Swell Height             11534 non-null  object \n",
            " 17  Wind Direction           11517 non-null  object \n",
            " 18  Swell Direction          11507 non-null  object \n",
            " 19  Cloud Cover              11510 non-null  float64\n",
            " 20  General Area             11408 non-null  object \n",
            " 21  Sighting No.             12264 non-null  object \n",
            " 22  Species                  12173 non-null  object \n",
            " 23  Min                      11539 non-null  object \n",
            " 24  Max                      11470 non-null  object \n",
            " 25  Catologued Animals       3604 non-null   object \n",
            " 26  Time Start               12035 non-null  object \n",
            " 27  Time End                 9230 non-null   object \n",
            " 28  Latitude start           12114 non-null  object \n",
            " 29  Latitude end             9920 non-null   object \n",
            " 30  Longitude start          12100 non-null  object \n",
            " 31  Longitude end            9912 non-null   object \n",
            " 32  Water Temperature        11074 non-null  float64\n",
            " 33  Depth                    11002 non-null  object \n",
            " 34  Original Tide Recording  1936 non-null   object \n",
            " 35  Tide Value               8947 non-null   object \n",
            " 36  Tide Stage               8992 non-null   object \n",
            " 37  Behavior General         8221 non-null   object \n",
            " 38  Feeding                  10321 non-null  object \n",
            " 39  Mating                   10028 non-null  object \n",
            " 40  Photos                   9325 non-null   object \n",
            " 41  With Calf?               10007 non-null  object \n",
            " 42  With Juvenile?           9446 non-null   object \n",
            " 43  Direction Traveling      7035 non-null   object \n",
            " 44  With or Against Tide     6840 non-null   object \n",
            " 45  Notes                    9039 non-null   object \n",
            "dtypes: float64(2), object(44)\n",
            "memory usage: 4.3+ MB\n",
            "None\n"
          ]
        }
      ],
      "source": [
        "print(df.info())"
      ]
    },
    {
      "cell_type": "markdown",
      "metadata": {
        "id": "davCwcn3hyeG"
      },
      "source": [
        "# Analyze and pick potential columns for predicting the average number of species"
      ]
    },
    {
      "cell_type": "markdown",
      "metadata": {
        "id": "P9L6rmFdiWTc"
      },
      "source": [
        "Now that I have a list of columns and their data type from the dataset, I will pick some columns for predicting the average number of species."
      ]
    },
    {
      "cell_type": "markdown",
      "metadata": {
        "id": "j_O1Cek5IQSA"
      },
      "source": [
        "## Date - Extract month data"
      ]
    },
    {
      "cell_type": "markdown",
      "metadata": {
        "id": "N4_MlbW3ITpk"
      },
      "source": [
        "The number of species can change by date, but it is better to extract only the month from the date data."
      ]
    },
    {
      "cell_type": "markdown",
      "metadata": {
        "id": "F45Sxs2FIlgf"
      },
      "source": [
        "First, I will convert the data type of the `Date` column from `object` to `datetime64[ns]`."
      ]
    },
    {
      "cell_type": "code",
      "execution_count": null,
      "metadata": {
        "id": "CQMF-5OVJXHj"
      },
      "outputs": [],
      "source": [
        "# Convert to datetime\n",
        "# errors='coerce': Invalid dates are converted to NaT (not a time)\n",
        "df['Date'] = pd.to_datetime(df['Date'], errors='coerce')"
      ]
    },
    {
      "cell_type": "markdown",
      "metadata": {
        "id": "2hHq1J3OKwos"
      },
      "source": [
        "Next, I will remove all rows having the date is `NaT`."
      ]
    },
    {
      "cell_type": "code",
      "execution_count": null,
      "metadata": {
        "id": "kSU5-YR7K5zU"
      },
      "outputs": [],
      "source": [
        "# Select rows where 'Date' column is not NaT\n",
        "df = df[df['Date'].notna()]"
      ]
    },
    {
      "cell_type": "markdown",
      "metadata": {
        "id": "2GYnNwb9LbWW"
      },
      "source": [
        "Finally, I will extract only the month and store in a new column called `Month`."
      ]
    },
    {
      "cell_type": "code",
      "execution_count": null,
      "metadata": {
        "id": "n9lcMbVLLyJN"
      },
      "outputs": [],
      "source": [
        "# .dt.month: Get the month as number (e.g. January=1, December=12)\n",
        "df['Month'] = df['Date'].dt.month"
      ]
    },
    {
      "cell_type": "markdown",
      "metadata": {
        "id": "MulpmNm9yLVO"
      },
      "source": [
        "Let's view the Month data:"
      ]
    },
    {
      "cell_type": "code",
      "execution_count": null,
      "metadata": {
        "colab": {
          "base_uri": "https://localhost:8080/",
          "height": 458
        },
        "id": "tijtwE9syPjZ",
        "outputId": "26894f38-afe3-4485-e8e5-b50e86cd6d84"
      },
      "outputs": [
        {
          "data": {
            "text/html": [
              "<div>\n",
              "<style scoped>\n",
              "    .dataframe tbody tr th:only-of-type {\n",
              "        vertical-align: middle;\n",
              "    }\n",
              "\n",
              "    .dataframe tbody tr th {\n",
              "        vertical-align: top;\n",
              "    }\n",
              "\n",
              "    .dataframe thead th {\n",
              "        text-align: right;\n",
              "    }\n",
              "</style>\n",
              "<table border=\"1\" class=\"dataframe\">\n",
              "  <thead>\n",
              "    <tr style=\"text-align: right;\">\n",
              "      <th></th>\n",
              "      <th>Month</th>\n",
              "    </tr>\n",
              "  </thead>\n",
              "  <tbody>\n",
              "    <tr>\n",
              "      <th>0</th>\n",
              "      <td>9</td>\n",
              "    </tr>\n",
              "    <tr>\n",
              "      <th>1</th>\n",
              "      <td>9</td>\n",
              "    </tr>\n",
              "    <tr>\n",
              "      <th>2</th>\n",
              "      <td>9</td>\n",
              "    </tr>\n",
              "    <tr>\n",
              "      <th>3</th>\n",
              "      <td>9</td>\n",
              "    </tr>\n",
              "    <tr>\n",
              "      <th>4</th>\n",
              "      <td>9</td>\n",
              "    </tr>\n",
              "    <tr>\n",
              "      <th>...</th>\n",
              "      <td>...</td>\n",
              "    </tr>\n",
              "    <tr>\n",
              "      <th>12320</th>\n",
              "      <td>12</td>\n",
              "    </tr>\n",
              "    <tr>\n",
              "      <th>12321</th>\n",
              "      <td>12</td>\n",
              "    </tr>\n",
              "    <tr>\n",
              "      <th>12322</th>\n",
              "      <td>12</td>\n",
              "    </tr>\n",
              "    <tr>\n",
              "      <th>12323</th>\n",
              "      <td>12</td>\n",
              "    </tr>\n",
              "    <tr>\n",
              "      <th>12324</th>\n",
              "      <td>12</td>\n",
              "    </tr>\n",
              "  </tbody>\n",
              "</table>\n",
              "<p>12284 rows × 1 columns</p>\n",
              "</div><br><label><b>dtype:</b> int32</label>"
            ],
            "text/plain": [
              "0         9\n",
              "1         9\n",
              "2         9\n",
              "3         9\n",
              "4         9\n",
              "         ..\n",
              "12320    12\n",
              "12321    12\n",
              "12322    12\n",
              "12323    12\n",
              "12324    12\n",
              "Name: Month, Length: 12284, dtype: int32"
            ]
          },
          "execution_count": 104,
          "metadata": {},
          "output_type": "execute_result"
        }
      ],
      "source": [
        "df['Month']"
      ]
    },
    {
      "cell_type": "markdown",
      "metadata": {
        "id": "r713SNwcMYDM"
      },
      "source": [
        "## Trip"
      ]
    },
    {
      "cell_type": "markdown",
      "metadata": {
        "id": "r2PAYpPJMeEz"
      },
      "source": [
        "Trip information is useful, as it likely indicates the time of day when the trip starts. First, I want to get an overview of values this column:"
      ]
    },
    {
      "cell_type": "code",
      "execution_count": null,
      "metadata": {
        "colab": {
          "base_uri": "https://localhost:8080/",
          "height": 617
        },
        "id": "yrZxpc0vcNlY",
        "outputId": "d05f816e-3978-44aa-d7e9-24f8a554725f"
      },
      "outputs": [
        {
          "data": {
            "text/html": [
              "<div>\n",
              "<style scoped>\n",
              "    .dataframe tbody tr th:only-of-type {\n",
              "        vertical-align: middle;\n",
              "    }\n",
              "\n",
              "    .dataframe tbody tr th {\n",
              "        vertical-align: top;\n",
              "    }\n",
              "\n",
              "    .dataframe thead th {\n",
              "        text-align: right;\n",
              "    }\n",
              "</style>\n",
              "<table border=\"1\" class=\"dataframe\">\n",
              "  <thead>\n",
              "    <tr style=\"text-align: right;\">\n",
              "      <th></th>\n",
              "      <th>count</th>\n",
              "    </tr>\n",
              "    <tr>\n",
              "      <th>Trip</th>\n",
              "      <th></th>\n",
              "    </tr>\n",
              "  </thead>\n",
              "  <tbody>\n",
              "    <tr>\n",
              "      <th>AM</th>\n",
              "      <td>3788</td>\n",
              "    </tr>\n",
              "    <tr>\n",
              "      <th>AM</th>\n",
              "      <td>8</td>\n",
              "    </tr>\n",
              "    <tr>\n",
              "      <th>Am</th>\n",
              "      <td>3</td>\n",
              "    </tr>\n",
              "    <tr>\n",
              "      <th>Find Excel Data Sheet!</th>\n",
              "      <td>1</td>\n",
              "    </tr>\n",
              "    <tr>\n",
              "      <th>Fireworks</th>\n",
              "      <td>2</td>\n",
              "    </tr>\n",
              "    <tr>\n",
              "      <th>PM</th>\n",
              "      <td>5787</td>\n",
              "    </tr>\n",
              "    <tr>\n",
              "      <th>Pelagic</th>\n",
              "      <td>337</td>\n",
              "    </tr>\n",
              "    <tr>\n",
              "      <th>SEAS</th>\n",
              "      <td>10</td>\n",
              "    </tr>\n",
              "    <tr>\n",
              "      <th>SS</th>\n",
              "      <td>2226</td>\n",
              "    </tr>\n",
              "    <tr>\n",
              "      <th>SS</th>\n",
              "      <td>1</td>\n",
              "    </tr>\n",
              "    <tr>\n",
              "      <th>Special</th>\n",
              "      <td>24</td>\n",
              "    </tr>\n",
              "    <tr>\n",
              "      <th>WW</th>\n",
              "      <td>2</td>\n",
              "    </tr>\n",
              "    <tr>\n",
              "      <th>pM</th>\n",
              "      <td>4</td>\n",
              "    </tr>\n",
              "    <tr>\n",
              "      <th>pm</th>\n",
              "      <td>11</td>\n",
              "    </tr>\n",
              "    <tr>\n",
              "      <th>ss</th>\n",
              "      <td>1</td>\n",
              "    </tr>\n",
              "    <tr>\n",
              "      <th>NaN</th>\n",
              "      <td>79</td>\n",
              "    </tr>\n",
              "  </tbody>\n",
              "</table>\n",
              "</div><br><label><b>dtype:</b> int64</label>"
            ],
            "text/plain": [
              "Trip\n",
              "AM                        3788\n",
              "AM                           8\n",
              "Am                           3\n",
              "Find Excel Data Sheet!       1\n",
              "Fireworks                    2\n",
              "PM                        5787\n",
              "Pelagic                    337\n",
              "SEAS                        10\n",
              "SS                        2226\n",
              "SS                           1\n",
              "Special                     24\n",
              "WW                           2\n",
              "pM                           4\n",
              "pm                          11\n",
              "ss                           1\n",
              "NaN                         79\n",
              "Name: count, dtype: int64"
            ]
          },
          "execution_count": 105,
          "metadata": {},
          "output_type": "execute_result"
        }
      ],
      "source": [
        "df['Trip'] \\\n",
        "  .value_counts(dropna=False) \\\n",
        "  .sort_index()"
      ]
    },
    {
      "cell_type": "markdown",
      "metadata": {
        "id": "sFaa6CkMcN3l"
      },
      "source": [
        "Then I need to filter the values that only within this pre-defined list: `['AM', 'PM', 'SS', 'SEAS', 'Pelagic', 'Special']`. There are some outliers in the column, which I will fix before filtering:"
      ]
    },
    {
      "cell_type": "code",
      "execution_count": null,
      "metadata": {
        "id": "q-M5BFP2RoBq"
      },
      "outputs": [],
      "source": [
        "# 1. Fix the outliers\n",
        "# Trim values\n",
        "df['Trip'] = df['Trip'].str.strip()\n",
        "\n",
        "# Replace values in the Trip column\n",
        "df.replace({\"Trip\": {\n",
        "    'pm': 'PM', 'pM': 'PM', 'Am': 'AM', 'ss': 'SS'\n",
        "}}, inplace=True)\n",
        "\n",
        "# 2. Filter values from pre-defined list\n",
        "pre_defined_trip_values = ['AM', 'PM', 'SS', 'SEAS', 'Pelagic', 'Special']\n",
        "df = df[df['Trip'].isin(pre_defined_trip_values)]"
      ]
    },
    {
      "cell_type": "markdown",
      "metadata": {
        "id": "DAMW1UfneJA-"
      },
      "source": [
        "Get the overview of values in the `Trip` column again:"
      ]
    },
    {
      "cell_type": "code",
      "execution_count": null,
      "metadata": {
        "colab": {
          "base_uri": "https://localhost:8080/",
          "height": 303
        },
        "id": "jBZ02sDgeNJ-",
        "outputId": "df864655-18bb-4e48-cca8-e72f3500ed12"
      },
      "outputs": [
        {
          "data": {
            "text/html": [
              "<div>\n",
              "<style scoped>\n",
              "    .dataframe tbody tr th:only-of-type {\n",
              "        vertical-align: middle;\n",
              "    }\n",
              "\n",
              "    .dataframe tbody tr th {\n",
              "        vertical-align: top;\n",
              "    }\n",
              "\n",
              "    .dataframe thead th {\n",
              "        text-align: right;\n",
              "    }\n",
              "</style>\n",
              "<table border=\"1\" class=\"dataframe\">\n",
              "  <thead>\n",
              "    <tr style=\"text-align: right;\">\n",
              "      <th></th>\n",
              "      <th>count</th>\n",
              "    </tr>\n",
              "    <tr>\n",
              "      <th>Trip</th>\n",
              "      <th></th>\n",
              "    </tr>\n",
              "  </thead>\n",
              "  <tbody>\n",
              "    <tr>\n",
              "      <th>AM</th>\n",
              "      <td>3799</td>\n",
              "    </tr>\n",
              "    <tr>\n",
              "      <th>PM</th>\n",
              "      <td>5802</td>\n",
              "    </tr>\n",
              "    <tr>\n",
              "      <th>Pelagic</th>\n",
              "      <td>337</td>\n",
              "    </tr>\n",
              "    <tr>\n",
              "      <th>SEAS</th>\n",
              "      <td>10</td>\n",
              "    </tr>\n",
              "    <tr>\n",
              "      <th>SS</th>\n",
              "      <td>2228</td>\n",
              "    </tr>\n",
              "    <tr>\n",
              "      <th>Special</th>\n",
              "      <td>24</td>\n",
              "    </tr>\n",
              "  </tbody>\n",
              "</table>\n",
              "</div><br><label><b>dtype:</b> int64</label>"
            ],
            "text/plain": [
              "Trip\n",
              "AM         3799\n",
              "PM         5802\n",
              "Pelagic     337\n",
              "SEAS         10\n",
              "SS         2228\n",
              "Special      24\n",
              "Name: count, dtype: int64"
            ]
          },
          "execution_count": 107,
          "metadata": {},
          "output_type": "execute_result"
        }
      ],
      "source": [
        "df['Trip'] \\\n",
        "  .value_counts(dropna=False) \\\n",
        "  .sort_index()"
      ]
    },
    {
      "cell_type": "markdown",
      "metadata": {
        "id": "YQQWazwgVTYB"
      },
      "source": [
        "## Atmosphere"
      ]
    },
    {
      "cell_type": "markdown",
      "metadata": {
        "id": "hNV20Cz6VY4x"
      },
      "source": [
        "Atmospheric conditions may be useful for prediction. First, I want to get an overview of values this column:"
      ]
    },
    {
      "cell_type": "code",
      "execution_count": null,
      "metadata": {
        "colab": {
          "base_uri": "https://localhost:8080/",
          "height": 366
        },
        "id": "wtUBhkS4b0Ad",
        "outputId": "a5ceed27-7715-42e5-eae3-27aa79508688"
      },
      "outputs": [
        {
          "data": {
            "text/html": [
              "<div>\n",
              "<style scoped>\n",
              "    .dataframe tbody tr th:only-of-type {\n",
              "        vertical-align: middle;\n",
              "    }\n",
              "\n",
              "    .dataframe tbody tr th {\n",
              "        vertical-align: top;\n",
              "    }\n",
              "\n",
              "    .dataframe thead th {\n",
              "        text-align: right;\n",
              "    }\n",
              "</style>\n",
              "<table border=\"1\" class=\"dataframe\">\n",
              "  <thead>\n",
              "    <tr style=\"text-align: right;\">\n",
              "      <th></th>\n",
              "      <th>count</th>\n",
              "    </tr>\n",
              "    <tr>\n",
              "      <th>Atmosphere</th>\n",
              "      <th></th>\n",
              "    </tr>\n",
              "  </thead>\n",
              "  <tbody>\n",
              "    <tr>\n",
              "      <th>Clear</th>\n",
              "      <td>8246</td>\n",
              "    </tr>\n",
              "    <tr>\n",
              "      <th>Clear</th>\n",
              "      <td>7</td>\n",
              "    </tr>\n",
              "    <tr>\n",
              "      <th>Clearing</th>\n",
              "      <td>112</td>\n",
              "    </tr>\n",
              "    <tr>\n",
              "      <th>Fog</th>\n",
              "      <td>191</td>\n",
              "    </tr>\n",
              "    <tr>\n",
              "      <th>Hazy</th>\n",
              "      <td>1303</td>\n",
              "    </tr>\n",
              "    <tr>\n",
              "      <th>Overcast</th>\n",
              "      <td>1701</td>\n",
              "    </tr>\n",
              "    <tr>\n",
              "      <th>clearing</th>\n",
              "      <td>2</td>\n",
              "    </tr>\n",
              "    <tr>\n",
              "      <th>NaN</th>\n",
              "      <td>638</td>\n",
              "    </tr>\n",
              "  </tbody>\n",
              "</table>\n",
              "</div><br><label><b>dtype:</b> int64</label>"
            ],
            "text/plain": [
              "Atmosphere\n",
              "Clear       8246\n",
              "Clear          7\n",
              "Clearing     112\n",
              "Fog          191\n",
              "Hazy        1303\n",
              "Overcast    1701\n",
              "clearing       2\n",
              "NaN          638\n",
              "Name: count, dtype: int64"
            ]
          },
          "execution_count": 108,
          "metadata": {},
          "output_type": "execute_result"
        }
      ],
      "source": [
        "df['Atmosphere'] \\\n",
        "  .value_counts(dropna=False) \\\n",
        "  .sort_index()"
      ]
    },
    {
      "cell_type": "markdown",
      "metadata": {
        "id": "UXTtMtI0b0yt"
      },
      "source": [
        "Then I need to filter the values that only within this pre-defined list: `['Clear', 'Fog', 'Hazy', 'Overcast', 'Clearing']`. There are some outliers in the column, which I will fix before filtering:"
      ]
    },
    {
      "cell_type": "code",
      "execution_count": null,
      "metadata": {
        "id": "HmhLMxiFV8IE"
      },
      "outputs": [],
      "source": [
        "# 1. Fix the outliers\n",
        "# Trim values\n",
        "df['Atmosphere'] = df['Atmosphere'].str.strip()\n",
        "\n",
        "# Replace values\n",
        "df.replace({\"Atmosphere\": {\n",
        "    'clearing': 'Clearing'\n",
        "}}, inplace=True)\n",
        "\n",
        "# 2. Filter values from pre-defined list\n",
        "pre_defined_atmosphere_values = ['Clear', 'Fog', 'Hazy', 'Overcast', 'Clearing']\n",
        "df = df[df['Atmosphere'].isin(pre_defined_atmosphere_values)]"
      ]
    },
    {
      "cell_type": "markdown",
      "metadata": {
        "id": "-OHgzLJveo44"
      },
      "source": [
        "Get the overview of values in the `Atmosphere` column again:"
      ]
    },
    {
      "cell_type": "code",
      "execution_count": null,
      "metadata": {
        "colab": {
          "base_uri": "https://localhost:8080/",
          "height": 272
        },
        "id": "OZaH71hSeo45",
        "outputId": "a016042a-5a50-4ee8-b68f-68ddc077f73c"
      },
      "outputs": [
        {
          "data": {
            "text/html": [
              "<div>\n",
              "<style scoped>\n",
              "    .dataframe tbody tr th:only-of-type {\n",
              "        vertical-align: middle;\n",
              "    }\n",
              "\n",
              "    .dataframe tbody tr th {\n",
              "        vertical-align: top;\n",
              "    }\n",
              "\n",
              "    .dataframe thead th {\n",
              "        text-align: right;\n",
              "    }\n",
              "</style>\n",
              "<table border=\"1\" class=\"dataframe\">\n",
              "  <thead>\n",
              "    <tr style=\"text-align: right;\">\n",
              "      <th></th>\n",
              "      <th>count</th>\n",
              "    </tr>\n",
              "    <tr>\n",
              "      <th>Atmosphere</th>\n",
              "      <th></th>\n",
              "    </tr>\n",
              "  </thead>\n",
              "  <tbody>\n",
              "    <tr>\n",
              "      <th>Clear</th>\n",
              "      <td>8253</td>\n",
              "    </tr>\n",
              "    <tr>\n",
              "      <th>Clearing</th>\n",
              "      <td>114</td>\n",
              "    </tr>\n",
              "    <tr>\n",
              "      <th>Fog</th>\n",
              "      <td>191</td>\n",
              "    </tr>\n",
              "    <tr>\n",
              "      <th>Hazy</th>\n",
              "      <td>1303</td>\n",
              "    </tr>\n",
              "    <tr>\n",
              "      <th>Overcast</th>\n",
              "      <td>1701</td>\n",
              "    </tr>\n",
              "  </tbody>\n",
              "</table>\n",
              "</div><br><label><b>dtype:</b> int64</label>"
            ],
            "text/plain": [
              "Atmosphere\n",
              "Clear       8253\n",
              "Clearing     114\n",
              "Fog          191\n",
              "Hazy        1303\n",
              "Overcast    1701\n",
              "Name: count, dtype: int64"
            ]
          },
          "execution_count": 110,
          "metadata": {},
          "output_type": "execute_result"
        }
      ],
      "source": [
        "df['Atmosphere'] \\\n",
        "  .value_counts(dropna=False) \\\n",
        "  .sort_index()"
      ]
    },
    {
      "cell_type": "markdown",
      "metadata": {
        "id": "XCOTJoSov0Iy"
      },
      "source": [
        "## Visibility"
      ]
    },
    {
      "cell_type": "markdown",
      "metadata": {
        "id": "5ARP9PY2v0Iy"
      },
      "source": [
        "Visibility may be useful for prediction. First, I want to get an overview of values this column:"
      ]
    },
    {
      "cell_type": "code",
      "execution_count": null,
      "metadata": {
        "colab": {
          "base_uri": "https://localhost:8080/",
          "height": 554
        },
        "id": "NRshgrmEv0Iz",
        "outputId": "77643300-9825-47b0-f09b-35b3d5657c13"
      },
      "outputs": [
        {
          "data": {
            "text/html": [
              "<div>\n",
              "<style scoped>\n",
              "    .dataframe tbody tr th:only-of-type {\n",
              "        vertical-align: middle;\n",
              "    }\n",
              "\n",
              "    .dataframe tbody tr th {\n",
              "        vertical-align: top;\n",
              "    }\n",
              "\n",
              "    .dataframe thead th {\n",
              "        text-align: right;\n",
              "    }\n",
              "</style>\n",
              "<table border=\"1\" class=\"dataframe\">\n",
              "  <thead>\n",
              "    <tr style=\"text-align: right;\">\n",
              "      <th></th>\n",
              "      <th>count</th>\n",
              "    </tr>\n",
              "    <tr>\n",
              "      <th>Visibility</th>\n",
              "      <th></th>\n",
              "    </tr>\n",
              "  </thead>\n",
              "  <tbody>\n",
              "    <tr>\n",
              "      <th>1-3 miles</th>\n",
              "      <td>2</td>\n",
              "    </tr>\n",
              "    <tr>\n",
              "      <th>.25-1 mile</th>\n",
              "      <td>136</td>\n",
              "    </tr>\n",
              "    <tr>\n",
              "      <th>0.25-1 miles</th>\n",
              "      <td>12</td>\n",
              "    </tr>\n",
              "    <tr>\n",
              "      <th>1-3 Miles</th>\n",
              "      <td>7</td>\n",
              "    </tr>\n",
              "    <tr>\n",
              "      <th>1-3 miles</th>\n",
              "      <td>272</td>\n",
              "    </tr>\n",
              "    <tr>\n",
              "      <th>3-5 miles</th>\n",
              "      <td>756</td>\n",
              "    </tr>\n",
              "    <tr>\n",
              "      <th>5-7 Miles</th>\n",
              "      <td>3</td>\n",
              "    </tr>\n",
              "    <tr>\n",
              "      <th>5-7 miles</th>\n",
              "      <td>1248</td>\n",
              "    </tr>\n",
              "    <tr>\n",
              "      <th>5-7 miles</th>\n",
              "      <td>7</td>\n",
              "    </tr>\n",
              "    <tr>\n",
              "      <th>7+ Miles</th>\n",
              "      <td>13</td>\n",
              "    </tr>\n",
              "    <tr>\n",
              "      <th>7+ miles</th>\n",
              "      <td>9016</td>\n",
              "    </tr>\n",
              "    <tr>\n",
              "      <th>7+ miles</th>\n",
              "      <td>4</td>\n",
              "    </tr>\n",
              "    <tr>\n",
              "      <th>&lt; 0.25 mile</th>\n",
              "      <td>43</td>\n",
              "    </tr>\n",
              "    <tr>\n",
              "      <th>NaN</th>\n",
              "      <td>43</td>\n",
              "    </tr>\n",
              "  </tbody>\n",
              "</table>\n",
              "</div><br><label><b>dtype:</b> int64</label>"
            ],
            "text/plain": [
              "Visibility\n",
              " 1-3 miles         2\n",
              ".25-1 mile       136\n",
              "0.25-1 miles      12\n",
              "1-3 Miles          7\n",
              "1-3 miles        272\n",
              "3-5 miles        756\n",
              "5-7 Miles          3\n",
              "5-7 miles       1248\n",
              "5-7 miles          7\n",
              "7+ Miles          13\n",
              "7+ miles        9016\n",
              "7+ miles           4\n",
              "< 0.25 mile       43\n",
              "NaN               43\n",
              "Name: count, dtype: int64"
            ]
          },
          "execution_count": 111,
          "metadata": {},
          "output_type": "execute_result"
        }
      ],
      "source": [
        "df['Visibility'] \\\n",
        "  .value_counts(dropna=False) \\\n",
        "  .sort_index()"
      ]
    },
    {
      "cell_type": "markdown",
      "metadata": {
        "id": "rKRy_uThv0Iz"
      },
      "source": [
        "Then I need to filter the values that only within this pre-defined list: `['< 0.25 mile', '0.25 mile', '0.25-1 miles', '1-3 miles', '3-5 miles', '5-7 miles', '7+ miles']`. There are some outliers in the column, which I will fix before filtering:"
      ]
    },
    {
      "cell_type": "code",
      "execution_count": null,
      "metadata": {
        "id": "tNLfpXuSv0Iz"
      },
      "outputs": [],
      "source": [
        "# 1. Fix the outliers\n",
        "# Trim values\n",
        "df['Visibility'] = df['Visibility'].str.strip()\n",
        "\n",
        "# Replace values\n",
        "df.replace({\"Visibility\": {\n",
        "    '.25-1 mile': '0.25-1 miles', '1-3 Miles': '1-3 miles',\n",
        "    '5-7 Miles': '5-7 miles', '7+ Miles': '7+ miles'\n",
        "}}, inplace=True)\n",
        "\n",
        "# 2. Filter values from pre-defined list\n",
        "pre_defined_visibility_values = [\n",
        "    '< 0.25 mile', '0.25 mile', '0.25-1 miles', '1-3 miles', '3-5 miles',\n",
        "    '5-7 miles', '7+ miles'\n",
        "]\n",
        "df = df[df['Visibility'].isin(pre_defined_visibility_values)]"
      ]
    },
    {
      "cell_type": "markdown",
      "metadata": {
        "id": "zwPufbSBv0Iz"
      },
      "source": [
        "Get the overview of values in the `Visibility` column again:"
      ]
    },
    {
      "cell_type": "code",
      "execution_count": null,
      "metadata": {
        "colab": {
          "base_uri": "https://localhost:8080/",
          "height": 303
        },
        "id": "-ZFnJpp2v0Iz",
        "outputId": "6fcd98ef-e20d-499c-e147-d64ed98ed38a"
      },
      "outputs": [
        {
          "data": {
            "text/html": [
              "<div>\n",
              "<style scoped>\n",
              "    .dataframe tbody tr th:only-of-type {\n",
              "        vertical-align: middle;\n",
              "    }\n",
              "\n",
              "    .dataframe tbody tr th {\n",
              "        vertical-align: top;\n",
              "    }\n",
              "\n",
              "    .dataframe thead th {\n",
              "        text-align: right;\n",
              "    }\n",
              "</style>\n",
              "<table border=\"1\" class=\"dataframe\">\n",
              "  <thead>\n",
              "    <tr style=\"text-align: right;\">\n",
              "      <th></th>\n",
              "      <th>count</th>\n",
              "    </tr>\n",
              "    <tr>\n",
              "      <th>Visibility</th>\n",
              "      <th></th>\n",
              "    </tr>\n",
              "  </thead>\n",
              "  <tbody>\n",
              "    <tr>\n",
              "      <th>0.25-1 miles</th>\n",
              "      <td>148</td>\n",
              "    </tr>\n",
              "    <tr>\n",
              "      <th>1-3 miles</th>\n",
              "      <td>281</td>\n",
              "    </tr>\n",
              "    <tr>\n",
              "      <th>3-5 miles</th>\n",
              "      <td>756</td>\n",
              "    </tr>\n",
              "    <tr>\n",
              "      <th>5-7 miles</th>\n",
              "      <td>1258</td>\n",
              "    </tr>\n",
              "    <tr>\n",
              "      <th>7+ miles</th>\n",
              "      <td>9033</td>\n",
              "    </tr>\n",
              "    <tr>\n",
              "      <th>&lt; 0.25 mile</th>\n",
              "      <td>43</td>\n",
              "    </tr>\n",
              "  </tbody>\n",
              "</table>\n",
              "</div><br><label><b>dtype:</b> int64</label>"
            ],
            "text/plain": [
              "Visibility\n",
              "0.25-1 miles     148\n",
              "1-3 miles        281\n",
              "3-5 miles        756\n",
              "5-7 miles       1258\n",
              "7+ miles        9033\n",
              "< 0.25 mile       43\n",
              "Name: count, dtype: int64"
            ]
          },
          "execution_count": 113,
          "metadata": {},
          "output_type": "execute_result"
        }
      ],
      "source": [
        "df['Visibility'] \\\n",
        "  .value_counts(dropna=False) \\\n",
        "  .sort_index()"
      ]
    },
    {
      "cell_type": "markdown",
      "metadata": {
        "id": "YD6c5gRy3KLs"
      },
      "source": [
        "## Wind Speed"
      ]
    },
    {
      "cell_type": "markdown",
      "metadata": {
        "id": "OlxzIMKL3KLt"
      },
      "source": [
        "Wind Speed may be useful for prediction. First, I want to get an overview of values this column:"
      ]
    },
    {
      "cell_type": "code",
      "execution_count": null,
      "metadata": {
        "colab": {
          "base_uri": "https://localhost:8080/",
          "height": 397
        },
        "id": "ZGCRfDHQ3KLt",
        "outputId": "50f2d059-a2e1-4b6a-cd31-c9eb777c2f83"
      },
      "outputs": [
        {
          "data": {
            "text/html": [
              "<div>\n",
              "<style scoped>\n",
              "    .dataframe tbody tr th:only-of-type {\n",
              "        vertical-align: middle;\n",
              "    }\n",
              "\n",
              "    .dataframe tbody tr th {\n",
              "        vertical-align: top;\n",
              "    }\n",
              "\n",
              "    .dataframe thead th {\n",
              "        text-align: right;\n",
              "    }\n",
              "</style>\n",
              "<table border=\"1\" class=\"dataframe\">\n",
              "  <thead>\n",
              "    <tr style=\"text-align: right;\">\n",
              "      <th></th>\n",
              "      <th>count</th>\n",
              "    </tr>\n",
              "    <tr>\n",
              "      <th>Wind Speed</th>\n",
              "      <th></th>\n",
              "    </tr>\n",
              "  </thead>\n",
              "  <tbody>\n",
              "    <tr>\n",
              "      <th>0-5 mph</th>\n",
              "      <td>169</td>\n",
              "    </tr>\n",
              "    <tr>\n",
              "      <th>10-15 mph</th>\n",
              "      <td>4409</td>\n",
              "    </tr>\n",
              "    <tr>\n",
              "      <th>15-20 mph</th>\n",
              "      <td>1978</td>\n",
              "    </tr>\n",
              "    <tr>\n",
              "      <th>20-25 mph</th>\n",
              "      <td>332</td>\n",
              "    </tr>\n",
              "    <tr>\n",
              "      <th>25-30 mph</th>\n",
              "      <td>10</td>\n",
              "    </tr>\n",
              "    <tr>\n",
              "      <th>30+ mph</th>\n",
              "      <td>1</td>\n",
              "    </tr>\n",
              "    <tr>\n",
              "      <th>5</th>\n",
              "      <td>1</td>\n",
              "    </tr>\n",
              "    <tr>\n",
              "      <th>5-10 mph</th>\n",
              "      <td>4567</td>\n",
              "    </tr>\n",
              "    <tr>\n",
              "      <th>NaN</th>\n",
              "      <td>52</td>\n",
              "    </tr>\n",
              "  </tbody>\n",
              "</table>\n",
              "</div><br><label><b>dtype:</b> int64</label>"
            ],
            "text/plain": [
              "Wind Speed\n",
              "0-5 mph       169\n",
              "10-15 mph    4409\n",
              "15-20 mph    1978\n",
              "20-25 mph     332\n",
              "25-30 mph      10\n",
              "30+ mph         1\n",
              "5               1\n",
              "5-10 mph     4567\n",
              "NaN            52\n",
              "Name: count, dtype: int64"
            ]
          },
          "execution_count": 114,
          "metadata": {},
          "output_type": "execute_result"
        }
      ],
      "source": [
        "df['Wind Speed'] \\\n",
        "  .value_counts(dropna=False) \\\n",
        "  .sort_index()"
      ]
    },
    {
      "cell_type": "markdown",
      "metadata": {
        "id": "fYqnopsP3KLt"
      },
      "source": [
        "Then I need to filter the values that only within this pre-defined list: `['0-5 mph', '5-10 mph', '10-15 mph', '15-20 mph', '20-25 mph', '25-30 mph', '30+ mph']`. There are some outliers in the column, which I will fix before filtering:"
      ]
    },
    {
      "cell_type": "code",
      "execution_count": null,
      "metadata": {
        "id": "0e82VLbn3KLu"
      },
      "outputs": [],
      "source": [
        "# 1. Fix the outliers\n",
        "# Trim values\n",
        "df['Wind Speed'] = df['Wind Speed'].str.strip()\n",
        "\n",
        "# Replace values\n",
        "df.replace({\"Wind Speed\": {\n",
        "    '5': '5-10 mph'\n",
        "}}, inplace=True)\n",
        "\n",
        "# 2. Filter values from pre-defined list\n",
        "pre_defined_wind_speed_values = [\n",
        "    '0-5 mph', '5-10 mph', '10-15 mph', '15-20 mph', '20-25 mph',\n",
        "    '25-30 mph', '30+ mph'\n",
        "]\n",
        "df = df[df['Wind Speed'].isin(pre_defined_wind_speed_values)]"
      ]
    },
    {
      "cell_type": "markdown",
      "metadata": {
        "id": "Je7Qd0el3KLu"
      },
      "source": [
        "Get the overview of values in the `Wind Speed` column again:"
      ]
    },
    {
      "cell_type": "code",
      "execution_count": null,
      "metadata": {
        "colab": {
          "base_uri": "https://localhost:8080/",
          "height": 335
        },
        "id": "ijLb9BDu3KLu",
        "outputId": "bf044685-6406-40aa-ef25-d5cb7b8e8ebb"
      },
      "outputs": [
        {
          "data": {
            "text/html": [
              "<div>\n",
              "<style scoped>\n",
              "    .dataframe tbody tr th:only-of-type {\n",
              "        vertical-align: middle;\n",
              "    }\n",
              "\n",
              "    .dataframe tbody tr th {\n",
              "        vertical-align: top;\n",
              "    }\n",
              "\n",
              "    .dataframe thead th {\n",
              "        text-align: right;\n",
              "    }\n",
              "</style>\n",
              "<table border=\"1\" class=\"dataframe\">\n",
              "  <thead>\n",
              "    <tr style=\"text-align: right;\">\n",
              "      <th></th>\n",
              "      <th>count</th>\n",
              "    </tr>\n",
              "    <tr>\n",
              "      <th>Wind Speed</th>\n",
              "      <th></th>\n",
              "    </tr>\n",
              "  </thead>\n",
              "  <tbody>\n",
              "    <tr>\n",
              "      <th>0-5 mph</th>\n",
              "      <td>169</td>\n",
              "    </tr>\n",
              "    <tr>\n",
              "      <th>10-15 mph</th>\n",
              "      <td>4409</td>\n",
              "    </tr>\n",
              "    <tr>\n",
              "      <th>15-20 mph</th>\n",
              "      <td>1978</td>\n",
              "    </tr>\n",
              "    <tr>\n",
              "      <th>20-25 mph</th>\n",
              "      <td>332</td>\n",
              "    </tr>\n",
              "    <tr>\n",
              "      <th>25-30 mph</th>\n",
              "      <td>10</td>\n",
              "    </tr>\n",
              "    <tr>\n",
              "      <th>30+ mph</th>\n",
              "      <td>1</td>\n",
              "    </tr>\n",
              "    <tr>\n",
              "      <th>5-10 mph</th>\n",
              "      <td>4568</td>\n",
              "    </tr>\n",
              "  </tbody>\n",
              "</table>\n",
              "</div><br><label><b>dtype:</b> int64</label>"
            ],
            "text/plain": [
              "Wind Speed\n",
              "0-5 mph       169\n",
              "10-15 mph    4409\n",
              "15-20 mph    1978\n",
              "20-25 mph     332\n",
              "25-30 mph      10\n",
              "30+ mph         1\n",
              "5-10 mph     4568\n",
              "Name: count, dtype: int64"
            ]
          },
          "execution_count": 116,
          "metadata": {},
          "output_type": "execute_result"
        }
      ],
      "source": [
        "df['Wind Speed'] \\\n",
        "  .value_counts(dropna=False) \\\n",
        "  .sort_index()"
      ]
    },
    {
      "cell_type": "markdown",
      "metadata": {
        "id": "sHFxdALM5nOv"
      },
      "source": [
        "## Sea Height"
      ]
    },
    {
      "cell_type": "markdown",
      "metadata": {
        "id": "cglbQ-pq5nOv"
      },
      "source": [
        "Sea Height may be useful for prediction. First, I want to get an overview of values this column:"
      ]
    },
    {
      "cell_type": "code",
      "execution_count": null,
      "metadata": {
        "colab": {
          "base_uri": "https://localhost:8080/",
          "height": 585
        },
        "id": "yEBFXsOi5nOv",
        "outputId": "e6d5ea49-522f-4849-9968-a46d22ceed26"
      },
      "outputs": [
        {
          "data": {
            "text/html": [
              "<div>\n",
              "<style scoped>\n",
              "    .dataframe tbody tr th:only-of-type {\n",
              "        vertical-align: middle;\n",
              "    }\n",
              "\n",
              "    .dataframe tbody tr th {\n",
              "        vertical-align: top;\n",
              "    }\n",
              "\n",
              "    .dataframe thead th {\n",
              "        text-align: right;\n",
              "    }\n",
              "</style>\n",
              "<table border=\"1\" class=\"dataframe\">\n",
              "  <thead>\n",
              "    <tr style=\"text-align: right;\">\n",
              "      <th></th>\n",
              "      <th>count</th>\n",
              "    </tr>\n",
              "    <tr>\n",
              "      <th>Sea Height</th>\n",
              "      <th></th>\n",
              "    </tr>\n",
              "  </thead>\n",
              "  <tbody>\n",
              "    <tr>\n",
              "      <th>1'-2'</th>\n",
              "      <td>12</td>\n",
              "    </tr>\n",
              "    <tr>\n",
              "      <th>3\"-1'</th>\n",
              "      <td>7</td>\n",
              "    </tr>\n",
              "    <tr>\n",
              "      <th>3\"-1'</th>\n",
              "      <td>11</td>\n",
              "    </tr>\n",
              "    <tr>\n",
              "      <th>Catpaw</th>\n",
              "      <td>3</td>\n",
              "    </tr>\n",
              "    <tr>\n",
              "      <th>1'-2'</th>\n",
              "      <td>3521</td>\n",
              "    </tr>\n",
              "    <tr>\n",
              "      <th>2'-3'</th>\n",
              "      <td>1</td>\n",
              "    </tr>\n",
              "    <tr>\n",
              "      <th>2'-4'</th>\n",
              "      <td>6720</td>\n",
              "    </tr>\n",
              "    <tr>\n",
              "      <th>2'-4'</th>\n",
              "      <td>4</td>\n",
              "    </tr>\n",
              "    <tr>\n",
              "      <th>3\"-1'</th>\n",
              "      <td>455</td>\n",
              "    </tr>\n",
              "    <tr>\n",
              "      <th>4'-6'</th>\n",
              "      <td>520</td>\n",
              "    </tr>\n",
              "    <tr>\n",
              "      <th>6'+</th>\n",
              "      <td>5</td>\n",
              "    </tr>\n",
              "    <tr>\n",
              "      <th>CatPaw</th>\n",
              "      <td>1</td>\n",
              "    </tr>\n",
              "    <tr>\n",
              "      <th>Catpaw</th>\n",
              "      <td>145</td>\n",
              "    </tr>\n",
              "    <tr>\n",
              "      <th>Glass</th>\n",
              "      <td>40</td>\n",
              "    </tr>\n",
              "    <tr>\n",
              "      <th>NaN</th>\n",
              "      <td>22</td>\n",
              "    </tr>\n",
              "  </tbody>\n",
              "</table>\n",
              "</div><br><label><b>dtype:</b> int64</label>"
            ],
            "text/plain": [
              "Sea Height\n",
              " 1'-2'       12\n",
              " 3\"-1'        7\n",
              " 3\"-1'       11\n",
              " Catpaw       3\n",
              "1'-2'      3521\n",
              "2'-3'         1\n",
              "2'-4'      6720\n",
              "2'-4'         4\n",
              "3\"-1'       455\n",
              "4'-6'       520\n",
              "6'+           5\n",
              "CatPaw        1\n",
              "Catpaw      145\n",
              "Glass        40\n",
              "NaN          22\n",
              "Name: count, dtype: int64"
            ]
          },
          "execution_count": 117,
          "metadata": {},
          "output_type": "execute_result"
        }
      ],
      "source": [
        "df['Sea Height'] \\\n",
        "  .value_counts(dropna=False) \\\n",
        "  .sort_index()"
      ]
    },
    {
      "cell_type": "markdown",
      "metadata": {
        "id": "NuME6G-25nOv"
      },
      "source": [
        "Then I need to filter the values that only within this pre-defined list: `[\"Glass\", \"Catpaw\", \"3\\\"-1'\", \"1'-2'\", \"2'-4'\", \"4'-6'\", \"6'+\"]`. There are some outliers in the column, which I will fix before filtering:"
      ]
    },
    {
      "cell_type": "code",
      "execution_count": null,
      "metadata": {
        "id": "0p1koTGk5nOw"
      },
      "outputs": [],
      "source": [
        "# 1. Fix the outliers\n",
        "# Trim values\n",
        "df['Sea Height'] = df['Sea Height'].str.strip()\n",
        "\n",
        "# Replace values\n",
        "df.replace({\"Sea Height\": {\n",
        "    'CatPaw': 'Catpaw', \"2'-3'\": \"2'-4'\"\n",
        "}}, inplace=True)\n",
        "\n",
        "# 2. Filter values from pre-defined list\n",
        "pre_defined_sea_height_values = [\n",
        "    \"Glass\", \"Catpaw\", \"3\\\"-1'\", \"1'-2'\", \"2'-4'\", \"4'-6'\", \"6'+\"\n",
        "]\n",
        "df = df[df['Sea Height'].isin(pre_defined_sea_height_values)]"
      ]
    },
    {
      "cell_type": "markdown",
      "metadata": {
        "id": "aDsvT65K5nOw"
      },
      "source": [
        "Get the overview of values in the `Sea Height` column again:"
      ]
    },
    {
      "cell_type": "code",
      "execution_count": null,
      "metadata": {
        "colab": {
          "base_uri": "https://localhost:8080/",
          "height": 335
        },
        "id": "CVQfL6a45nOw",
        "outputId": "88c85e10-3f04-4626-f68e-3b737ba9b676"
      },
      "outputs": [
        {
          "data": {
            "text/html": [
              "<div>\n",
              "<style scoped>\n",
              "    .dataframe tbody tr th:only-of-type {\n",
              "        vertical-align: middle;\n",
              "    }\n",
              "\n",
              "    .dataframe tbody tr th {\n",
              "        vertical-align: top;\n",
              "    }\n",
              "\n",
              "    .dataframe thead th {\n",
              "        text-align: right;\n",
              "    }\n",
              "</style>\n",
              "<table border=\"1\" class=\"dataframe\">\n",
              "  <thead>\n",
              "    <tr style=\"text-align: right;\">\n",
              "      <th></th>\n",
              "      <th>count</th>\n",
              "    </tr>\n",
              "    <tr>\n",
              "      <th>Sea Height</th>\n",
              "      <th></th>\n",
              "    </tr>\n",
              "  </thead>\n",
              "  <tbody>\n",
              "    <tr>\n",
              "      <th>2'-4'</th>\n",
              "      <td>6725</td>\n",
              "    </tr>\n",
              "    <tr>\n",
              "      <th>1'-2'</th>\n",
              "      <td>3533</td>\n",
              "    </tr>\n",
              "    <tr>\n",
              "      <th>4'-6'</th>\n",
              "      <td>520</td>\n",
              "    </tr>\n",
              "    <tr>\n",
              "      <th>3\"-1'</th>\n",
              "      <td>473</td>\n",
              "    </tr>\n",
              "    <tr>\n",
              "      <th>Catpaw</th>\n",
              "      <td>149</td>\n",
              "    </tr>\n",
              "    <tr>\n",
              "      <th>Glass</th>\n",
              "      <td>40</td>\n",
              "    </tr>\n",
              "    <tr>\n",
              "      <th>6'+</th>\n",
              "      <td>5</td>\n",
              "    </tr>\n",
              "  </tbody>\n",
              "</table>\n",
              "</div><br><label><b>dtype:</b> int64</label>"
            ],
            "text/plain": [
              "Sea Height\n",
              "2'-4'     6725\n",
              "1'-2'     3533\n",
              "4'-6'      520\n",
              "3\"-1'      473\n",
              "Catpaw     149\n",
              "Glass       40\n",
              "6'+          5\n",
              "Name: count, dtype: int64"
            ]
          },
          "execution_count": 119,
          "metadata": {},
          "output_type": "execute_result"
        }
      ],
      "source": [
        "df['Sea Height'].value_counts()"
      ]
    },
    {
      "cell_type": "markdown",
      "metadata": {
        "id": "w0_1U3s6NohD"
      },
      "source": [
        "## Swell Height"
      ]
    },
    {
      "cell_type": "markdown",
      "metadata": {
        "id": "RCnt-jDXNohE"
      },
      "source": [
        "Sea Height may be useful for prediction. First, I want to get an overview of values this column:"
      ]
    },
    {
      "cell_type": "code",
      "execution_count": null,
      "metadata": {
        "colab": {
          "base_uri": "https://localhost:8080/",
          "height": 303
        },
        "id": "lfwpWPK4NohE",
        "outputId": "0045048c-c1cb-41bc-87e0-ae6c1829160f"
      },
      "outputs": [
        {
          "data": {
            "text/html": [
              "<div>\n",
              "<style scoped>\n",
              "    .dataframe tbody tr th:only-of-type {\n",
              "        vertical-align: middle;\n",
              "    }\n",
              "\n",
              "    .dataframe tbody tr th {\n",
              "        vertical-align: top;\n",
              "    }\n",
              "\n",
              "    .dataframe thead th {\n",
              "        text-align: right;\n",
              "    }\n",
              "</style>\n",
              "<table border=\"1\" class=\"dataframe\">\n",
              "  <thead>\n",
              "    <tr style=\"text-align: right;\">\n",
              "      <th></th>\n",
              "      <th>count</th>\n",
              "    </tr>\n",
              "    <tr>\n",
              "      <th>Swell Height</th>\n",
              "      <th></th>\n",
              "    </tr>\n",
              "  </thead>\n",
              "  <tbody>\n",
              "    <tr>\n",
              "      <th>1'-2'</th>\n",
              "      <td>3</td>\n",
              "    </tr>\n",
              "    <tr>\n",
              "      <th>2'-4'</th>\n",
              "      <td>7</td>\n",
              "    </tr>\n",
              "    <tr>\n",
              "      <th>1'-2'</th>\n",
              "      <td>3118</td>\n",
              "    </tr>\n",
              "    <tr>\n",
              "      <th>2'-4'</th>\n",
              "      <td>7487</td>\n",
              "    </tr>\n",
              "    <tr>\n",
              "      <th>4'-6'</th>\n",
              "      <td>792</td>\n",
              "    </tr>\n",
              "    <tr>\n",
              "      <th>NaN</th>\n",
              "      <td>38</td>\n",
              "    </tr>\n",
              "  </tbody>\n",
              "</table>\n",
              "</div><br><label><b>dtype:</b> int64</label>"
            ],
            "text/plain": [
              "Swell Height\n",
              " 1'-2'       3\n",
              " 2'-4'       7\n",
              "1'-2'     3118\n",
              "2'-4'     7487\n",
              "4'-6'      792\n",
              "NaN         38\n",
              "Name: count, dtype: int64"
            ]
          },
          "execution_count": 120,
          "metadata": {},
          "output_type": "execute_result"
        }
      ],
      "source": [
        "df['Swell Height'] \\\n",
        "  .value_counts(dropna=False) \\\n",
        "  .sort_index()"
      ]
    },
    {
      "cell_type": "markdown",
      "metadata": {
        "id": "eEDss_t7NohE"
      },
      "source": [
        "Then I need to filter the values that only within this pre-defined list: `[\"None\", \"1'-2'\", \"2'-4'\", \"4'-6'\", \"6'-8'\"]`. There are some outliers in the column, which I will fix before filtering:"
      ]
    },
    {
      "cell_type": "code",
      "execution_count": null,
      "metadata": {
        "id": "c7LTjFXaNohE"
      },
      "outputs": [],
      "source": [
        "# 1. Fix the outliers\n",
        "# Trim values\n",
        "df['Swell Height'] = df['Swell Height'].str.strip()\n",
        "\n",
        "# 2. Filter values from pre-defined list\n",
        "pre_defined_swell_height_values = [\"None\", \"1'-2'\", \"2'-4'\", \"4'-6'\", \"6'-8'\"]\n",
        "df = df[df['Swell Height'].isin(pre_defined_swell_height_values)]"
      ]
    },
    {
      "cell_type": "markdown",
      "metadata": {
        "id": "aL36BGkcNohF"
      },
      "source": [
        "Get the overview of values in the `Swell Height` column again:"
      ]
    },
    {
      "cell_type": "code",
      "execution_count": null,
      "metadata": {
        "colab": {
          "base_uri": "https://localhost:8080/",
          "height": 209
        },
        "id": "Yy8lXEcgNohF",
        "outputId": "44b51c51-c3f7-485b-dd3f-5ff42607af05"
      },
      "outputs": [
        {
          "data": {
            "text/html": [
              "<div>\n",
              "<style scoped>\n",
              "    .dataframe tbody tr th:only-of-type {\n",
              "        vertical-align: middle;\n",
              "    }\n",
              "\n",
              "    .dataframe tbody tr th {\n",
              "        vertical-align: top;\n",
              "    }\n",
              "\n",
              "    .dataframe thead th {\n",
              "        text-align: right;\n",
              "    }\n",
              "</style>\n",
              "<table border=\"1\" class=\"dataframe\">\n",
              "  <thead>\n",
              "    <tr style=\"text-align: right;\">\n",
              "      <th></th>\n",
              "      <th>count</th>\n",
              "    </tr>\n",
              "    <tr>\n",
              "      <th>Swell Height</th>\n",
              "      <th></th>\n",
              "    </tr>\n",
              "  </thead>\n",
              "  <tbody>\n",
              "    <tr>\n",
              "      <th>1'-2'</th>\n",
              "      <td>3121</td>\n",
              "    </tr>\n",
              "    <tr>\n",
              "      <th>2'-4'</th>\n",
              "      <td>7494</td>\n",
              "    </tr>\n",
              "    <tr>\n",
              "      <th>4'-6'</th>\n",
              "      <td>792</td>\n",
              "    </tr>\n",
              "  </tbody>\n",
              "</table>\n",
              "</div><br><label><b>dtype:</b> int64</label>"
            ],
            "text/plain": [
              "Swell Height\n",
              "1'-2'    3121\n",
              "2'-4'    7494\n",
              "4'-6'     792\n",
              "Name: count, dtype: int64"
            ]
          },
          "execution_count": 122,
          "metadata": {},
          "output_type": "execute_result"
        }
      ],
      "source": [
        "df['Swell Height'] \\\n",
        "  .value_counts(dropna=False) \\\n",
        "  .sort_index()"
      ]
    },
    {
      "cell_type": "markdown",
      "metadata": {
        "id": "x-j43VESOvp7"
      },
      "source": [
        "## Wind Direction"
      ]
    },
    {
      "cell_type": "markdown",
      "metadata": {
        "id": "SCPQ6ksGOvp7"
      },
      "source": [
        "Wind Direction may be useful for prediction. First, I want to get an overview of values this column:"
      ]
    },
    {
      "cell_type": "code",
      "execution_count": null,
      "metadata": {
        "colab": {
          "base_uri": "https://localhost:8080/",
          "height": 1000
        },
        "id": "YbFv6HniOvp7",
        "outputId": "a52a28ed-a518-4c70-f084-cbd4c64392b8"
      },
      "outputs": [
        {
          "data": {
            "text/html": [
              "<div>\n",
              "<style scoped>\n",
              "    .dataframe tbody tr th:only-of-type {\n",
              "        vertical-align: middle;\n",
              "    }\n",
              "\n",
              "    .dataframe tbody tr th {\n",
              "        vertical-align: top;\n",
              "    }\n",
              "\n",
              "    .dataframe thead th {\n",
              "        text-align: right;\n",
              "    }\n",
              "</style>\n",
              "<table border=\"1\" class=\"dataframe\">\n",
              "  <thead>\n",
              "    <tr style=\"text-align: right;\">\n",
              "      <th></th>\n",
              "      <th>count</th>\n",
              "    </tr>\n",
              "    <tr>\n",
              "      <th>Wind Direction</th>\n",
              "      <th></th>\n",
              "    </tr>\n",
              "  </thead>\n",
              "  <tbody>\n",
              "    <tr>\n",
              "      <th>E</th>\n",
              "      <td>908</td>\n",
              "    </tr>\n",
              "    <tr>\n",
              "      <th>ENE</th>\n",
              "      <td>19</td>\n",
              "    </tr>\n",
              "    <tr>\n",
              "      <th>ESE</th>\n",
              "      <td>18</td>\n",
              "    </tr>\n",
              "    <tr>\n",
              "      <th>N</th>\n",
              "      <td>347</td>\n",
              "    </tr>\n",
              "    <tr>\n",
              "      <th>NE</th>\n",
              "      <td>1231</td>\n",
              "    </tr>\n",
              "    <tr>\n",
              "      <th>NNE</th>\n",
              "      <td>10</td>\n",
              "    </tr>\n",
              "    <tr>\n",
              "      <th>NNW</th>\n",
              "      <td>35</td>\n",
              "    </tr>\n",
              "    <tr>\n",
              "      <th>NW</th>\n",
              "      <td>2054</td>\n",
              "    </tr>\n",
              "    <tr>\n",
              "      <th>NW-SW</th>\n",
              "      <td>6</td>\n",
              "    </tr>\n",
              "    <tr>\n",
              "      <th>Nw</th>\n",
              "      <td>3</td>\n",
              "    </tr>\n",
              "    <tr>\n",
              "      <th>S</th>\n",
              "      <td>1829</td>\n",
              "    </tr>\n",
              "    <tr>\n",
              "      <th>SE</th>\n",
              "      <td>1441</td>\n",
              "    </tr>\n",
              "    <tr>\n",
              "      <th>SE - SW</th>\n",
              "      <td>5</td>\n",
              "    </tr>\n",
              "    <tr>\n",
              "      <th>SE-NW</th>\n",
              "      <td>5</td>\n",
              "    </tr>\n",
              "    <tr>\n",
              "      <th>SSE</th>\n",
              "      <td>9</td>\n",
              "    </tr>\n",
              "    <tr>\n",
              "      <th>SSW</th>\n",
              "      <td>54</td>\n",
              "    </tr>\n",
              "    <tr>\n",
              "      <th>SSw</th>\n",
              "      <td>6</td>\n",
              "    </tr>\n",
              "    <tr>\n",
              "      <th>SW</th>\n",
              "      <td>1651</td>\n",
              "    </tr>\n",
              "    <tr>\n",
              "      <th>Se</th>\n",
              "      <td>4</td>\n",
              "    </tr>\n",
              "    <tr>\n",
              "      <th>Sw</th>\n",
              "      <td>6</td>\n",
              "    </tr>\n",
              "    <tr>\n",
              "      <th>Variable</th>\n",
              "      <td>30</td>\n",
              "    </tr>\n",
              "    <tr>\n",
              "      <th>W</th>\n",
              "      <td>1603</td>\n",
              "    </tr>\n",
              "    <tr>\n",
              "      <th>W by S</th>\n",
              "      <td>2</td>\n",
              "    </tr>\n",
              "    <tr>\n",
              "      <th>WNW</th>\n",
              "      <td>40</td>\n",
              "    </tr>\n",
              "    <tr>\n",
              "      <th>WSW</th>\n",
              "      <td>24</td>\n",
              "    </tr>\n",
              "    <tr>\n",
              "      <th>WWS</th>\n",
              "      <td>10</td>\n",
              "    </tr>\n",
              "    <tr>\n",
              "      <th>ne</th>\n",
              "      <td>3</td>\n",
              "    </tr>\n",
              "    <tr>\n",
              "      <th>w</th>\n",
              "      <td>3</td>\n",
              "    </tr>\n",
              "    <tr>\n",
              "      <th>NaN</th>\n",
              "      <td>51</td>\n",
              "    </tr>\n",
              "  </tbody>\n",
              "</table>\n",
              "</div><br><label><b>dtype:</b> int64</label>"
            ],
            "text/plain": [
              "Wind Direction\n",
              "E            908\n",
              "ENE           19\n",
              "ESE           18\n",
              "N            347\n",
              "NE          1231\n",
              "NNE           10\n",
              "NNW           35\n",
              "NW          2054\n",
              "NW-SW          6\n",
              "Nw             3\n",
              "S           1829\n",
              "SE          1441\n",
              "SE - SW        5\n",
              "SE-NW          5\n",
              "SSE            9\n",
              "SSW           54\n",
              "SSw            6\n",
              "SW          1651\n",
              "Se             4\n",
              "Sw             6\n",
              "Variable      30\n",
              "W           1603\n",
              "W by S         2\n",
              "WNW           40\n",
              "WSW           24\n",
              "WWS           10\n",
              "ne             3\n",
              "w              3\n",
              "NaN           51\n",
              "Name: count, dtype: int64"
            ]
          },
          "execution_count": 123,
          "metadata": {},
          "output_type": "execute_result"
        }
      ],
      "source": [
        "df['Wind Direction'] \\\n",
        "  .value_counts(dropna=False) \\\n",
        "  .sort_index()"
      ]
    },
    {
      "cell_type": "markdown",
      "metadata": {
        "id": "ap-RtgOtOvp7"
      },
      "source": [
        "Then I need to filter the values that only within this pre-defined list: `['N', 'NE', 'NW', 'S', 'SE', 'SW', 'E', 'W', 'ENE', 'ESE', 'WNW', 'WSW', 'SSW', 'NNW', 'NNE', 'SSE']`. There are some outliers in the column, which I will fix before filtering:"
      ]
    },
    {
      "cell_type": "code",
      "execution_count": null,
      "metadata": {
        "id": "DKPyC8IpOvp7"
      },
      "outputs": [],
      "source": [
        "# 1. Fix the outliers\n",
        "# Trim values\n",
        "df['Wind Direction'] = df['Wind Direction'].str.strip()\n",
        "\n",
        "# Replace values\n",
        "df.replace({\"Wind Direction\": {\n",
        "    'WWS': 'WSW', 'Sw': 'SW', 'SSw': 'SSW', 'Se': 'SE', 'Nw': 'NW', 'w': 'W',\n",
        "    'ne': 'NE'\n",
        "}}, inplace=True)\n",
        "\n",
        "# 2. Filter values from pre-defined list\n",
        "pre_defined_direction_values = [\n",
        "    'N', 'NE', 'NW', 'S', 'SE', 'SW', 'E', 'W', 'ENE', 'ESE', 'WNW', 'WSW',\n",
        "    'SSW', 'NNW', 'NNE', 'SSE'\n",
        "]\n",
        "df = df[df['Wind Direction'].isin(pre_defined_direction_values)]"
      ]
    },
    {
      "cell_type": "markdown",
      "metadata": {
        "id": "1xl-4wnaOvp8"
      },
      "source": [
        "Get the overview of values in the `Wind Direction` column again:"
      ]
    },
    {
      "cell_type": "code",
      "execution_count": null,
      "metadata": {
        "colab": {
          "base_uri": "https://localhost:8080/",
          "height": 617
        },
        "id": "NVYdAmqnOvp8",
        "outputId": "ebe2adce-28e9-4625-f684-7a5a3c6964e9"
      },
      "outputs": [
        {
          "data": {
            "text/html": [
              "<div>\n",
              "<style scoped>\n",
              "    .dataframe tbody tr th:only-of-type {\n",
              "        vertical-align: middle;\n",
              "    }\n",
              "\n",
              "    .dataframe tbody tr th {\n",
              "        vertical-align: top;\n",
              "    }\n",
              "\n",
              "    .dataframe thead th {\n",
              "        text-align: right;\n",
              "    }\n",
              "</style>\n",
              "<table border=\"1\" class=\"dataframe\">\n",
              "  <thead>\n",
              "    <tr style=\"text-align: right;\">\n",
              "      <th></th>\n",
              "      <th>count</th>\n",
              "    </tr>\n",
              "    <tr>\n",
              "      <th>Wind Direction</th>\n",
              "      <th></th>\n",
              "    </tr>\n",
              "  </thead>\n",
              "  <tbody>\n",
              "    <tr>\n",
              "      <th>E</th>\n",
              "      <td>908</td>\n",
              "    </tr>\n",
              "    <tr>\n",
              "      <th>ENE</th>\n",
              "      <td>19</td>\n",
              "    </tr>\n",
              "    <tr>\n",
              "      <th>ESE</th>\n",
              "      <td>18</td>\n",
              "    </tr>\n",
              "    <tr>\n",
              "      <th>N</th>\n",
              "      <td>347</td>\n",
              "    </tr>\n",
              "    <tr>\n",
              "      <th>NE</th>\n",
              "      <td>1234</td>\n",
              "    </tr>\n",
              "    <tr>\n",
              "      <th>NNE</th>\n",
              "      <td>10</td>\n",
              "    </tr>\n",
              "    <tr>\n",
              "      <th>NNW</th>\n",
              "      <td>35</td>\n",
              "    </tr>\n",
              "    <tr>\n",
              "      <th>NW</th>\n",
              "      <td>2057</td>\n",
              "    </tr>\n",
              "    <tr>\n",
              "      <th>S</th>\n",
              "      <td>1829</td>\n",
              "    </tr>\n",
              "    <tr>\n",
              "      <th>SE</th>\n",
              "      <td>1445</td>\n",
              "    </tr>\n",
              "    <tr>\n",
              "      <th>SSE</th>\n",
              "      <td>9</td>\n",
              "    </tr>\n",
              "    <tr>\n",
              "      <th>SSW</th>\n",
              "      <td>60</td>\n",
              "    </tr>\n",
              "    <tr>\n",
              "      <th>SW</th>\n",
              "      <td>1657</td>\n",
              "    </tr>\n",
              "    <tr>\n",
              "      <th>W</th>\n",
              "      <td>1606</td>\n",
              "    </tr>\n",
              "    <tr>\n",
              "      <th>WNW</th>\n",
              "      <td>40</td>\n",
              "    </tr>\n",
              "    <tr>\n",
              "      <th>WSW</th>\n",
              "      <td>34</td>\n",
              "    </tr>\n",
              "  </tbody>\n",
              "</table>\n",
              "</div><br><label><b>dtype:</b> int64</label>"
            ],
            "text/plain": [
              "Wind Direction\n",
              "E       908\n",
              "ENE      19\n",
              "ESE      18\n",
              "N       347\n",
              "NE     1234\n",
              "NNE      10\n",
              "NNW      35\n",
              "NW     2057\n",
              "S      1829\n",
              "SE     1445\n",
              "SSE       9\n",
              "SSW      60\n",
              "SW     1657\n",
              "W      1606\n",
              "WNW      40\n",
              "WSW      34\n",
              "Name: count, dtype: int64"
            ]
          },
          "execution_count": 125,
          "metadata": {},
          "output_type": "execute_result"
        }
      ],
      "source": [
        "df['Wind Direction'] \\\n",
        "  .value_counts(dropna=False) \\\n",
        "  .sort_index()"
      ]
    },
    {
      "cell_type": "markdown",
      "metadata": {
        "id": "4d9cvOx7TRfe"
      },
      "source": [
        "## Swell Direction"
      ]
    },
    {
      "cell_type": "markdown",
      "metadata": {
        "id": "ptQ3OvUhTRfe"
      },
      "source": [
        "Swell Direction may be useful for prediction. First, I want to get an overview of values this column:"
      ]
    },
    {
      "cell_type": "code",
      "execution_count": null,
      "metadata": {
        "colab": {
          "base_uri": "https://localhost:8080/",
          "height": 742
        },
        "id": "mOXuBC84TRff",
        "outputId": "75525e1b-a0fa-40b7-a530-efc0958591c0"
      },
      "outputs": [
        {
          "data": {
            "text/html": [
              "<div>\n",
              "<style scoped>\n",
              "    .dataframe tbody tr th:only-of-type {\n",
              "        vertical-align: middle;\n",
              "    }\n",
              "\n",
              "    .dataframe tbody tr th {\n",
              "        vertical-align: top;\n",
              "    }\n",
              "\n",
              "    .dataframe thead th {\n",
              "        text-align: right;\n",
              "    }\n",
              "</style>\n",
              "<table border=\"1\" class=\"dataframe\">\n",
              "  <thead>\n",
              "    <tr style=\"text-align: right;\">\n",
              "      <th></th>\n",
              "      <th>count</th>\n",
              "    </tr>\n",
              "    <tr>\n",
              "      <th>Swell Direction</th>\n",
              "      <th></th>\n",
              "    </tr>\n",
              "  </thead>\n",
              "  <tbody>\n",
              "    <tr>\n",
              "      <th>E</th>\n",
              "      <td>1831</td>\n",
              "    </tr>\n",
              "    <tr>\n",
              "      <th>ENE</th>\n",
              "      <td>1</td>\n",
              "    </tr>\n",
              "    <tr>\n",
              "      <th>ESE</th>\n",
              "      <td>51</td>\n",
              "    </tr>\n",
              "    <tr>\n",
              "      <th>N</th>\n",
              "      <td>21</td>\n",
              "    </tr>\n",
              "    <tr>\n",
              "      <th>NE</th>\n",
              "      <td>80</td>\n",
              "    </tr>\n",
              "    <tr>\n",
              "      <th>NNW</th>\n",
              "      <td>2</td>\n",
              "    </tr>\n",
              "    <tr>\n",
              "      <th>NW</th>\n",
              "      <td>115</td>\n",
              "    </tr>\n",
              "    <tr>\n",
              "      <th>S</th>\n",
              "      <td>3484</td>\n",
              "    </tr>\n",
              "    <tr>\n",
              "      <th>SE</th>\n",
              "      <td>4291</td>\n",
              "    </tr>\n",
              "    <tr>\n",
              "      <th>SNW</th>\n",
              "      <td>3</td>\n",
              "    </tr>\n",
              "    <tr>\n",
              "      <th>SSE</th>\n",
              "      <td>51</td>\n",
              "    </tr>\n",
              "    <tr>\n",
              "      <th>SSW</th>\n",
              "      <td>31</td>\n",
              "    </tr>\n",
              "    <tr>\n",
              "      <th>SSw</th>\n",
              "      <td>1</td>\n",
              "    </tr>\n",
              "    <tr>\n",
              "      <th>SW</th>\n",
              "      <td>1109</td>\n",
              "    </tr>\n",
              "    <tr>\n",
              "      <th>Se</th>\n",
              "      <td>7</td>\n",
              "    </tr>\n",
              "    <tr>\n",
              "      <th>Sw</th>\n",
              "      <td>3</td>\n",
              "    </tr>\n",
              "    <tr>\n",
              "      <th>W</th>\n",
              "      <td>191</td>\n",
              "    </tr>\n",
              "    <tr>\n",
              "      <th>e</th>\n",
              "      <td>6</td>\n",
              "    </tr>\n",
              "    <tr>\n",
              "      <th>w</th>\n",
              "      <td>3</td>\n",
              "    </tr>\n",
              "    <tr>\n",
              "      <th>NaN</th>\n",
              "      <td>27</td>\n",
              "    </tr>\n",
              "  </tbody>\n",
              "</table>\n",
              "</div><br><label><b>dtype:</b> int64</label>"
            ],
            "text/plain": [
              "Swell Direction\n",
              "E      1831\n",
              "ENE       1\n",
              "ESE      51\n",
              "N        21\n",
              "NE       80\n",
              "NNW       2\n",
              "NW      115\n",
              "S      3484\n",
              "SE     4291\n",
              "SNW       3\n",
              "SSE      51\n",
              "SSW      31\n",
              "SSw       1\n",
              "SW     1109\n",
              "Se        7\n",
              "Sw        3\n",
              "W       191\n",
              "e         6\n",
              "w         3\n",
              "NaN      27\n",
              "Name: count, dtype: int64"
            ]
          },
          "execution_count": 126,
          "metadata": {},
          "output_type": "execute_result"
        }
      ],
      "source": [
        "df['Swell Direction'] \\\n",
        "  .value_counts(dropna=False) \\\n",
        "  .sort_index()"
      ]
    },
    {
      "cell_type": "markdown",
      "metadata": {
        "id": "a8JunrkTTRff"
      },
      "source": [
        "Then I need to filter the values that only within this pre-defined list: `[\n",
        "    'N', 'NE', 'NW', 'S', 'SE', 'SW', 'E', 'W', 'ENE', 'ESE', 'WNW', 'WSW',\n",
        "    'SSW', 'NNW', 'NNE', 'SSE'\n",
        "]`. There are some outliers in the column, which I will fix before filtering:"
      ]
    },
    {
      "cell_type": "code",
      "execution_count": null,
      "metadata": {
        "id": "HVK-FvLqTRff"
      },
      "outputs": [],
      "source": [
        "# 1. Fix the outliers\n",
        "# Trim values\n",
        "df['Swell Direction'] = df['Swell Direction'].str.strip()\n",
        "\n",
        "# Replace values\n",
        "df.replace({\"Swell Direction\": {\n",
        "    'Sw': 'SW', 'SSw': 'SSW', 'Se': 'SE', 'e': 'E', 'w': 'W'\n",
        "}}, inplace=True)\n",
        "\n",
        "# 2. Filter values from pre-defined list\n",
        "df = df[df['Swell Direction'].isin(pre_defined_direction_values)]"
      ]
    },
    {
      "cell_type": "markdown",
      "metadata": {
        "id": "MQuDO3bLTRff"
      },
      "source": [
        "Get the overview of values in the `Swell Direction` column again:"
      ]
    },
    {
      "cell_type": "code",
      "execution_count": null,
      "metadata": {
        "colab": {
          "base_uri": "https://localhost:8080/",
          "height": 523
        },
        "id": "kigoHDiKTRff",
        "outputId": "1fff31fc-4af1-4b36-a247-d209a10fadf4"
      },
      "outputs": [
        {
          "data": {
            "text/html": [
              "<div>\n",
              "<style scoped>\n",
              "    .dataframe tbody tr th:only-of-type {\n",
              "        vertical-align: middle;\n",
              "    }\n",
              "\n",
              "    .dataframe tbody tr th {\n",
              "        vertical-align: top;\n",
              "    }\n",
              "\n",
              "    .dataframe thead th {\n",
              "        text-align: right;\n",
              "    }\n",
              "</style>\n",
              "<table border=\"1\" class=\"dataframe\">\n",
              "  <thead>\n",
              "    <tr style=\"text-align: right;\">\n",
              "      <th></th>\n",
              "      <th>count</th>\n",
              "    </tr>\n",
              "    <tr>\n",
              "      <th>Swell Direction</th>\n",
              "      <th></th>\n",
              "    </tr>\n",
              "  </thead>\n",
              "  <tbody>\n",
              "    <tr>\n",
              "      <th>E</th>\n",
              "      <td>1837</td>\n",
              "    </tr>\n",
              "    <tr>\n",
              "      <th>ENE</th>\n",
              "      <td>1</td>\n",
              "    </tr>\n",
              "    <tr>\n",
              "      <th>ESE</th>\n",
              "      <td>51</td>\n",
              "    </tr>\n",
              "    <tr>\n",
              "      <th>N</th>\n",
              "      <td>21</td>\n",
              "    </tr>\n",
              "    <tr>\n",
              "      <th>NE</th>\n",
              "      <td>80</td>\n",
              "    </tr>\n",
              "    <tr>\n",
              "      <th>NNW</th>\n",
              "      <td>2</td>\n",
              "    </tr>\n",
              "    <tr>\n",
              "      <th>NW</th>\n",
              "      <td>115</td>\n",
              "    </tr>\n",
              "    <tr>\n",
              "      <th>S</th>\n",
              "      <td>3484</td>\n",
              "    </tr>\n",
              "    <tr>\n",
              "      <th>SE</th>\n",
              "      <td>4298</td>\n",
              "    </tr>\n",
              "    <tr>\n",
              "      <th>SSE</th>\n",
              "      <td>51</td>\n",
              "    </tr>\n",
              "    <tr>\n",
              "      <th>SSW</th>\n",
              "      <td>32</td>\n",
              "    </tr>\n",
              "    <tr>\n",
              "      <th>SW</th>\n",
              "      <td>1112</td>\n",
              "    </tr>\n",
              "    <tr>\n",
              "      <th>W</th>\n",
              "      <td>194</td>\n",
              "    </tr>\n",
              "  </tbody>\n",
              "</table>\n",
              "</div><br><label><b>dtype:</b> int64</label>"
            ],
            "text/plain": [
              "Swell Direction\n",
              "E      1837\n",
              "ENE       1\n",
              "ESE      51\n",
              "N        21\n",
              "NE       80\n",
              "NNW       2\n",
              "NW      115\n",
              "S      3484\n",
              "SE     4298\n",
              "SSE      51\n",
              "SSW      32\n",
              "SW     1112\n",
              "W       194\n",
              "Name: count, dtype: int64"
            ]
          },
          "execution_count": 128,
          "metadata": {},
          "output_type": "execute_result"
        }
      ],
      "source": [
        "df['Swell Direction'] \\\n",
        "  .value_counts(dropna=False) \\\n",
        "  .sort_index()"
      ]
    },
    {
      "cell_type": "markdown",
      "metadata": {
        "id": "-eUT7WP9WhKk"
      },
      "source": [
        "## Cloud Cover"
      ]
    },
    {
      "cell_type": "markdown",
      "metadata": {
        "id": "NuiOlwdqWhKl"
      },
      "source": [
        "Cloud Cover may be useful for prediction. First, I want to get an overview of values this column:"
      ]
    },
    {
      "cell_type": "code",
      "execution_count": null,
      "metadata": {
        "colab": {
          "base_uri": "https://localhost:8080/",
          "height": 491
        },
        "id": "h9kKUMvjWhKl",
        "outputId": "05e3bb7b-c9a1-4475-d32a-2b3a0e07b21d"
      },
      "outputs": [
        {
          "data": {
            "text/html": [
              "<div>\n",
              "<style scoped>\n",
              "    .dataframe tbody tr th:only-of-type {\n",
              "        vertical-align: middle;\n",
              "    }\n",
              "\n",
              "    .dataframe tbody tr th {\n",
              "        vertical-align: top;\n",
              "    }\n",
              "\n",
              "    .dataframe thead th {\n",
              "        text-align: right;\n",
              "    }\n",
              "</style>\n",
              "<table border=\"1\" class=\"dataframe\">\n",
              "  <thead>\n",
              "    <tr style=\"text-align: right;\">\n",
              "      <th></th>\n",
              "      <th>count</th>\n",
              "    </tr>\n",
              "    <tr>\n",
              "      <th>Cloud Cover</th>\n",
              "      <th></th>\n",
              "    </tr>\n",
              "  </thead>\n",
              "  <tbody>\n",
              "    <tr>\n",
              "      <th>0.0</th>\n",
              "      <td>198</td>\n",
              "    </tr>\n",
              "    <tr>\n",
              "      <th>1.0</th>\n",
              "      <td>1236</td>\n",
              "    </tr>\n",
              "    <tr>\n",
              "      <th>2.0</th>\n",
              "      <td>1650</td>\n",
              "    </tr>\n",
              "    <tr>\n",
              "      <th>3.0</th>\n",
              "      <td>2080</td>\n",
              "    </tr>\n",
              "    <tr>\n",
              "      <th>4.0</th>\n",
              "      <td>1333</td>\n",
              "    </tr>\n",
              "    <tr>\n",
              "      <th>5.0</th>\n",
              "      <td>678</td>\n",
              "    </tr>\n",
              "    <tr>\n",
              "      <th>6.0</th>\n",
              "      <td>610</td>\n",
              "    </tr>\n",
              "    <tr>\n",
              "      <th>7.0</th>\n",
              "      <td>863</td>\n",
              "    </tr>\n",
              "    <tr>\n",
              "      <th>8.0</th>\n",
              "      <td>612</td>\n",
              "    </tr>\n",
              "    <tr>\n",
              "      <th>9.0</th>\n",
              "      <td>801</td>\n",
              "    </tr>\n",
              "    <tr>\n",
              "      <th>10.0</th>\n",
              "      <td>1130</td>\n",
              "    </tr>\n",
              "    <tr>\n",
              "      <th>NaN</th>\n",
              "      <td>87</td>\n",
              "    </tr>\n",
              "  </tbody>\n",
              "</table>\n",
              "</div><br><label><b>dtype:</b> int64</label>"
            ],
            "text/plain": [
              "Cloud Cover\n",
              "0.0      198\n",
              "1.0     1236\n",
              "2.0     1650\n",
              "3.0     2080\n",
              "4.0     1333\n",
              "5.0      678\n",
              "6.0      610\n",
              "7.0      863\n",
              "8.0      612\n",
              "9.0      801\n",
              "10.0    1130\n",
              "NaN       87\n",
              "Name: count, dtype: int64"
            ]
          },
          "execution_count": 129,
          "metadata": {},
          "output_type": "execute_result"
        }
      ],
      "source": [
        "df['Cloud Cover'] \\\n",
        "  .value_counts(dropna=False) \\\n",
        "  .sort_index()"
      ]
    },
    {
      "cell_type": "markdown",
      "metadata": {
        "id": "T9pu3bMDWhKl"
      },
      "source": [
        "Then I only need to filter out NaN values:"
      ]
    },
    {
      "cell_type": "code",
      "execution_count": null,
      "metadata": {
        "id": "63_IJvWIWhKl"
      },
      "outputs": [],
      "source": [
        "# 1. Filter values from pre-defined list\n",
        "df = df[df['Cloud Cover'].notna()]"
      ]
    },
    {
      "cell_type": "markdown",
      "metadata": {
        "id": "TMPDTia1WhKl"
      },
      "source": [
        "Get the overview of values in the `Cloud Cover` column again:"
      ]
    },
    {
      "cell_type": "code",
      "execution_count": null,
      "metadata": {
        "colab": {
          "base_uri": "https://localhost:8080/",
          "height": 460
        },
        "id": "xUxFSxJsWhKl",
        "outputId": "7109c31e-a6ec-4879-a014-743d442dd698"
      },
      "outputs": [
        {
          "data": {
            "text/html": [
              "<div>\n",
              "<style scoped>\n",
              "    .dataframe tbody tr th:only-of-type {\n",
              "        vertical-align: middle;\n",
              "    }\n",
              "\n",
              "    .dataframe tbody tr th {\n",
              "        vertical-align: top;\n",
              "    }\n",
              "\n",
              "    .dataframe thead th {\n",
              "        text-align: right;\n",
              "    }\n",
              "</style>\n",
              "<table border=\"1\" class=\"dataframe\">\n",
              "  <thead>\n",
              "    <tr style=\"text-align: right;\">\n",
              "      <th></th>\n",
              "      <th>count</th>\n",
              "    </tr>\n",
              "    <tr>\n",
              "      <th>Cloud Cover</th>\n",
              "      <th></th>\n",
              "    </tr>\n",
              "  </thead>\n",
              "  <tbody>\n",
              "    <tr>\n",
              "      <th>0.0</th>\n",
              "      <td>198</td>\n",
              "    </tr>\n",
              "    <tr>\n",
              "      <th>1.0</th>\n",
              "      <td>1236</td>\n",
              "    </tr>\n",
              "    <tr>\n",
              "      <th>2.0</th>\n",
              "      <td>1650</td>\n",
              "    </tr>\n",
              "    <tr>\n",
              "      <th>3.0</th>\n",
              "      <td>2080</td>\n",
              "    </tr>\n",
              "    <tr>\n",
              "      <th>4.0</th>\n",
              "      <td>1333</td>\n",
              "    </tr>\n",
              "    <tr>\n",
              "      <th>5.0</th>\n",
              "      <td>678</td>\n",
              "    </tr>\n",
              "    <tr>\n",
              "      <th>6.0</th>\n",
              "      <td>610</td>\n",
              "    </tr>\n",
              "    <tr>\n",
              "      <th>7.0</th>\n",
              "      <td>863</td>\n",
              "    </tr>\n",
              "    <tr>\n",
              "      <th>8.0</th>\n",
              "      <td>612</td>\n",
              "    </tr>\n",
              "    <tr>\n",
              "      <th>9.0</th>\n",
              "      <td>801</td>\n",
              "    </tr>\n",
              "    <tr>\n",
              "      <th>10.0</th>\n",
              "      <td>1130</td>\n",
              "    </tr>\n",
              "  </tbody>\n",
              "</table>\n",
              "</div><br><label><b>dtype:</b> int64</label>"
            ],
            "text/plain": [
              "Cloud Cover\n",
              "0.0      198\n",
              "1.0     1236\n",
              "2.0     1650\n",
              "3.0     2080\n",
              "4.0     1333\n",
              "5.0      678\n",
              "6.0      610\n",
              "7.0      863\n",
              "8.0      612\n",
              "9.0      801\n",
              "10.0    1130\n",
              "Name: count, dtype: int64"
            ]
          },
          "execution_count": 131,
          "metadata": {},
          "output_type": "execute_result"
        }
      ],
      "source": [
        "df['Cloud Cover'] \\\n",
        "  .value_counts(dropna=False) \\\n",
        "  .sort_index()"
      ]
    },
    {
      "cell_type": "markdown",
      "metadata": {
        "id": "SBI3sMhKCUZY"
      },
      "source": [
        "## Water Temperature"
      ]
    },
    {
      "cell_type": "markdown",
      "metadata": {
        "id": "utLFXDKZCUZZ"
      },
      "source": [
        "Water Temperature may be useful for prediction. First, I want to get an overview of values this column:"
      ]
    },
    {
      "cell_type": "code",
      "execution_count": null,
      "metadata": {
        "colab": {
          "base_uri": "https://localhost:8080/",
          "height": 489
        },
        "id": "RLI_ZClrCUZZ",
        "outputId": "e6d0ec25-a5f7-47d1-fa44-9d6f8e39c995"
      },
      "outputs": [
        {
          "data": {
            "text/html": [
              "<div>\n",
              "<style scoped>\n",
              "    .dataframe tbody tr th:only-of-type {\n",
              "        vertical-align: middle;\n",
              "    }\n",
              "\n",
              "    .dataframe tbody tr th {\n",
              "        vertical-align: top;\n",
              "    }\n",
              "\n",
              "    .dataframe thead th {\n",
              "        text-align: right;\n",
              "    }\n",
              "</style>\n",
              "<table border=\"1\" class=\"dataframe\">\n",
              "  <thead>\n",
              "    <tr style=\"text-align: right;\">\n",
              "      <th></th>\n",
              "      <th>count</th>\n",
              "    </tr>\n",
              "    <tr>\n",
              "      <th>Water Temperature</th>\n",
              "      <th></th>\n",
              "    </tr>\n",
              "  </thead>\n",
              "  <tbody>\n",
              "    <tr>\n",
              "      <th>0.21</th>\n",
              "      <td>1</td>\n",
              "    </tr>\n",
              "    <tr>\n",
              "      <th>2.07</th>\n",
              "      <td>1</td>\n",
              "    </tr>\n",
              "    <tr>\n",
              "      <th>15.34</th>\n",
              "      <td>1</td>\n",
              "    </tr>\n",
              "    <tr>\n",
              "      <th>15.75</th>\n",
              "      <td>1</td>\n",
              "    </tr>\n",
              "    <tr>\n",
              "      <th>16.40</th>\n",
              "      <td>1</td>\n",
              "    </tr>\n",
              "    <tr>\n",
              "      <th>...</th>\n",
              "      <td>...</td>\n",
              "    </tr>\n",
              "    <tr>\n",
              "      <th>81.84</th>\n",
              "      <td>1</td>\n",
              "    </tr>\n",
              "    <tr>\n",
              "      <th>82.47</th>\n",
              "      <td>2</td>\n",
              "    </tr>\n",
              "    <tr>\n",
              "      <th>86.76</th>\n",
              "      <td>1</td>\n",
              "    </tr>\n",
              "    <tr>\n",
              "      <th>97.81</th>\n",
              "      <td>1</td>\n",
              "    </tr>\n",
              "    <tr>\n",
              "      <th>NaN</th>\n",
              "      <td>543</td>\n",
              "    </tr>\n",
              "  </tbody>\n",
              "</table>\n",
              "<p>2666 rows × 1 columns</p>\n",
              "</div><br><label><b>dtype:</b> int64</label>"
            ],
            "text/plain": [
              "Water Temperature\n",
              "0.21       1\n",
              "2.07       1\n",
              "15.34      1\n",
              "15.75      1\n",
              "16.40      1\n",
              "        ... \n",
              "81.84      1\n",
              "82.47      2\n",
              "86.76      1\n",
              "97.81      1\n",
              "NaN      543\n",
              "Name: count, Length: 2666, dtype: int64"
            ]
          },
          "execution_count": 132,
          "metadata": {},
          "output_type": "execute_result"
        }
      ],
      "source": [
        "df['Water Temperature'] \\\n",
        "  .value_counts(dropna=False) \\\n",
        "  .sort_index()"
      ]
    },
    {
      "cell_type": "markdown",
      "metadata": {
        "id": "cD9cKzQPCUZZ"
      },
      "source": [
        "I just need to convert data type of this column to numeric and remove NAs:"
      ]
    },
    {
      "cell_type": "code",
      "execution_count": null,
      "metadata": {
        "id": "XiSOLRqOCUZZ"
      },
      "outputs": [],
      "source": [
        "# Fix the outliers\n",
        "# Remove NAs\n",
        "df = df.dropna(subset=['Water Temperature'])"
      ]
    },
    {
      "cell_type": "markdown",
      "metadata": {
        "id": "dG2RFqucCUZa"
      },
      "source": [
        "Get the overview of values in the `Water Temperature Categorized` column:"
      ]
    },
    {
      "cell_type": "code",
      "execution_count": null,
      "metadata": {
        "colab": {
          "base_uri": "https://localhost:8080/",
          "height": 489
        },
        "id": "r6tHZQmcCUZa",
        "outputId": "1f4b4e70-3441-49ab-fe55-0412d8105d93"
      },
      "outputs": [
        {
          "data": {
            "text/html": [
              "<div>\n",
              "<style scoped>\n",
              "    .dataframe tbody tr th:only-of-type {\n",
              "        vertical-align: middle;\n",
              "    }\n",
              "\n",
              "    .dataframe tbody tr th {\n",
              "        vertical-align: top;\n",
              "    }\n",
              "\n",
              "    .dataframe thead th {\n",
              "        text-align: right;\n",
              "    }\n",
              "</style>\n",
              "<table border=\"1\" class=\"dataframe\">\n",
              "  <thead>\n",
              "    <tr style=\"text-align: right;\">\n",
              "      <th></th>\n",
              "      <th>count</th>\n",
              "    </tr>\n",
              "    <tr>\n",
              "      <th>Water Temperature</th>\n",
              "      <th></th>\n",
              "    </tr>\n",
              "  </thead>\n",
              "  <tbody>\n",
              "    <tr>\n",
              "      <th>0.21</th>\n",
              "      <td>1</td>\n",
              "    </tr>\n",
              "    <tr>\n",
              "      <th>2.07</th>\n",
              "      <td>1</td>\n",
              "    </tr>\n",
              "    <tr>\n",
              "      <th>15.34</th>\n",
              "      <td>1</td>\n",
              "    </tr>\n",
              "    <tr>\n",
              "      <th>15.75</th>\n",
              "      <td>1</td>\n",
              "    </tr>\n",
              "    <tr>\n",
              "      <th>16.40</th>\n",
              "      <td>1</td>\n",
              "    </tr>\n",
              "    <tr>\n",
              "      <th>...</th>\n",
              "      <td>...</td>\n",
              "    </tr>\n",
              "    <tr>\n",
              "      <th>81.83</th>\n",
              "      <td>1</td>\n",
              "    </tr>\n",
              "    <tr>\n",
              "      <th>81.84</th>\n",
              "      <td>1</td>\n",
              "    </tr>\n",
              "    <tr>\n",
              "      <th>82.47</th>\n",
              "      <td>2</td>\n",
              "    </tr>\n",
              "    <tr>\n",
              "      <th>86.76</th>\n",
              "      <td>1</td>\n",
              "    </tr>\n",
              "    <tr>\n",
              "      <th>97.81</th>\n",
              "      <td>1</td>\n",
              "    </tr>\n",
              "  </tbody>\n",
              "</table>\n",
              "<p>2665 rows × 1 columns</p>\n",
              "</div><br><label><b>dtype:</b> int64</label>"
            ],
            "text/plain": [
              "Water Temperature\n",
              "0.21     1\n",
              "2.07     1\n",
              "15.34    1\n",
              "15.75    1\n",
              "16.40    1\n",
              "        ..\n",
              "81.83    1\n",
              "81.84    1\n",
              "82.47    2\n",
              "86.76    1\n",
              "97.81    1\n",
              "Name: count, Length: 2665, dtype: int64"
            ]
          },
          "execution_count": 134,
          "metadata": {},
          "output_type": "execute_result"
        }
      ],
      "source": [
        "df['Water Temperature'] \\\n",
        "  .value_counts(dropna=False) \\\n",
        "  .sort_index()"
      ]
    },
    {
      "cell_type": "markdown",
      "metadata": {
        "id": "HfaBcsOdKirl"
      },
      "source": [
        "## Depth"
      ]
    },
    {
      "cell_type": "markdown",
      "metadata": {
        "id": "uh_HeWjCKirl"
      },
      "source": [
        "Depth may be useful for prediction. First, I want to get an overview of values this column:"
      ]
    },
    {
      "cell_type": "code",
      "execution_count": null,
      "metadata": {
        "colab": {
          "base_uri": "https://localhost:8080/",
          "height": 489
        },
        "id": "yfPJzWXsKirm",
        "outputId": "37452f45-4ace-491d-8409-84c7047c206f"
      },
      "outputs": [
        {
          "data": {
            "text/html": [
              "<div>\n",
              "<style scoped>\n",
              "    .dataframe tbody tr th:only-of-type {\n",
              "        vertical-align: middle;\n",
              "    }\n",
              "\n",
              "    .dataframe tbody tr th {\n",
              "        vertical-align: top;\n",
              "    }\n",
              "\n",
              "    .dataframe thead th {\n",
              "        text-align: right;\n",
              "    }\n",
              "</style>\n",
              "<table border=\"1\" class=\"dataframe\">\n",
              "  <thead>\n",
              "    <tr style=\"text-align: right;\">\n",
              "      <th></th>\n",
              "      <th>count</th>\n",
              "    </tr>\n",
              "    <tr>\n",
              "      <th>Depth</th>\n",
              "      <th></th>\n",
              "    </tr>\n",
              "  </thead>\n",
              "  <tbody>\n",
              "    <tr>\n",
              "      <th>0:00</th>\n",
              "      <td>3</td>\n",
              "    </tr>\n",
              "    <tr>\n",
              "      <th>1.1</th>\n",
              "      <td>2</td>\n",
              "    </tr>\n",
              "    <tr>\n",
              "      <th>1.7</th>\n",
              "      <td>1</td>\n",
              "    </tr>\n",
              "    <tr>\n",
              "      <th>10.0</th>\n",
              "      <td>31</td>\n",
              "    </tr>\n",
              "    <tr>\n",
              "      <th>10.01</th>\n",
              "      <td>1</td>\n",
              "    </tr>\n",
              "    <tr>\n",
              "      <th>...</th>\n",
              "      <td>...</td>\n",
              "    </tr>\n",
              "    <tr>\n",
              "      <th>98.9</th>\n",
              "      <td>1</td>\n",
              "    </tr>\n",
              "    <tr>\n",
              "      <th>99.7</th>\n",
              "      <td>1</td>\n",
              "    </tr>\n",
              "    <tr>\n",
              "      <th>996.0</th>\n",
              "      <td>1</td>\n",
              "    </tr>\n",
              "    <tr>\n",
              "      <th>9:36</th>\n",
              "      <td>1</td>\n",
              "    </tr>\n",
              "    <tr>\n",
              "      <th>NaN</th>\n",
              "      <td>99</td>\n",
              "    </tr>\n",
              "  </tbody>\n",
              "</table>\n",
              "<p>838 rows × 1 columns</p>\n",
              "</div><br><label><b>dtype:</b> int64</label>"
            ],
            "text/plain": [
              "Depth\n",
              "0:00      3\n",
              "1.1       2\n",
              "1.7       1\n",
              "10.0     31\n",
              "10.01     1\n",
              "         ..\n",
              "98.9      1\n",
              "99.7      1\n",
              "996.0     1\n",
              "9:36      1\n",
              "NaN      99\n",
              "Name: count, Length: 838, dtype: int64"
            ]
          },
          "execution_count": 135,
          "metadata": {},
          "output_type": "execute_result"
        }
      ],
      "source": [
        "df['Depth'] \\\n",
        "  .value_counts(dropna=False) \\\n",
        "  .sort_index()"
      ]
    },
    {
      "cell_type": "markdown",
      "metadata": {
        "id": "b_vM8DnLKirm"
      },
      "source": [
        "I just need to convert data type of this column to numeric and remove NAs:"
      ]
    },
    {
      "cell_type": "code",
      "execution_count": null,
      "metadata": {
        "id": "GKnNubshKirm"
      },
      "outputs": [],
      "source": [
        "# Fix the outliers\n",
        "# Convert data from object to float\n",
        "# errors='coerce': Invalid dates are converted to NaN (not a number)\n",
        "df['Depth'] = pd.to_numeric(df['Depth'].copy(), errors='coerce')\n",
        "\n",
        "# Remove NAs\n",
        "df = df.dropna(subset=['Depth'])"
      ]
    },
    {
      "cell_type": "markdown",
      "metadata": {
        "id": "Kp-D8-_sKirm"
      },
      "source": [
        "Get the overview of values in the `Depth Category` column:"
      ]
    },
    {
      "cell_type": "code",
      "execution_count": null,
      "metadata": {
        "colab": {
          "base_uri": "https://localhost:8080/",
          "height": 489
        },
        "id": "odRBEn-ZKirm",
        "outputId": "283139bf-3316-4894-9777-cfd65a7a399e"
      },
      "outputs": [
        {
          "data": {
            "text/html": [
              "<div>\n",
              "<style scoped>\n",
              "    .dataframe tbody tr th:only-of-type {\n",
              "        vertical-align: middle;\n",
              "    }\n",
              "\n",
              "    .dataframe tbody tr th {\n",
              "        vertical-align: top;\n",
              "    }\n",
              "\n",
              "    .dataframe thead th {\n",
              "        text-align: right;\n",
              "    }\n",
              "</style>\n",
              "<table border=\"1\" class=\"dataframe\">\n",
              "  <thead>\n",
              "    <tr style=\"text-align: right;\">\n",
              "      <th></th>\n",
              "      <th>count</th>\n",
              "    </tr>\n",
              "    <tr>\n",
              "      <th>Depth</th>\n",
              "      <th></th>\n",
              "    </tr>\n",
              "  </thead>\n",
              "  <tbody>\n",
              "    <tr>\n",
              "      <th>1.1</th>\n",
              "      <td>2</td>\n",
              "    </tr>\n",
              "    <tr>\n",
              "      <th>1.7</th>\n",
              "      <td>1</td>\n",
              "    </tr>\n",
              "    <tr>\n",
              "      <th>4.3</th>\n",
              "      <td>1</td>\n",
              "    </tr>\n",
              "    <tr>\n",
              "      <th>4.6</th>\n",
              "      <td>1</td>\n",
              "    </tr>\n",
              "    <tr>\n",
              "      <th>5.0</th>\n",
              "      <td>1</td>\n",
              "    </tr>\n",
              "    <tr>\n",
              "      <th>...</th>\n",
              "      <td>...</td>\n",
              "    </tr>\n",
              "    <tr>\n",
              "      <th>7100.0</th>\n",
              "      <td>2</td>\n",
              "    </tr>\n",
              "    <tr>\n",
              "      <th>7182.0</th>\n",
              "      <td>1</td>\n",
              "    </tr>\n",
              "    <tr>\n",
              "      <th>7200.0</th>\n",
              "      <td>3</td>\n",
              "    </tr>\n",
              "    <tr>\n",
              "      <th>7500.0</th>\n",
              "      <td>4</td>\n",
              "    </tr>\n",
              "    <tr>\n",
              "      <th>9390.0</th>\n",
              "      <td>1</td>\n",
              "    </tr>\n",
              "  </tbody>\n",
              "</table>\n",
              "<p>805 rows × 1 columns</p>\n",
              "</div><br><label><b>dtype:</b> int64</label>"
            ],
            "text/plain": [
              "Depth\n",
              "1.1       2\n",
              "1.7       1\n",
              "4.3       1\n",
              "4.6       1\n",
              "5.0       1\n",
              "         ..\n",
              "7100.0    2\n",
              "7182.0    1\n",
              "7200.0    3\n",
              "7500.0    4\n",
              "9390.0    1\n",
              "Name: count, Length: 805, dtype: int64"
            ]
          },
          "execution_count": 137,
          "metadata": {},
          "output_type": "execute_result"
        }
      ],
      "source": [
        "df['Depth'] \\\n",
        "  .value_counts(dropna=False) \\\n",
        "  .sort_index()"
      ]
    },
    {
      "cell_type": "markdown",
      "metadata": {
        "id": "4a3cSOL5uB_u"
      },
      "source": [
        "## Species"
      ]
    },
    {
      "cell_type": "markdown",
      "metadata": {
        "id": "mE2wSh0QuH26"
      },
      "source": [
        "First, I want to get an overview of values in this column:"
      ]
    },
    {
      "cell_type": "code",
      "execution_count": null,
      "metadata": {
        "colab": {
          "base_uri": "https://localhost:8080/",
          "height": 1000
        },
        "id": "OA4sMn5VuRmn",
        "outputId": "a37e3330-dd6b-4e47-b07a-a15b9e499aa6"
      },
      "outputs": [
        {
          "data": {
            "text/html": [
              "<div>\n",
              "<style scoped>\n",
              "    .dataframe tbody tr th:only-of-type {\n",
              "        vertical-align: middle;\n",
              "    }\n",
              "\n",
              "    .dataframe tbody tr th {\n",
              "        vertical-align: top;\n",
              "    }\n",
              "\n",
              "    .dataframe thead th {\n",
              "        text-align: right;\n",
              "    }\n",
              "</style>\n",
              "<table border=\"1\" class=\"dataframe\">\n",
              "  <thead>\n",
              "    <tr style=\"text-align: right;\">\n",
              "      <th></th>\n",
              "      <th>count</th>\n",
              "    </tr>\n",
              "    <tr>\n",
              "      <th>Species</th>\n",
              "      <th></th>\n",
              "    </tr>\n",
              "  </thead>\n",
              "  <tbody>\n",
              "    <tr>\n",
              "      <th>T.t.</th>\n",
              "      <td>1</td>\n",
              "    </tr>\n",
              "    <tr>\n",
              "      <th>A. spp.Thresher Shark</th>\n",
              "      <td>1</td>\n",
              "    </tr>\n",
              "    <tr>\n",
              "      <th>B.a.</th>\n",
              "      <td>6</td>\n",
              "    </tr>\n",
              "    <tr>\n",
              "      <th>B.p.</th>\n",
              "      <td>26</td>\n",
              "    </tr>\n",
              "    <tr>\n",
              "      <th>Blue Whale</th>\n",
              "      <td>1</td>\n",
              "    </tr>\n",
              "    <tr>\n",
              "      <th>C.b. Spinner Shark</th>\n",
              "      <td>1</td>\n",
              "    </tr>\n",
              "    <tr>\n",
              "      <th>C.c. Loggerhead</th>\n",
              "      <td>250</td>\n",
              "    </tr>\n",
              "    <tr>\n",
              "      <th>C.l. Bull Shark</th>\n",
              "      <td>1</td>\n",
              "    </tr>\n",
              "    <tr>\n",
              "      <th>C.m. Basking Shark</th>\n",
              "      <td>2</td>\n",
              "    </tr>\n",
              "    <tr>\n",
              "      <th>C.p. Brown Shark</th>\n",
              "      <td>1</td>\n",
              "    </tr>\n",
              "    <tr>\n",
              "      <th>Chilean Devil Ray</th>\n",
              "      <td>1</td>\n",
              "    </tr>\n",
              "    <tr>\n",
              "      <th>D.c. Leatherback</th>\n",
              "      <td>26</td>\n",
              "    </tr>\n",
              "    <tr>\n",
              "      <th>D.d. Common Dolphin</th>\n",
              "      <td>27</td>\n",
              "    </tr>\n",
              "    <tr>\n",
              "      <th>Dead Sea Turtle</th>\n",
              "      <td>4</td>\n",
              "    </tr>\n",
              "    <tr>\n",
              "      <th>Dead T.t.</th>\n",
              "      <td>2</td>\n",
              "    </tr>\n",
              "    <tr>\n",
              "      <th>E.g.</th>\n",
              "      <td>5</td>\n",
              "    </tr>\n",
              "    <tr>\n",
              "      <th>G.g. Risso's Dolphin</th>\n",
              "      <td>11</td>\n",
              "    </tr>\n",
              "    <tr>\n",
              "      <th>G.m. Short-finned Pilot Whale</th>\n",
              "      <td>21</td>\n",
              "    </tr>\n",
              "    <tr>\n",
              "      <th>H.g. Grey Seal</th>\n",
              "      <td>21</td>\n",
              "    </tr>\n",
              "    <tr>\n",
              "      <th>M.m. Oceanic Sunfish</th>\n",
              "      <td>27</td>\n",
              "    </tr>\n",
              "    <tr>\n",
              "      <th>M.n.</th>\n",
              "      <td>538</td>\n",
              "    </tr>\n",
              "    <tr>\n",
              "      <th>Manta Ray</th>\n",
              "      <td>3</td>\n",
              "    </tr>\n",
              "    <tr>\n",
              "      <th>Marine Debris</th>\n",
              "      <td>2</td>\n",
              "    </tr>\n",
              "    <tr>\n",
              "      <th>Oo</th>\n",
              "      <td>1</td>\n",
              "    </tr>\n",
              "    <tr>\n",
              "      <th>Other, please specify in Notes</th>\n",
              "      <td>46</td>\n",
              "    </tr>\n",
              "    <tr>\n",
              "      <th>P.m. Sperm Whale</th>\n",
              "      <td>6</td>\n",
              "    </tr>\n",
              "    <tr>\n",
              "      <th>P.o.</th>\n",
              "      <td>2</td>\n",
              "    </tr>\n",
              "    <tr>\n",
              "      <th>P.v. Harbor Seal</th>\n",
              "      <td>6</td>\n",
              "    </tr>\n",
              "    <tr>\n",
              "      <th>R.b. Cownose Stingray</th>\n",
              "      <td>194</td>\n",
              "    </tr>\n",
              "    <tr>\n",
              "      <th>S.c. Striped Dolphin</th>\n",
              "      <td>1</td>\n",
              "    </tr>\n",
              "    <tr>\n",
              "      <th>S.f. Spotted Dolphin</th>\n",
              "      <td>1</td>\n",
              "    </tr>\n",
              "    <tr>\n",
              "      <th>Sl</th>\n",
              "      <td>6</td>\n",
              "    </tr>\n",
              "    <tr>\n",
              "      <th>Sp</th>\n",
              "      <td>1</td>\n",
              "    </tr>\n",
              "    <tr>\n",
              "      <th>Sphyrna spp. - Hammerhead</th>\n",
              "      <td>23</td>\n",
              "    </tr>\n",
              "    <tr>\n",
              "      <th>T.T.</th>\n",
              "      <td>1</td>\n",
              "    </tr>\n",
              "    <tr>\n",
              "      <th>T.t.</th>\n",
              "      <td>9139</td>\n",
              "    </tr>\n",
              "    <tr>\n",
              "      <th>T.t.</th>\n",
              "      <td>9</td>\n",
              "    </tr>\n",
              "    <tr>\n",
              "      <th>Unidentified Baleen Whale</th>\n",
              "      <td>5</td>\n",
              "    </tr>\n",
              "    <tr>\n",
              "      <th>Unidentified Cetacean</th>\n",
              "      <td>2</td>\n",
              "    </tr>\n",
              "    <tr>\n",
              "      <th>Unidentified Delphinid</th>\n",
              "      <td>1</td>\n",
              "    </tr>\n",
              "    <tr>\n",
              "      <th>Unidentified Delphinid Species</th>\n",
              "      <td>2</td>\n",
              "    </tr>\n",
              "    <tr>\n",
              "      <th>Unidentified Mesoplodont</th>\n",
              "      <td>1</td>\n",
              "    </tr>\n",
              "    <tr>\n",
              "      <th>Unidentified Shark Species</th>\n",
              "      <td>65</td>\n",
              "    </tr>\n",
              "    <tr>\n",
              "      <th>Unidentified Sighting</th>\n",
              "      <td>3</td>\n",
              "    </tr>\n",
              "    <tr>\n",
              "      <th>Unidentified Turtle Species</th>\n",
              "      <td>7</td>\n",
              "    </tr>\n",
              "    <tr>\n",
              "      <th>Unknown Sighting</th>\n",
              "      <td>2</td>\n",
              "    </tr>\n",
              "    <tr>\n",
              "      <th>Z.c. Cuvier's Beaked Whale</th>\n",
              "      <td>1</td>\n",
              "    </tr>\n",
              "    <tr>\n",
              "      <th>NaN</th>\n",
              "      <td>28</td>\n",
              "    </tr>\n",
              "  </tbody>\n",
              "</table>\n",
              "</div><br><label><b>dtype:</b> int64</label>"
            ],
            "text/plain": [
              "Species\n",
              "        T.t.                         1\n",
              "A. spp.Thresher Shark                1\n",
              "B.a.                                 6\n",
              "B.p.                                26\n",
              "Blue Whale                           1\n",
              "C.b. Spinner Shark                   1\n",
              "C.c. Loggerhead                    250\n",
              "C.l. Bull Shark                      1\n",
              "C.m. Basking Shark                   2\n",
              "C.p. Brown Shark                     1\n",
              "Chilean Devil Ray                    1\n",
              "D.c. Leatherback                    26\n",
              "D.d. Common Dolphin                 27\n",
              "Dead Sea Turtle                      4\n",
              "Dead T.t.                            2\n",
              "E.g.                                 5\n",
              "G.g. Risso's Dolphin                11\n",
              "G.m. Short-finned Pilot Whale       21\n",
              "H.g. Grey Seal                      21\n",
              "M.m. Oceanic Sunfish                27\n",
              "M.n.                               538\n",
              "Manta Ray                            3\n",
              "Marine Debris                        2\n",
              "Oo                                   1\n",
              "Other, please specify in Notes      46\n",
              "P.m. Sperm Whale                     6\n",
              "P.o.                                 2\n",
              "P.v. Harbor Seal                     6\n",
              "R.b. Cownose Stingray              194\n",
              "S.c. Striped Dolphin                 1\n",
              "S.f. Spotted Dolphin                 1\n",
              "Sl                                   6\n",
              "Sp                                   1\n",
              "Sphyrna spp. - Hammerhead           23\n",
              "T.T.                                 1\n",
              "T.t.                              9139\n",
              "T.t.                                 9\n",
              "Unidentified Baleen Whale            5\n",
              "Unidentified Cetacean                2\n",
              "Unidentified Delphinid               1\n",
              "Unidentified Delphinid Species       2\n",
              "Unidentified Mesoplodont             1\n",
              "Unidentified Shark Species          65\n",
              "Unidentified Sighting                3\n",
              "Unidentified Turtle Species          7\n",
              "Unknown Sighting                     2\n",
              "Z.c. Cuvier's Beaked Whale           1\n",
              "NaN                                 28\n",
              "Name: count, dtype: int64"
            ]
          },
          "execution_count": 138,
          "metadata": {},
          "output_type": "execute_result"
        }
      ],
      "source": [
        "df['Species'] \\\n",
        "  .value_counts(dropna=False) \\\n",
        "  .sort_index()"
      ]
    },
    {
      "cell_type": "markdown",
      "metadata": {
        "id": "Km42D0WyuYth"
      },
      "source": [
        "Then I need to filter the values that only within this pre-defined list: `['T.e.', 'T.t.', 'M.n.', 'B.a.', 'B.p.', 'E.g.', 'B.m.', 'R.b. Cownose Stingray', 'D.c. Leatherback', 'C.c. Loggerhead', 'P.v. Harbor Seal', 'H.g. Grey Seal', 'D.d. Common Dolphin', 'G.g. Risso's Dolphin', 'S.c. Striped Dolphin', 'S.f. Spotted Dolphin', 'L.a. Atlantic white-sided dolphin', 'G.m. Short-finned Pilot Whale', 'Z.c. Cuvier's Beaked Whale', 'M.b. Sowerby's Beaked Whale', 'M.m. True's Beaked Whale', 'P.m. Sperm Whale', 'P.p. Portuguese Man O'War', 'Sphyrna spp. - Hammerhead', 'A. spp.Thresher Shark', 'C.m. Basking Shark', 'R.t. Whale Shark', 'M.m. Oceanic Sunfish', 'M.m. Mola mola', 'Marine Debris', 'Unidentified Delphinid Species', 'Unidentified Baleen Whale', 'Unidentified Mesoplodon', 'Unidentified Shark Species', 'Unidentified Turtle Species', 'Unidentified Sighting', 'Dead T.t.', 'Dead Sea Turtle', 'Dead Whale', 'Other, please specify in Notes']`. There are some outliers in the column, which I will fix before filtering:"
      ]
    },
    {
      "cell_type": "code",
      "execution_count": null,
      "metadata": {
        "id": "pfiVmYaiuZhw"
      },
      "outputs": [],
      "source": [
        "# 1. Fix the outliers\n",
        "# Trim values\n",
        "df['Species'] = df['Species'].str.strip()\n",
        "\n",
        "# 2. Filter values from pre-defined list\n",
        "pre_defined_species_values = [\n",
        "    'T.e.', 'T.t.', 'M.n.', 'B.a.', 'B.p.', 'E.g.', 'B.m.',\n",
        "    'R.b. Cownose Stingray', 'D.c. Leatherback', 'C.c. Loggerhead',\n",
        "    'P.v. Harbor Seal', 'H.g. Grey Seal', 'D.d. Common Dolphin',\n",
        "    'G.g. Risso\\'s Dolphin', 'S.c. Striped Dolphin', 'S.f. Spotted Dolphin',\n",
        "    'L.a. Atlantic white-sided dolphin', 'G.m. Short-finned Pilot Whale',\n",
        "    'Z.c. Cuvier\\'s Beaked Whale', 'M.b. Sowerby\\'s Beaked Whale',\n",
        "    'M.m. True\\'s Beaked Whale', 'P.m. Sperm Whale',\n",
        "    'P.p. Portuguese Man O\\'War', 'Sphyrna spp. - Hammerhead',\n",
        "    'A. spp.Thresher Shark', 'C.m. Basking Shark', 'R.t. Whale Shark',\n",
        "    'M.m. Oceanic Sunfish', 'M.m. Mola mola', 'Marine Debris',\n",
        "    'Unidentified Delphinid Species', 'Unidentified Baleen Whale',\n",
        "    'Unidentified Mesoplodon', 'Unidentified Shark Species',\n",
        "    'Unidentified Turtle Species', 'Unidentified Sighting',\n",
        "    'Dead T.t.', 'Dead Sea Turtle', 'Dead Whale',\n",
        "    'Other, please specify in Notes'\n",
        "]\n",
        "df = df[df['Species'].isin(pre_defined_species_values)]"
      ]
    },
    {
      "cell_type": "markdown",
      "metadata": {
        "id": "22dohGruuhFC"
      },
      "source": [
        "Get the overview of values in the `Species` column again:"
      ]
    },
    {
      "cell_type": "code",
      "execution_count": null,
      "metadata": {
        "colab": {
          "base_uri": "https://localhost:8080/",
          "height": 1000
        },
        "id": "1q8-S2ouuhZj",
        "outputId": "628a4e0a-f863-4470-e984-a0007576adac"
      },
      "outputs": [
        {
          "data": {
            "text/html": [
              "<div>\n",
              "<style scoped>\n",
              "    .dataframe tbody tr th:only-of-type {\n",
              "        vertical-align: middle;\n",
              "    }\n",
              "\n",
              "    .dataframe tbody tr th {\n",
              "        vertical-align: top;\n",
              "    }\n",
              "\n",
              "    .dataframe thead th {\n",
              "        text-align: right;\n",
              "    }\n",
              "</style>\n",
              "<table border=\"1\" class=\"dataframe\">\n",
              "  <thead>\n",
              "    <tr style=\"text-align: right;\">\n",
              "      <th></th>\n",
              "      <th>count</th>\n",
              "    </tr>\n",
              "    <tr>\n",
              "      <th>Species</th>\n",
              "      <th></th>\n",
              "    </tr>\n",
              "  </thead>\n",
              "  <tbody>\n",
              "    <tr>\n",
              "      <th>A. spp.Thresher Shark</th>\n",
              "      <td>1</td>\n",
              "    </tr>\n",
              "    <tr>\n",
              "      <th>B.a.</th>\n",
              "      <td>6</td>\n",
              "    </tr>\n",
              "    <tr>\n",
              "      <th>B.p.</th>\n",
              "      <td>26</td>\n",
              "    </tr>\n",
              "    <tr>\n",
              "      <th>C.c. Loggerhead</th>\n",
              "      <td>250</td>\n",
              "    </tr>\n",
              "    <tr>\n",
              "      <th>C.m. Basking Shark</th>\n",
              "      <td>2</td>\n",
              "    </tr>\n",
              "    <tr>\n",
              "      <th>D.c. Leatherback</th>\n",
              "      <td>26</td>\n",
              "    </tr>\n",
              "    <tr>\n",
              "      <th>D.d. Common Dolphin</th>\n",
              "      <td>27</td>\n",
              "    </tr>\n",
              "    <tr>\n",
              "      <th>Dead Sea Turtle</th>\n",
              "      <td>4</td>\n",
              "    </tr>\n",
              "    <tr>\n",
              "      <th>Dead T.t.</th>\n",
              "      <td>2</td>\n",
              "    </tr>\n",
              "    <tr>\n",
              "      <th>E.g.</th>\n",
              "      <td>5</td>\n",
              "    </tr>\n",
              "    <tr>\n",
              "      <th>G.g. Risso's Dolphin</th>\n",
              "      <td>11</td>\n",
              "    </tr>\n",
              "    <tr>\n",
              "      <th>G.m. Short-finned Pilot Whale</th>\n",
              "      <td>21</td>\n",
              "    </tr>\n",
              "    <tr>\n",
              "      <th>H.g. Grey Seal</th>\n",
              "      <td>21</td>\n",
              "    </tr>\n",
              "    <tr>\n",
              "      <th>M.m. Oceanic Sunfish</th>\n",
              "      <td>27</td>\n",
              "    </tr>\n",
              "    <tr>\n",
              "      <th>M.n.</th>\n",
              "      <td>538</td>\n",
              "    </tr>\n",
              "    <tr>\n",
              "      <th>Marine Debris</th>\n",
              "      <td>2</td>\n",
              "    </tr>\n",
              "    <tr>\n",
              "      <th>Other, please specify in Notes</th>\n",
              "      <td>46</td>\n",
              "    </tr>\n",
              "    <tr>\n",
              "      <th>P.m. Sperm Whale</th>\n",
              "      <td>6</td>\n",
              "    </tr>\n",
              "    <tr>\n",
              "      <th>P.v. Harbor Seal</th>\n",
              "      <td>6</td>\n",
              "    </tr>\n",
              "    <tr>\n",
              "      <th>R.b. Cownose Stingray</th>\n",
              "      <td>194</td>\n",
              "    </tr>\n",
              "    <tr>\n",
              "      <th>S.c. Striped Dolphin</th>\n",
              "      <td>1</td>\n",
              "    </tr>\n",
              "    <tr>\n",
              "      <th>S.f. Spotted Dolphin</th>\n",
              "      <td>1</td>\n",
              "    </tr>\n",
              "    <tr>\n",
              "      <th>Sphyrna spp. - Hammerhead</th>\n",
              "      <td>23</td>\n",
              "    </tr>\n",
              "    <tr>\n",
              "      <th>T.t.</th>\n",
              "      <td>9149</td>\n",
              "    </tr>\n",
              "    <tr>\n",
              "      <th>Unidentified Baleen Whale</th>\n",
              "      <td>5</td>\n",
              "    </tr>\n",
              "    <tr>\n",
              "      <th>Unidentified Delphinid Species</th>\n",
              "      <td>2</td>\n",
              "    </tr>\n",
              "    <tr>\n",
              "      <th>Unidentified Shark Species</th>\n",
              "      <td>65</td>\n",
              "    </tr>\n",
              "    <tr>\n",
              "      <th>Unidentified Sighting</th>\n",
              "      <td>3</td>\n",
              "    </tr>\n",
              "    <tr>\n",
              "      <th>Unidentified Turtle Species</th>\n",
              "      <td>7</td>\n",
              "    </tr>\n",
              "    <tr>\n",
              "      <th>Z.c. Cuvier's Beaked Whale</th>\n",
              "      <td>1</td>\n",
              "    </tr>\n",
              "  </tbody>\n",
              "</table>\n",
              "</div><br><label><b>dtype:</b> int64</label>"
            ],
            "text/plain": [
              "Species\n",
              "A. spp.Thresher Shark                1\n",
              "B.a.                                 6\n",
              "B.p.                                26\n",
              "C.c. Loggerhead                    250\n",
              "C.m. Basking Shark                   2\n",
              "D.c. Leatherback                    26\n",
              "D.d. Common Dolphin                 27\n",
              "Dead Sea Turtle                      4\n",
              "Dead T.t.                            2\n",
              "E.g.                                 5\n",
              "G.g. Risso's Dolphin                11\n",
              "G.m. Short-finned Pilot Whale       21\n",
              "H.g. Grey Seal                      21\n",
              "M.m. Oceanic Sunfish                27\n",
              "M.n.                               538\n",
              "Marine Debris                        2\n",
              "Other, please specify in Notes      46\n",
              "P.m. Sperm Whale                     6\n",
              "P.v. Harbor Seal                     6\n",
              "R.b. Cownose Stingray              194\n",
              "S.c. Striped Dolphin                 1\n",
              "S.f. Spotted Dolphin                 1\n",
              "Sphyrna spp. - Hammerhead           23\n",
              "T.t.                              9149\n",
              "Unidentified Baleen Whale            5\n",
              "Unidentified Delphinid Species       2\n",
              "Unidentified Shark Species          65\n",
              "Unidentified Sighting                3\n",
              "Unidentified Turtle Species          7\n",
              "Z.c. Cuvier's Beaked Whale           1\n",
              "Name: count, dtype: int64"
            ]
          },
          "execution_count": 140,
          "metadata": {},
          "output_type": "execute_result"
        }
      ],
      "source": [
        "df['Species'] \\\n",
        "  .value_counts(dropna=False) \\\n",
        "  .sort_index()"
      ]
    },
    {
      "cell_type": "markdown",
      "metadata": {
        "id": "u1jiUqNpHSMU"
      },
      "source": [
        "### Create `Species Group` column"
      ]
    },
    {
      "cell_type": "markdown",
      "metadata": {
        "id": "ANGH624hHVlD"
      },
      "source": [
        "Species can be grouped into higher classification."
      ]
    },
    {
      "cell_type": "code",
      "execution_count": null,
      "metadata": {
        "id": "tKn6Mri7H1nD"
      },
      "outputs": [],
      "source": [
        "# Define conditions\n",
        "conditions = [\n",
        "    df['Species'].isin([\n",
        "      'P.v. Harbor Seal',\n",
        "      'H.g. Grey Seal'\n",
        "    ]),\n",
        "    df['Species'].isin([\n",
        "      'T.e.',\n",
        "      'T.t.',\n",
        "      'D.d. Common Dolphin',\n",
        "      'G.g. Risso\\'s Dolphin',\n",
        "      'S.c. Striped Dolphin',\n",
        "      'S.f. Spotted Dolphin',\n",
        "      'L.a. Atlantic white-sided dolphin',\n",
        "      'G.m. Short-finned Pilot Whale',\n",
        "      'Z.c. Cuvier\\'s Beaked Whale',\n",
        "      'M.b. Sowerby\\'s Beaked Whale',\n",
        "      'M.m. True\\'s Beaked Whale',\n",
        "      'P.m. Sperm Whale',\n",
        "      'Unidentified Delphinid Species'\n",
        "    ]),\n",
        "    df['Species'].isin([\n",
        "      'M.n.',\n",
        "      'B.a.',\n",
        "      'B.p.',\n",
        "      'E.g.',\n",
        "      'B.m.',\n",
        "      'Unidentified Baleen Whale'\n",
        "    ]),\n",
        "    df['Species'].isin([\n",
        "      'R.b. Cownose Stingray',\n",
        "      'Sphyrna spp. - Hammerhead',\n",
        "      'A. spp.Thresher Shark',\n",
        "      'C.m. Basking Shark',\n",
        "      'R.t. Whale Shark',\n",
        "      'Unidentified Shark Species'\n",
        "    ]),\n",
        "    df['Species'].isin([\n",
        "      'M.m. Mola mola'\n",
        "    ]),\n",
        "    df['Species'].isin([\n",
        "      'D.c. Leatherback',\n",
        "      'C.c. Loggerhead',\n",
        "      'Unidentified Turtle Species'\n",
        "    ])\n",
        "]\n",
        "\n",
        "# Define corresponding values\n",
        "values = [\n",
        "    'Phocid',\n",
        "    'Odontocete',\n",
        "    'Mysticeti',\n",
        "    'Chondrichthyes',\n",
        "    'Osteichthyes',\n",
        "    'Cheloniidae'\n",
        "]\n",
        "\n",
        "# Apply grouping\n",
        "df['Species Group'] = np.select(\n",
        "    conditions, values, default='Other classification'\n",
        ")"
      ]
    },
    {
      "cell_type": "markdown",
      "metadata": {
        "id": "XCpZOpQ-5gfX"
      },
      "source": [
        "Get the overview of values in the `Species Group column` column:"
      ]
    },
    {
      "cell_type": "code",
      "execution_count": null,
      "metadata": {
        "colab": {
          "base_uri": "https://localhost:8080/",
          "height": 303
        },
        "id": "ftevao4V5mKB",
        "outputId": "95794e4c-4fc6-43c3-eddb-981a2c95a165"
      },
      "outputs": [
        {
          "data": {
            "text/html": [
              "<div>\n",
              "<style scoped>\n",
              "    .dataframe tbody tr th:only-of-type {\n",
              "        vertical-align: middle;\n",
              "    }\n",
              "\n",
              "    .dataframe tbody tr th {\n",
              "        vertical-align: top;\n",
              "    }\n",
              "\n",
              "    .dataframe thead th {\n",
              "        text-align: right;\n",
              "    }\n",
              "</style>\n",
              "<table border=\"1\" class=\"dataframe\">\n",
              "  <thead>\n",
              "    <tr style=\"text-align: right;\">\n",
              "      <th></th>\n",
              "      <th>count</th>\n",
              "    </tr>\n",
              "    <tr>\n",
              "      <th>Species Group</th>\n",
              "      <th></th>\n",
              "    </tr>\n",
              "  </thead>\n",
              "  <tbody>\n",
              "    <tr>\n",
              "      <th>Cheloniidae</th>\n",
              "      <td>283</td>\n",
              "    </tr>\n",
              "    <tr>\n",
              "      <th>Chondrichthyes</th>\n",
              "      <td>285</td>\n",
              "    </tr>\n",
              "    <tr>\n",
              "      <th>Mysticeti</th>\n",
              "      <td>580</td>\n",
              "    </tr>\n",
              "    <tr>\n",
              "      <th>Odontocete</th>\n",
              "      <td>9219</td>\n",
              "    </tr>\n",
              "    <tr>\n",
              "      <th>Other classification</th>\n",
              "      <td>84</td>\n",
              "    </tr>\n",
              "    <tr>\n",
              "      <th>Phocid</th>\n",
              "      <td>27</td>\n",
              "    </tr>\n",
              "  </tbody>\n",
              "</table>\n",
              "</div><br><label><b>dtype:</b> int64</label>"
            ],
            "text/plain": [
              "Species Group\n",
              "Cheloniidae              283\n",
              "Chondrichthyes           285\n",
              "Mysticeti                580\n",
              "Odontocete              9219\n",
              "Other classification      84\n",
              "Phocid                    27\n",
              "Name: count, dtype: int64"
            ]
          },
          "execution_count": 142,
          "metadata": {},
          "output_type": "execute_result"
        }
      ],
      "source": [
        "df['Species Group'] \\\n",
        "  .value_counts(dropna=False) \\\n",
        "  .sort_index()"
      ]
    },
    {
      "cell_type": "markdown",
      "metadata": {
        "id": "DRlqrgt8HY2r"
      },
      "source": [
        "# Extract the selected columns into a new dataframe"
      ]
    },
    {
      "cell_type": "markdown",
      "metadata": {
        "id": "0uUVJE9nHflX"
      },
      "source": [
        "All the columns are:"
      ]
    },
    {
      "cell_type": "code",
      "execution_count": null,
      "metadata": {
        "colab": {
          "base_uri": "https://localhost:8080/"
        },
        "id": "4Rq-vFawJBki",
        "outputId": "4fa08942-ecec-47d7-8ef7-f6dd1821252e"
      },
      "outputs": [
        {
          "name": "stdout",
          "output_type": "stream",
          "text": [
            "<class 'pandas.core.frame.DataFrame'>\n",
            "Index: 10478 entries, 698 to 12324\n",
            "Data columns (total 13 columns):\n",
            " #   Column             Non-Null Count  Dtype  \n",
            "---  ------             --------------  -----  \n",
            " 0   Month              10478 non-null  int32  \n",
            " 1   Trip               10478 non-null  object \n",
            " 2   Atmosphere         10478 non-null  object \n",
            " 3   Visibility         10478 non-null  object \n",
            " 4   Wind Speed         10478 non-null  object \n",
            " 5   Sea Height         10478 non-null  object \n",
            " 6   Swell Height       10478 non-null  object \n",
            " 7   Wind Direction     10478 non-null  object \n",
            " 8   Swell Direction    10478 non-null  object \n",
            " 9   Cloud Cover        10478 non-null  float64\n",
            " 10  Water Temperature  10478 non-null  float64\n",
            " 11  Depth              10478 non-null  float64\n",
            " 12  Species Group      10478 non-null  object \n",
            "dtypes: float64(3), int32(1), object(9)\n",
            "memory usage: 1.1+ MB\n",
            "None\n"
          ]
        }
      ],
      "source": [
        "# Select some columns from the df\n",
        "selected_columns = [\n",
        "    'Month', 'Trip', 'Atmosphere', 'Visibility', 'Wind Speed', 'Sea Height',\n",
        "    'Swell Height', 'Wind Direction', 'Swell Direction', 'Cloud Cover',\n",
        "    'Water Temperature', 'Depth', 'Species Group'\n",
        "]\n",
        "extracted_df = df[selected_columns].copy()\n",
        "print(extracted_df.info())"
      ]
    },
    {
      "cell_type": "markdown",
      "metadata": {
        "id": "QUG4WgFxfx8h"
      },
      "source": [
        "# Export the extracted version of the dataframe"
      ]
    },
    {
      "cell_type": "code",
      "execution_count": null,
      "metadata": {
        "id": "JJvEeAvyf1CT"
      },
      "outputs": [],
      "source": [
        "# index=False: avoiding writing row names\n",
        "extracted_df.to_csv('cleaned-whale-watch-data.csv', index=False)"
      ]
    },
    {
      "cell_type": "markdown",
      "metadata": {
        "id": "OF5cnzNWIt0h"
      },
      "source": [
        "# Train the Random Forest model and compute the feature importance values"
      ]
    },
    {
      "cell_type": "markdown",
      "metadata": {
        "id": "blVxf0mwnF5Z"
      },
      "source": [
        "## Definition"
      ]
    },
    {
      "cell_type": "markdown",
      "metadata": {
        "id": "aYzzSbDtnHCP"
      },
      "source": [
        "Feature importance in a Random Forest indicate how much each feature contributes to the model's predictive power. It's a way to rank features based on their usefulness in splitting the data across all the trees in the forest. The higher the importance, the more that feature helps reduce uncertainty (e.g., impurity) in the predictions."
      ]
    },
    {
      "cell_type": "markdown",
      "metadata": {
        "id": "EkFFQlghAIxS"
      },
      "source": [
        "In this notebook, I will use Entropy method to calculate the feature importance values."
      ]
    },
    {
      "cell_type": "markdown",
      "metadata": {
        "id": "jeNhUmPEAKH9"
      },
      "source": [
        "Interpretation:\n",
        "- Features with higher importance scores have a greater influence on the tree's decisions.\n",
        "\n",
        "- FI scores are often normalized to sum to 1 or 100%."
      ]
    },
    {
      "cell_type": "markdown",
      "metadata": {
        "id": "hOG_qMkDXH7l"
      },
      "source": [
        "## Trasform the `Species Group` column (Y)"
      ]
    },
    {
      "cell_type": "code",
      "execution_count": null,
      "metadata": {
        "id": "QuZ0ol3OAZu9"
      },
      "outputs": [],
      "source": [
        "# Encode Species column\n",
        "species_group_encoder = LabelEncoder()\n",
        "extracted_df['Species Group Encoded'] = species_group_encoder.fit_transform(\n",
        "    extracted_df['Species Group']\n",
        ")"
      ]
    },
    {
      "cell_type": "markdown",
      "metadata": {
        "id": "Z-JsLIHfBfF-"
      },
      "source": [
        "Print encoded values:"
      ]
    },
    {
      "cell_type": "code",
      "execution_count": null,
      "metadata": {
        "colab": {
          "base_uri": "https://localhost:8080/"
        },
        "id": "jwm_WFs9BefC",
        "outputId": "3f1c1463-76de-4f20-8422-b01c65111919"
      },
      "outputs": [
        {
          "name": "stdout",
          "output_type": "stream",
          "text": [
            "\n",
            "Encoded Target Variable:\n",
            "              Species Group  Species Group Encoded\n",
            "973            Cheloniidae                      0\n",
            "791         Chondrichthyes                      1\n",
            "872              Mysticeti                      2\n",
            "698             Odontocete                      3\n",
            "1045  Other classification                      4\n",
            "4950                Phocid                      5\n"
          ]
        }
      ],
      "source": [
        "print(\n",
        "    \"\\nEncoded Target Variable:\\n\",\n",
        "    extracted_df[['Species Group', 'Species Group Encoded']] \\\n",
        "      .drop_duplicates() \\\n",
        "      .sort_values(by='Species Group Encoded')\n",
        ")"
      ]
    },
    {
      "cell_type": "markdown",
      "metadata": {
        "id": "vSBTFbrXAPCw"
      },
      "source": [
        "## Split train and test data"
      ]
    },
    {
      "cell_type": "markdown",
      "metadata": {
        "id": "rSJh0QKeAR3g"
      },
      "source": [
        "First, I will split data into train and test sets.\n",
        "\n",
        "I decide split the features (X) before transforming to prevent data leakage and ensure the model generalizes well.\n",
        "\n",
        "For more information:\n",
        "\n",
        "1. Split the dataset first → Prevents the model from seeing the test set.\n",
        "2. Fit the encoders only on training data → Ensures encoding is based only on training distribution.\n",
        "3. Transform the test data (without refitting) → Prevents data leakage.\n",
        "\n",
        "Note: Unlike features (X), which must be split before encoding to avoid data leakage, encoding Y before splitting is safe."
      ]
    },
    {
      "cell_type": "code",
      "execution_count": null,
      "metadata": {
        "id": "XBR-6fprARG5"
      },
      "outputs": [],
      "source": [
        "# Split data into train and test\n",
        "X = extracted_df.drop(columns=['Species Group', 'Species Group Encoded'])\n",
        "Y = extracted_df['Species Group Encoded']\n",
        "\n",
        "X_train, X_test, Y_train, Y_test = train_test_split(\n",
        "    X, Y,\n",
        "    test_size=0.2)"
      ]
    },
    {
      "cell_type": "markdown",
      "metadata": {
        "id": "Hi6voLeZl2Tc"
      },
      "source": [
        "## Transform X values"
      ]
    },
    {
      "cell_type": "markdown",
      "metadata": {
        "id": "jeqSYA8-cNTE"
      },
      "source": [
        "First, I want transform all columns having object or category type to numeric type:"
      ]
    },
    {
      "cell_type": "code",
      "execution_count": null,
      "metadata": {
        "id": "O_huh36XORcV"
      },
      "outputs": [],
      "source": [
        "# Initialize label encoders\n",
        "visibility_encoder = LabelEncoder()\n",
        "wind_speed_encoder = LabelEncoder()\n",
        "sea_height_encoder = LabelEncoder()\n",
        "swell_height_encoder = LabelEncoder()\n",
        "\n",
        "# Fit on training data and transform\n",
        "X_train['Visibility Encoded'] = visibility_encoder \\\n",
        "  .fit_transform(X_train['Visibility'])\n",
        "X_train['Wind Speed Encoded'] = wind_speed_encoder \\\n",
        "  .fit_transform(X_train['Wind Speed'])\n",
        "X_train['Sea Height Encoded'] = sea_height_encoder \\\n",
        "  .fit_transform(X_train['Sea Height'])\n",
        "X_train['Swell Height Encoded'] = swell_height_encoder \\\n",
        "  .fit_transform(X_train['Swell Height'])\n",
        "\n",
        "# TRANSFORM test data\n",
        "X_test['Visibility Encoded'] = visibility_encoder \\\n",
        "  .transform(X_test['Visibility'])\n",
        "X_test['Wind Speed Encoded'] = wind_speed_encoder \\\n",
        "  .transform(X_test['Wind Speed'])\n",
        "X_test['Sea Height Encoded'] = sea_height_encoder \\\n",
        "  .transform(X_test['Sea Height'])\n",
        "X_test['Swell Height Encoded'] = swell_height_encoder \\\n",
        "  .transform(X_test['Swell Height'])\n",
        "\n",
        "# ---------------------------\n",
        "\n",
        "# Initialize target encoders\n",
        "trip_encoder = TargetEncoder()\n",
        "atmosphere_encoder = TargetEncoder()\n",
        "wind_direction_encoder = TargetEncoder()\n",
        "swell_direction_encoder = TargetEncoder()\n",
        "\n",
        "# Fit on training data and transform\n",
        "X_train['Trip Encoded'] = trip_encoder \\\n",
        "  .fit_transform(X_train['Trip'], Y_train)\n",
        "X_train['Atmosphere Encoded'] = atmosphere_encoder \\\n",
        "  .fit_transform(X_train['Atmosphere'], Y_train)\n",
        "X_train['Wind Direction Encoded'] = wind_direction_encoder \\\n",
        "  .fit_transform(X_train['Wind Direction'], Y_train)\n",
        "X_train['Swell Direction Encoded'] = swell_direction_encoder \\\n",
        "  .fit_transform(X_train['Swell Direction'], Y_train)\n",
        "\n",
        "# TRANSFORM test data\n",
        "X_test['Trip Encoded'] = trip_encoder \\\n",
        "  .transform(X_test['Trip'])\n",
        "X_test['Atmosphere Encoded'] = atmosphere_encoder \\\n",
        "  .transform(X_test['Atmosphere'])\n",
        "X_test['Wind Direction Encoded'] = wind_direction_encoder \\\n",
        "  .transform(X_test['Wind Direction'])\n",
        "X_test['Swell Direction Encoded'] = swell_direction_encoder \\\n",
        "  .transform(X_test['Swell Direction'])\n",
        "\n",
        "# ---------------------------\n",
        "\n",
        "# Drop the original columns\n",
        "X_train.drop(columns=[\n",
        "    'Visibility', 'Wind Speed', 'Sea Height', 'Swell Height',\n",
        "    'Trip', 'Atmosphere', 'Wind Direction', 'Swell Direction'\n",
        "], inplace=True)\n",
        "X_test.drop(columns=[\n",
        "    'Visibility', 'Wind Speed', 'Sea Height', 'Swell Height',\n",
        "    'Trip', 'Atmosphere', 'Wind Direction', 'Swell Direction'\n",
        "], inplace=True)\n",
        "\n",
        "# ---------------------------\n",
        "\n",
        "# Rename"
      ]
    },
    {
      "cell_type": "markdown",
      "metadata": {
        "id": "HRDux56G0OLB"
      },
      "source": [
        "## Find the number of sub-trees that make the best prediction (n_estimators)"
      ]
    },
    {
      "cell_type": "markdown",
      "metadata": {
        "id": "4y2pNTCW0tnS"
      },
      "source": [
        "First, I will collect accuracies and losses within 1000 iterations"
      ]
    },
    {
      "cell_type": "code",
      "execution_count": null,
      "metadata": {
        "id": "UZCi-YuTAF5s"
      },
      "outputs": [],
      "source": [
        "default_graph_font_size = 15\n",
        "graph_title_font_size = default_graph_font_size + 4"
      ]
    },
    {
      "cell_type": "code",
      "execution_count": null,
      "metadata": {
        "colab": {
          "base_uri": "https://localhost:8080/",
          "height": 507
        },
        "id": "qlCGkrZP0To9",
        "outputId": "e45a3c70-1fa7-4bcd-a1c7-12027c08b0be"
      },
      "outputs": [
        {
          "data": {
            "image/png": "[encoded data removed]",
            "text/plain": [
              "<Figure size 1000x500 with 2 Axes>"
            ]
          },
          "metadata": {},
          "output_type": "display_data"
        }
      ],
      "source": [
        "# Ref: https://scikit-learn.org/stable/modules/generated/sklearn.ensemble.RandomForestClassifier.html#sklearn.ensemble.RandomForestClassifier.predict_proba\n",
        "\n",
        "# Initialize a Random Forest Classifier\n",
        "rf_model = RandomForestClassifier(random_state=42)\n",
        "\n",
        "# Lists to store accuracy and loss values\n",
        "accuracies = []\n",
        "losses = []\n",
        "\n",
        "# Train the model and evaluate performance\n",
        "for i in range(1, 301):\n",
        "  rf_model.n_estimators = i\n",
        "  rf_model.fit(X_train, Y_train)\n",
        "\n",
        "  # Predict on the test set\n",
        "  Y_prediction = rf_model.predict(X_test)\n",
        "  # Know how confident the model is about its predictions\n",
        "  Y_prediction_probability = rf_model.predict_proba(X_test)\n",
        "\n",
        "  # Calculate accuracy\n",
        "  accuracy = accuracy_score(Y_test, Y_prediction)\n",
        "  accuracies.append(accuracy)\n",
        "\n",
        "  # Calculate log_loss\n",
        "  loss = log_loss(Y_test, Y_prediction_probability)\n",
        "  losses.append(loss)\n",
        "\n",
        "# Plot Accuracy and Loss\n",
        "fig, ax1 = plt.subplots(figsize=(10, 5))\n",
        "\n",
        "# Plot accuracy on the left y-axis\n",
        "ax1.set_xlabel('Number of decision trees', fontsize=default_graph_font_size)\n",
        "ax1.set_ylabel('Accuracy', color='tab:blue', fontsize=default_graph_font_size)\n",
        "ax1.plot(range(1, 301), accuracies, color='tab:blue', label='Accuracy')\n",
        "ax1.tick_params(axis='y',\n",
        "                labelcolor='tab:blue',\n",
        "                labelsize=default_graph_font_size)\n",
        "\n",
        "# Create another y-axis to plot the log loss\n",
        "ax2 = ax1.twinx()\n",
        "ax2.set_ylabel('Log Loss', color='tab:red', fontsize=default_graph_font_size)\n",
        "ax2.plot(range(1, 301), losses, color='tab:red', label='Log Loss')\n",
        "ax2.tick_params(axis='y',\n",
        "                labelcolor='tab:red',\n",
        "                labelsize=default_graph_font_size)\n",
        "\n",
        "# Title and grid\n",
        "plt.title('Random Forest Accuracy and Log Loss vs Number of Decision Trees',\n",
        "          fontsize=graph_title_font_size)\n",
        "fig.tight_layout()\n",
        "\n",
        "# Show the plot\n",
        "plt.show()"
      ]
    },
    {
      "cell_type": "markdown",
      "metadata": {
        "id": "4usmk6RJNjJ5"
      },
      "source": [
        "So 150 is the optimal number of decision trees"
      ]
    },
    {
      "cell_type": "markdown",
      "metadata": {
        "id": "vIURkGDAIScK"
      },
      "source": [
        "## Train Random Forest Classifier"
      ]
    },
    {
      "cell_type": "code",
      "execution_count": null,
      "metadata": {
        "id": "Yq_UQaW1A8h1"
      },
      "outputs": [],
      "source": [
        "# n_estimators: Number of trees in the random forest\n",
        "numer_of_decision_trees = 150"
      ]
    },
    {
      "cell_type": "code",
      "execution_count": null,
      "metadata": {
        "colab": {
          "base_uri": "https://localhost:8080/",
          "height": 80
        },
        "id": "sle8fh7IIuj1",
        "outputId": "fbdb9fbd-f33a-4217-a153-9d613eb0478e"
      },
      "outputs": [
        {
          "data": {
            "text/html": [
              "<style>#sk-container-id-5 {\n",
              "  /* Definition of color scheme common for light and dark mode */\n",
              "  --sklearn-color-text: #000;\n",
              "  --sklearn-color-text-muted: #666;\n",
              "  --sklearn-color-line: gray;\n",
              "  /* Definition of color scheme for unfitted estimators */\n",
              "  --sklearn-color-unfitted-level-0: #fff5e6;\n",
              "  --sklearn-color-unfitted-level-1: #f6e4d2;\n",
              "  --sklearn-color-unfitted-level-2: #ffe0b3;\n",
              "  --sklearn-color-unfitted-level-3: chocolate;\n",
              "  /* Definition of color scheme for fitted estimators */\n",
              "  --sklearn-color-fitted-level-0: #f0f8ff;\n",
              "  --sklearn-color-fitted-level-1: #d4ebff;\n",
              "  --sklearn-color-fitted-level-2: #b3dbfd;\n",
              "  --sklearn-color-fitted-level-3: cornflowerblue;\n",
              "\n",
              "  /* Specific color for light theme */\n",
              "  --sklearn-color-text-on-default-background: var(--sg-text-color, var(--theme-code-foreground, var(--jp-content-font-color1, black)));\n",
              "  --sklearn-color-background: var(--sg-background-color, var(--theme-background, var(--jp-layout-color0, white)));\n",
              "  --sklearn-color-border-box: var(--sg-text-color, var(--theme-code-foreground, var(--jp-content-font-color1, black)));\n",
              "  --sklearn-color-icon: #696969;\n",
              "\n",
              "  @media (prefers-color-scheme: dark) {\n",
              "    /* Redefinition of color scheme for dark theme */\n",
              "    --sklearn-color-text-on-default-background: var(--sg-text-color, var(--theme-code-foreground, var(--jp-content-font-color1, white)));\n",
              "    --sklearn-color-background: var(--sg-background-color, var(--theme-background, var(--jp-layout-color0, #111)));\n",
              "    --sklearn-color-border-box: var(--sg-text-color, var(--theme-code-foreground, var(--jp-content-font-color1, white)));\n",
              "    --sklearn-color-icon: #878787;\n",
              "  }\n",
              "}\n",
              "\n",
              "#sk-container-id-5 {\n",
              "  color: var(--sklearn-color-text);\n",
              "}\n",
              "\n",
              "#sk-container-id-5 pre {\n",
              "  padding: 0;\n",
              "}\n",
              "\n",
              "#sk-container-id-5 input.sk-hidden--visually {\n",
              "  border: 0;\n",
              "  clip: rect(1px 1px 1px 1px);\n",
              "  clip: rect(1px, 1px, 1px, 1px);\n",
              "  height: 1px;\n",
              "  margin: -1px;\n",
              "  overflow: hidden;\n",
              "  padding: 0;\n",
              "  position: absolute;\n",
              "  width: 1px;\n",
              "}\n",
              "\n",
              "#sk-container-id-5 div.sk-dashed-wrapped {\n",
              "  border: 1px dashed var(--sklearn-color-line);\n",
              "  margin: 0 0.4em 0.5em 0.4em;\n",
              "  box-sizing: border-box;\n",
              "  padding-bottom: 0.4em;\n",
              "  background-color: var(--sklearn-color-background);\n",
              "}\n",
              "\n",
              "#sk-container-id-5 div.sk-container {\n",
              "  /* jupyter's `normalize.less` sets `[hidden] { display: none; }`\n",
              "     but bootstrap.min.css set `[hidden] { display: none !important; }`\n",
              "     so we also need the `!important` here to be able to override the\n",
              "     default hidden behavior on the sphinx rendered scikit-learn.org.\n",
              "     See: https://github.com/scikit-learn/scikit-learn/issues/21755 */\n",
              "  display: inline-block !important;\n",
              "  position: relative;\n",
              "}\n",
              "\n",
              "#sk-container-id-5 div.sk-text-repr-fallback {\n",
              "  display: none;\n",
              "}\n",
              "\n",
              "div.sk-parallel-item,\n",
              "div.sk-serial,\n",
              "div.sk-item {\n",
              "  /* draw centered vertical line to link estimators */\n",
              "  background-image: linear-gradient(var(--sklearn-color-text-on-default-background), var(--sklearn-color-text-on-default-background));\n",
              "  background-size: 2px 100%;\n",
              "  background-repeat: no-repeat;\n",
              "  background-position: center center;\n",
              "}\n",
              "\n",
              "/* Parallel-specific style estimator block */\n",
              "\n",
              "#sk-container-id-5 div.sk-parallel-item::after {\n",
              "  content: \"\";\n",
              "  width: 100%;\n",
              "  border-bottom: 2px solid var(--sklearn-color-text-on-default-background);\n",
              "  flex-grow: 1;\n",
              "}\n",
              "\n",
              "#sk-container-id-5 div.sk-parallel {\n",
              "  display: flex;\n",
              "  align-items: stretch;\n",
              "  justify-content: center;\n",
              "  background-color: var(--sklearn-color-background);\n",
              "  position: relative;\n",
              "}\n",
              "\n",
              "#sk-container-id-5 div.sk-parallel-item {\n",
              "  display: flex;\n",
              "  flex-direction: column;\n",
              "}\n",
              "\n",
              "#sk-container-id-5 div.sk-parallel-item:first-child::after {\n",
              "  align-self: flex-end;\n",
              "  width: 50%;\n",
              "}\n",
              "\n",
              "#sk-container-id-5 div.sk-parallel-item:last-child::after {\n",
              "  align-self: flex-start;\n",
              "  width: 50%;\n",
              "}\n",
              "\n",
              "#sk-container-id-5 div.sk-parallel-item:only-child::after {\n",
              "  width: 0;\n",
              "}\n",
              "\n",
              "/* Serial-specific style estimator block */\n",
              "\n",
              "#sk-container-id-5 div.sk-serial {\n",
              "  display: flex;\n",
              "  flex-direction: column;\n",
              "  align-items: center;\n",
              "  background-color: var(--sklearn-color-background);\n",
              "  padding-right: 1em;\n",
              "  padding-left: 1em;\n",
              "}\n",
              "\n",
              "\n",
              "/* Toggleable style: style used for estimator/Pipeline/ColumnTransformer box that is\n",
              "clickable and can be expanded/collapsed.\n",
              "- Pipeline and ColumnTransformer use this feature and define the default style\n",
              "- Estimators will overwrite some part of the style using the `sk-estimator` class\n",
              "*/\n",
              "\n",
              "/* Pipeline and ColumnTransformer style (default) */\n",
              "\n",
              "#sk-container-id-5 div.sk-toggleable {\n",
              "  /* Default theme specific background. It is overwritten whether we have a\n",
              "  specific estimator or a Pipeline/ColumnTransformer */\n",
              "  background-color: var(--sklearn-color-background);\n",
              "}\n",
              "\n",
              "/* Toggleable label */\n",
              "#sk-container-id-5 label.sk-toggleable__label {\n",
              "  cursor: pointer;\n",
              "  display: flex;\n",
              "  width: 100%;\n",
              "  margin-bottom: 0;\n",
              "  padding: 0.5em;\n",
              "  box-sizing: border-box;\n",
              "  text-align: center;\n",
              "  align-items: start;\n",
              "  justify-content: space-between;\n",
              "  gap: 0.5em;\n",
              "}\n",
              "\n",
              "#sk-container-id-5 label.sk-toggleable__label .caption {\n",
              "  font-size: 0.6rem;\n",
              "  font-weight: lighter;\n",
              "  color: var(--sklearn-color-text-muted);\n",
              "}\n",
              "\n",
              "#sk-container-id-5 label.sk-toggleable__label-arrow:before {\n",
              "  /* Arrow on the left of the label */\n",
              "  content: \"▸\";\n",
              "  float: left;\n",
              "  margin-right: 0.25em;\n",
              "  color: var(--sklearn-color-icon);\n",
              "}\n",
              "\n",
              "#sk-container-id-5 label.sk-toggleable__label-arrow:hover:before {\n",
              "  color: var(--sklearn-color-text);\n",
              "}\n",
              "\n",
              "/* Toggleable content - dropdown */\n",
              "\n",
              "#sk-container-id-5 div.sk-toggleable__content {\n",
              "  max-height: 0;\n",
              "  max-width: 0;\n",
              "  overflow: hidden;\n",
              "  text-align: left;\n",
              "  /* unfitted */\n",
              "  background-color: var(--sklearn-color-unfitted-level-0);\n",
              "}\n",
              "\n",
              "#sk-container-id-5 div.sk-toggleable__content.fitted {\n",
              "  /* fitted */\n",
              "  background-color: var(--sklearn-color-fitted-level-0);\n",
              "}\n",
              "\n",
              "#sk-container-id-5 div.sk-toggleable__content pre {\n",
              "  margin: 0.2em;\n",
              "  border-radius: 0.25em;\n",
              "  color: var(--sklearn-color-text);\n",
              "  /* unfitted */\n",
              "  background-color: var(--sklearn-color-unfitted-level-0);\n",
              "}\n",
              "\n",
              "#sk-container-id-5 div.sk-toggleable__content.fitted pre {\n",
              "  /* unfitted */\n",
              "  background-color: var(--sklearn-color-fitted-level-0);\n",
              "}\n",
              "\n",
              "#sk-container-id-5 input.sk-toggleable__control:checked~div.sk-toggleable__content {\n",
              "  /* Expand drop-down */\n",
              "  max-height: 200px;\n",
              "  max-width: 100%;\n",
              "  overflow: auto;\n",
              "}\n",
              "\n",
              "#sk-container-id-5 input.sk-toggleable__control:checked~label.sk-toggleable__label-arrow:before {\n",
              "  content: \"▾\";\n",
              "}\n",
              "\n",
              "/* Pipeline/ColumnTransformer-specific style */\n",
              "\n",
              "#sk-container-id-5 div.sk-label input.sk-toggleable__control:checked~label.sk-toggleable__label {\n",
              "  color: var(--sklearn-color-text);\n",
              "  background-color: var(--sklearn-color-unfitted-level-2);\n",
              "}\n",
              "\n",
              "#sk-container-id-5 div.sk-label.fitted input.sk-toggleable__control:checked~label.sk-toggleable__label {\n",
              "  background-color: var(--sklearn-color-fitted-level-2);\n",
              "}\n",
              "\n",
              "/* Estimator-specific style */\n",
              "\n",
              "/* Colorize estimator box */\n",
              "#sk-container-id-5 div.sk-estimator input.sk-toggleable__control:checked~label.sk-toggleable__label {\n",
              "  /* unfitted */\n",
              "  background-color: var(--sklearn-color-unfitted-level-2);\n",
              "}\n",
              "\n",
              "#sk-container-id-5 div.sk-estimator.fitted input.sk-toggleable__control:checked~label.sk-toggleable__label {\n",
              "  /* fitted */\n",
              "  background-color: var(--sklearn-color-fitted-level-2);\n",
              "}\n",
              "\n",
              "#sk-container-id-5 div.sk-label label.sk-toggleable__label,\n",
              "#sk-container-id-5 div.sk-label label {\n",
              "  /* The background is the default theme color */\n",
              "  color: var(--sklearn-color-text-on-default-background);\n",
              "}\n",
              "\n",
              "/* On hover, darken the color of the background */\n",
              "#sk-container-id-5 div.sk-label:hover label.sk-toggleable__label {\n",
              "  color: var(--sklearn-color-text);\n",
              "  background-color: var(--sklearn-color-unfitted-level-2);\n",
              "}\n",
              "\n",
              "/* Label box, darken color on hover, fitted */\n",
              "#sk-container-id-5 div.sk-label.fitted:hover label.sk-toggleable__label.fitted {\n",
              "  color: var(--sklearn-color-text);\n",
              "  background-color: var(--sklearn-color-fitted-level-2);\n",
              "}\n",
              "\n",
              "/* Estimator label */\n",
              "\n",
              "#sk-container-id-5 div.sk-label label {\n",
              "  font-family: monospace;\n",
              "  font-weight: bold;\n",
              "  display: inline-block;\n",
              "  line-height: 1.2em;\n",
              "}\n",
              "\n",
              "#sk-container-id-5 div.sk-label-container {\n",
              "  text-align: center;\n",
              "}\n",
              "\n",
              "/* Estimator-specific */\n",
              "#sk-container-id-5 div.sk-estimator {\n",
              "  font-family: monospace;\n",
              "  border: 1px dotted var(--sklearn-color-border-box);\n",
              "  border-radius: 0.25em;\n",
              "  box-sizing: border-box;\n",
              "  margin-bottom: 0.5em;\n",
              "  /* unfitted */\n",
              "  background-color: var(--sklearn-color-unfitted-level-0);\n",
              "}\n",
              "\n",
              "#sk-container-id-5 div.sk-estimator.fitted {\n",
              "  /* fitted */\n",
              "  background-color: var(--sklearn-color-fitted-level-0);\n",
              "}\n",
              "\n",
              "/* on hover */\n",
              "#sk-container-id-5 div.sk-estimator:hover {\n",
              "  /* unfitted */\n",
              "  background-color: var(--sklearn-color-unfitted-level-2);\n",
              "}\n",
              "\n",
              "#sk-container-id-5 div.sk-estimator.fitted:hover {\n",
              "  /* fitted */\n",
              "  background-color: var(--sklearn-color-fitted-level-2);\n",
              "}\n",
              "\n",
              "/* Specification for estimator info (e.g. \"i\" and \"?\") */\n",
              "\n",
              "/* Common style for \"i\" and \"?\" */\n",
              "\n",
              ".sk-estimator-doc-link,\n",
              "a:link.sk-estimator-doc-link,\n",
              "a:visited.sk-estimator-doc-link {\n",
              "  float: right;\n",
              "  font-size: smaller;\n",
              "  line-height: 1em;\n",
              "  font-family: monospace;\n",
              "  background-color: var(--sklearn-color-background);\n",
              "  border-radius: 1em;\n",
              "  height: 1em;\n",
              "  width: 1em;\n",
              "  text-decoration: none !important;\n",
              "  margin-left: 0.5em;\n",
              "  text-align: center;\n",
              "  /* unfitted */\n",
              "  border: var(--sklearn-color-unfitted-level-1) 1pt solid;\n",
              "  color: var(--sklearn-color-unfitted-level-1);\n",
              "}\n",
              "\n",
              ".sk-estimator-doc-link.fitted,\n",
              "a:link.sk-estimator-doc-link.fitted,\n",
              "a:visited.sk-estimator-doc-link.fitted {\n",
              "  /* fitted */\n",
              "  border: var(--sklearn-color-fitted-level-1) 1pt solid;\n",
              "  color: var(--sklearn-color-fitted-level-1);\n",
              "}\n",
              "\n",
              "/* On hover */\n",
              "div.sk-estimator:hover .sk-estimator-doc-link:hover,\n",
              ".sk-estimator-doc-link:hover,\n",
              "div.sk-label-container:hover .sk-estimator-doc-link:hover,\n",
              ".sk-estimator-doc-link:hover {\n",
              "  /* unfitted */\n",
              "  background-color: var(--sklearn-color-unfitted-level-3);\n",
              "  color: var(--sklearn-color-background);\n",
              "  text-decoration: none;\n",
              "}\n",
              "\n",
              "div.sk-estimator.fitted:hover .sk-estimator-doc-link.fitted:hover,\n",
              ".sk-estimator-doc-link.fitted:hover,\n",
              "div.sk-label-container:hover .sk-estimator-doc-link.fitted:hover,\n",
              ".sk-estimator-doc-link.fitted:hover {\n",
              "  /* fitted */\n",
              "  background-color: var(--sklearn-color-fitted-level-3);\n",
              "  color: var(--sklearn-color-background);\n",
              "  text-decoration: none;\n",
              "}\n",
              "\n",
              "/* Span, style for the box shown on hovering the info icon */\n",
              ".sk-estimator-doc-link span {\n",
              "  display: none;\n",
              "  z-index: 9999;\n",
              "  position: relative;\n",
              "  font-weight: normal;\n",
              "  right: .2ex;\n",
              "  padding: .5ex;\n",
              "  margin: .5ex;\n",
              "  width: min-content;\n",
              "  min-width: 20ex;\n",
              "  max-width: 50ex;\n",
              "  color: var(--sklearn-color-text);\n",
              "  box-shadow: 2pt 2pt 4pt #999;\n",
              "  /* unfitted */\n",
              "  background: var(--sklearn-color-unfitted-level-0);\n",
              "  border: .5pt solid var(--sklearn-color-unfitted-level-3);\n",
              "}\n",
              "\n",
              ".sk-estimator-doc-link.fitted span {\n",
              "  /* fitted */\n",
              "  background: var(--sklearn-color-fitted-level-0);\n",
              "  border: var(--sklearn-color-fitted-level-3);\n",
              "}\n",
              "\n",
              ".sk-estimator-doc-link:hover span {\n",
              "  display: block;\n",
              "}\n",
              "\n",
              "/* \"?\"-specific style due to the `<a>` HTML tag */\n",
              "\n",
              "#sk-container-id-5 a.estimator_doc_link {\n",
              "  float: right;\n",
              "  font-size: 1rem;\n",
              "  line-height: 1em;\n",
              "  font-family: monospace;\n",
              "  background-color: var(--sklearn-color-background);\n",
              "  border-radius: 1rem;\n",
              "  height: 1rem;\n",
              "  width: 1rem;\n",
              "  text-decoration: none;\n",
              "  /* unfitted */\n",
              "  color: var(--sklearn-color-unfitted-level-1);\n",
              "  border: var(--sklearn-color-unfitted-level-1) 1pt solid;\n",
              "}\n",
              "\n",
              "#sk-container-id-5 a.estimator_doc_link.fitted {\n",
              "  /* fitted */\n",
              "  border: var(--sklearn-color-fitted-level-1) 1pt solid;\n",
              "  color: var(--sklearn-color-fitted-level-1);\n",
              "}\n",
              "\n",
              "/* On hover */\n",
              "#sk-container-id-5 a.estimator_doc_link:hover {\n",
              "  /* unfitted */\n",
              "  background-color: var(--sklearn-color-unfitted-level-3);\n",
              "  color: var(--sklearn-color-background);\n",
              "  text-decoration: none;\n",
              "}\n",
              "\n",
              "#sk-container-id-5 a.estimator_doc_link.fitted:hover {\n",
              "  /* fitted */\n",
              "  background-color: var(--sklearn-color-fitted-level-3);\n",
              "}\n",
              "</style><div id=\"sk-container-id-5\" class=\"sk-top-container\"><div class=\"sk-text-repr-fallback\"><pre>RandomForestClassifier(n_estimators=150, random_state=42)</pre><b>In a Jupyter environment, please rerun this cell to show the HTML representation or trust the notebook. <br />On GitHub, the HTML representation is unable to render, please try loading this page with nbviewer.org.</b></div><div class=\"sk-container\" hidden><div class=\"sk-item\"><div class=\"sk-estimator fitted sk-toggleable\"><input class=\"sk-toggleable__control sk-hidden--visually\" id=\"sk-estimator-id-5\" type=\"checkbox\" checked><label for=\"sk-estimator-id-5\" class=\"sk-toggleable__label fitted sk-toggleable__label-arrow\"><div><div>RandomForestClassifier</div></div><div><a class=\"sk-estimator-doc-link fitted\" rel=\"noreferrer\" target=\"_blank\" href=\"https://scikit-learn.org/1.6/modules/generated/sklearn.ensemble.RandomForestClassifier.html\">?<span>Documentation for RandomForestClassifier</span></a><span class=\"sk-estimator-doc-link fitted\">i<span>Fitted</span></span></div></label><div class=\"sk-toggleable__content fitted\"><pre>RandomForestClassifier(n_estimators=150, random_state=42)</pre></div> </div></div></div></div>"
            ],
            "text/plain": [
              "RandomForestClassifier(n_estimators=150, random_state=42)"
            ]
          },
          "execution_count": 152,
          "metadata": {},
          "output_type": "execute_result"
        }
      ],
      "source": [
        "rfc = RandomForestClassifier(n_estimators=numer_of_decision_trees,\n",
        "                             random_state=42)\n",
        "rfc.fit(X_train, Y_train)"
      ]
    },
    {
      "cell_type": "markdown",
      "metadata": {
        "id": "M992INaYXe0B"
      },
      "source": [
        "## Make predictions on test data"
      ]
    },
    {
      "cell_type": "code",
      "execution_count": null,
      "metadata": {
        "id": "IYqwtQcgXnzv"
      },
      "outputs": [],
      "source": [
        "Y_prediction = rfc.predict(X_test)"
      ]
    },
    {
      "cell_type": "markdown",
      "metadata": {
        "id": "WLiQZBZ8Xnzw"
      },
      "source": [
        "## Calculate Accuracy"
      ]
    },
    {
      "cell_type": "code",
      "execution_count": null,
      "metadata": {
        "colab": {
          "base_uri": "https://localhost:8080/"
        },
        "id": "XKYUcmKLXnzw",
        "outputId": "3289afe7-bf4b-4711-cc47-60e72cb38834"
      },
      "outputs": [
        {
          "name": "stdout",
          "output_type": "stream",
          "text": [
            "Model Accuracy: 0.8716603053435115\n"
          ]
        }
      ],
      "source": [
        "# Ref: https://scikit-learn.org/stable/modules/generated/sklearn.metrics.accuracy_score.html\n",
        "accuracy = accuracy_score(Y_test, Y_prediction)\n",
        "print(\"Model Accuracy:\", accuracy)"
      ]
    },
    {
      "cell_type": "markdown",
      "metadata": {
        "id": "4QXylHf5lzXq"
      },
      "source": [
        "## Calculate the importance of feature columns"
      ]
    },
    {
      "cell_type": "code",
      "execution_count": null,
      "metadata": {
        "colab": {
          "base_uri": "https://localhost:8080/"
        },
        "id": "_8Epi20doDAr",
        "outputId": "fdbf86ab-2132-4821-fa76-e90cea2042ac"
      },
      "outputs": [
        {
          "name": "stdout",
          "output_type": "stream",
          "text": [
            "Feature Importance Mapping:\n",
            "Month: 0.08021815355123055\n",
            "Cloud Cover: 0.0847261416084715\n",
            "Water Temperature: 0.24329856833992428\n",
            "Depth: 0.2914622550948604\n",
            "Visibility Encoded: 0.020099381126836447\n",
            "Wind Speed Encoded: 0.03517543513320801\n",
            "Sea Height Encoded: 0.027146005371216895\n",
            "Swell Height Encoded: 0.02219421000834672\n",
            "Trip Encoded: 0.05119313965691775\n",
            "Atmosphere Encoded: 0.018128827891539266\n",
            "Wind Direction Encoded: 0.07544922589572224\n",
            "Swell Direction Encoded: 0.05090865632172588\n"
          ]
        }
      ],
      "source": [
        "# Get feature importance values\n",
        "feature_importances = rfc.feature_importances_\n",
        "\n",
        "# Print feature importances\n",
        "print(\"Feature Importance Mapping:\")\n",
        "for i, feature in enumerate(X_train.columns):\n",
        "    print(f\"{feature}: {rfc.feature_importances_[i]}\")"
      ]
    },
    {
      "cell_type": "markdown",
      "metadata": {
        "id": "CrW6-Rpqks6z"
      },
      "source": [
        "## Create a bar plot to view the feature importance values"
      ]
    },
    {
      "cell_type": "code",
      "execution_count": null,
      "metadata": {
        "colab": {
          "base_uri": "https://localhost:8080/",
          "height": 693
        },
        "id": "i8G-D1YQm5iL",
        "outputId": "c8816704-0959-48f2-8c34-d7f933c04ea4"
      },
      "outputs": [
        {
          "data": {
            "image/png": "[encoded data removed]",
            "text/plain": [
              "<Figure size 1500x500 with 1 Axes>"
            ]
          },
          "metadata": {},
          "output_type": "display_data"
        }
      ],
      "source": [
        "# Sort features by importance in ascending order\n",
        "sorted_index = np.argsort(feature_importances)\n",
        "sorted_features = [X_train.columns[i] for i in sorted_index]\n",
        "\n",
        "# Plot Feature Importance\n",
        "# Define figure size\n",
        "plt.figure(figsize=(15, 5))\n",
        "plt.bar(sorted_features, feature_importances[sorted_index])\n",
        "# Rotate labels 45 degrees\n",
        "plt.xticks(rotation=45, ha='right')\n",
        "# Set labels\n",
        "plt.xlabel(\"Environmental Factor\", fontsize=default_graph_font_size, labelpad=15)\n",
        "plt.ylabel(\"Importance Score\", fontsize=default_graph_font_size, labelpad=15)\n",
        "plt.title(\"The Importance Score of Environmental Factors\",\n",
        "          fontsize=graph_title_font_size)\n",
        "\n",
        "# Set font size for tick labels on x and y axes\n",
        "plt.tick_params(axis='x', labelsize=default_graph_font_size)\n",
        "plt.tick_params(axis='y', labelsize=default_graph_font_size)\n",
        "\n",
        "# Display graph\n",
        "plt.show()"
      ]
    },
    {
      "cell_type": "markdown",
      "metadata": {
        "id": "Z1_kCCx9Krsr"
      },
      "source": [
        "# Remove unnecessary features and retrain the Random Forest model"
      ]
    },
    {
      "cell_type": "markdown",
      "metadata": {
        "id": "NSzxPMVhKxol"
      },
      "source": [
        "Now that I have the importance values calculated, I will remove some features with low importance or was suggested based on domain knowledge:\n",
        "```['Cloud Cover', 'Visibility', 'Atmosphere', 'Swell Height', 'Sea Height', 'Wind Speed']```"
      ]
    },
    {
      "cell_type": "markdown",
      "metadata": {
        "id": "XnX4dRuxSCms"
      },
      "source": [
        "## Split train and test data (second times)"
      ]
    },
    {
      "cell_type": "code",
      "execution_count": null,
      "metadata": {
        "id": "xFOw0x18Kw9Q"
      },
      "outputs": [],
      "source": [
        "# Split data into train and test again\n",
        "X = extracted_df.drop(columns=[\n",
        "    'Species Group', 'Species Group Encoded', 'Cloud Cover', 'Visibility',\n",
        "    'Atmosphere', 'Swell Height', 'Sea Height', 'Wind Speed'\n",
        "])\n",
        "Y = extracted_df['Species Group Encoded']\n",
        "\n",
        "X_train, X_test, Y_train, Y_test = train_test_split(\n",
        "    X, Y,\n",
        "    test_size=0.25)"
      ]
    },
    {
      "cell_type": "markdown",
      "metadata": {
        "id": "qqbIEbIiSx2h"
      },
      "source": [
        "## Transform X values (second times)"
      ]
    },
    {
      "cell_type": "code",
      "execution_count": null,
      "metadata": {
        "id": "LTVw0whKS2h4"
      },
      "outputs": [],
      "source": [
        "# Initialize target encoders\n",
        "trip_encoder = TargetEncoder()\n",
        "wind_direction_encoder = TargetEncoder()\n",
        "swell_direction_encoder = TargetEncoder()\n",
        "\n",
        "# Fit on training data and transform\n",
        "X_train['Trip Encoded'] = trip_encoder \\\n",
        "  .fit_transform(X_train['Trip'], Y_train)\n",
        "X_train['Wind Direction Encoded'] = wind_direction_encoder \\\n",
        "  .fit_transform(X_train['Wind Direction'], Y_train)\n",
        "X_train['Swell Direction Encoded'] = swell_direction_encoder \\\n",
        "  .fit_transform(X_train['Swell Direction'], Y_train)\n",
        "\n",
        "# TRANSFORM test data\n",
        "X_test['Trip Encoded'] = trip_encoder \\\n",
        "  .transform(X_test['Trip'])\n",
        "X_test['Wind Direction Encoded'] = wind_direction_encoder \\\n",
        "  .transform(X_test['Wind Direction'])\n",
        "X_test['Swell Direction Encoded'] = swell_direction_encoder \\\n",
        "  .transform(X_test['Swell Direction'])\n",
        "\n",
        "# ---------------------------\n",
        "\n",
        "# Drop the original columns\n",
        "X_train.drop(columns=[\n",
        "    'Trip', 'Wind Direction', 'Swell Direction'\n",
        "], inplace=True)\n",
        "X_test.drop(columns=[\n",
        "    'Trip', 'Wind Direction', 'Swell Direction'\n",
        "], inplace=True)"
      ]
    },
    {
      "cell_type": "markdown",
      "metadata": {
        "id": "ywlf05PFTf9Z"
      },
      "source": [
        "## Train Random Forest Classifier (second times)"
      ]
    },
    {
      "cell_type": "code",
      "execution_count": null,
      "metadata": {
        "colab": {
          "base_uri": "https://localhost:8080/",
          "height": 80
        },
        "id": "ECrNmX5NTnvq",
        "outputId": "e4e0743d-0c78-44bc-927e-215fa7e28f58"
      },
      "outputs": [
        {
          "data": {
            "text/html": [
              "<style>#sk-container-id-6 {\n",
              "  /* Definition of color scheme common for light and dark mode */\n",
              "  --sklearn-color-text: #000;\n",
              "  --sklearn-color-text-muted: #666;\n",
              "  --sklearn-color-line: gray;\n",
              "  /* Definition of color scheme for unfitted estimators */\n",
              "  --sklearn-color-unfitted-level-0: #fff5e6;\n",
              "  --sklearn-color-unfitted-level-1: #f6e4d2;\n",
              "  --sklearn-color-unfitted-level-2: #ffe0b3;\n",
              "  --sklearn-color-unfitted-level-3: chocolate;\n",
              "  /* Definition of color scheme for fitted estimators */\n",
              "  --sklearn-color-fitted-level-0: #f0f8ff;\n",
              "  --sklearn-color-fitted-level-1: #d4ebff;\n",
              "  --sklearn-color-fitted-level-2: #b3dbfd;\n",
              "  --sklearn-color-fitted-level-3: cornflowerblue;\n",
              "\n",
              "  /* Specific color for light theme */\n",
              "  --sklearn-color-text-on-default-background: var(--sg-text-color, var(--theme-code-foreground, var(--jp-content-font-color1, black)));\n",
              "  --sklearn-color-background: var(--sg-background-color, var(--theme-background, var(--jp-layout-color0, white)));\n",
              "  --sklearn-color-border-box: var(--sg-text-color, var(--theme-code-foreground, var(--jp-content-font-color1, black)));\n",
              "  --sklearn-color-icon: #696969;\n",
              "\n",
              "  @media (prefers-color-scheme: dark) {\n",
              "    /* Redefinition of color scheme for dark theme */\n",
              "    --sklearn-color-text-on-default-background: var(--sg-text-color, var(--theme-code-foreground, var(--jp-content-font-color1, white)));\n",
              "    --sklearn-color-background: var(--sg-background-color, var(--theme-background, var(--jp-layout-color0, #111)));\n",
              "    --sklearn-color-border-box: var(--sg-text-color, var(--theme-code-foreground, var(--jp-content-font-color1, white)));\n",
              "    --sklearn-color-icon: #878787;\n",
              "  }\n",
              "}\n",
              "\n",
              "#sk-container-id-6 {\n",
              "  color: var(--sklearn-color-text);\n",
              "}\n",
              "\n",
              "#sk-container-id-6 pre {\n",
              "  padding: 0;\n",
              "}\n",
              "\n",
              "#sk-container-id-6 input.sk-hidden--visually {\n",
              "  border: 0;\n",
              "  clip: rect(1px 1px 1px 1px);\n",
              "  clip: rect(1px, 1px, 1px, 1px);\n",
              "  height: 1px;\n",
              "  margin: -1px;\n",
              "  overflow: hidden;\n",
              "  padding: 0;\n",
              "  position: absolute;\n",
              "  width: 1px;\n",
              "}\n",
              "\n",
              "#sk-container-id-6 div.sk-dashed-wrapped {\n",
              "  border: 1px dashed var(--sklearn-color-line);\n",
              "  margin: 0 0.4em 0.5em 0.4em;\n",
              "  box-sizing: border-box;\n",
              "  padding-bottom: 0.4em;\n",
              "  background-color: var(--sklearn-color-background);\n",
              "}\n",
              "\n",
              "#sk-container-id-6 div.sk-container {\n",
              "  /* jupyter's `normalize.less` sets `[hidden] { display: none; }`\n",
              "     but bootstrap.min.css set `[hidden] { display: none !important; }`\n",
              "     so we also need the `!important` here to be able to override the\n",
              "     default hidden behavior on the sphinx rendered scikit-learn.org.\n",
              "     See: https://github.com/scikit-learn/scikit-learn/issues/21755 */\n",
              "  display: inline-block !important;\n",
              "  position: relative;\n",
              "}\n",
              "\n",
              "#sk-container-id-6 div.sk-text-repr-fallback {\n",
              "  display: none;\n",
              "}\n",
              "\n",
              "div.sk-parallel-item,\n",
              "div.sk-serial,\n",
              "div.sk-item {\n",
              "  /* draw centered vertical line to link estimators */\n",
              "  background-image: linear-gradient(var(--sklearn-color-text-on-default-background), var(--sklearn-color-text-on-default-background));\n",
              "  background-size: 2px 100%;\n",
              "  background-repeat: no-repeat;\n",
              "  background-position: center center;\n",
              "}\n",
              "\n",
              "/* Parallel-specific style estimator block */\n",
              "\n",
              "#sk-container-id-6 div.sk-parallel-item::after {\n",
              "  content: \"\";\n",
              "  width: 100%;\n",
              "  border-bottom: 2px solid var(--sklearn-color-text-on-default-background);\n",
              "  flex-grow: 1;\n",
              "}\n",
              "\n",
              "#sk-container-id-6 div.sk-parallel {\n",
              "  display: flex;\n",
              "  align-items: stretch;\n",
              "  justify-content: center;\n",
              "  background-color: var(--sklearn-color-background);\n",
              "  position: relative;\n",
              "}\n",
              "\n",
              "#sk-container-id-6 div.sk-parallel-item {\n",
              "  display: flex;\n",
              "  flex-direction: column;\n",
              "}\n",
              "\n",
              "#sk-container-id-6 div.sk-parallel-item:first-child::after {\n",
              "  align-self: flex-end;\n",
              "  width: 50%;\n",
              "}\n",
              "\n",
              "#sk-container-id-6 div.sk-parallel-item:last-child::after {\n",
              "  align-self: flex-start;\n",
              "  width: 50%;\n",
              "}\n",
              "\n",
              "#sk-container-id-6 div.sk-parallel-item:only-child::after {\n",
              "  width: 0;\n",
              "}\n",
              "\n",
              "/* Serial-specific style estimator block */\n",
              "\n",
              "#sk-container-id-6 div.sk-serial {\n",
              "  display: flex;\n",
              "  flex-direction: column;\n",
              "  align-items: center;\n",
              "  background-color: var(--sklearn-color-background);\n",
              "  padding-right: 1em;\n",
              "  padding-left: 1em;\n",
              "}\n",
              "\n",
              "\n",
              "/* Toggleable style: style used for estimator/Pipeline/ColumnTransformer box that is\n",
              "clickable and can be expanded/collapsed.\n",
              "- Pipeline and ColumnTransformer use this feature and define the default style\n",
              "- Estimators will overwrite some part of the style using the `sk-estimator` class\n",
              "*/\n",
              "\n",
              "/* Pipeline and ColumnTransformer style (default) */\n",
              "\n",
              "#sk-container-id-6 div.sk-toggleable {\n",
              "  /* Default theme specific background. It is overwritten whether we have a\n",
              "  specific estimator or a Pipeline/ColumnTransformer */\n",
              "  background-color: var(--sklearn-color-background);\n",
              "}\n",
              "\n",
              "/* Toggleable label */\n",
              "#sk-container-id-6 label.sk-toggleable__label {\n",
              "  cursor: pointer;\n",
              "  display: flex;\n",
              "  width: 100%;\n",
              "  margin-bottom: 0;\n",
              "  padding: 0.5em;\n",
              "  box-sizing: border-box;\n",
              "  text-align: center;\n",
              "  align-items: start;\n",
              "  justify-content: space-between;\n",
              "  gap: 0.5em;\n",
              "}\n",
              "\n",
              "#sk-container-id-6 label.sk-toggleable__label .caption {\n",
              "  font-size: 0.6rem;\n",
              "  font-weight: lighter;\n",
              "  color: var(--sklearn-color-text-muted);\n",
              "}\n",
              "\n",
              "#sk-container-id-6 label.sk-toggleable__label-arrow:before {\n",
              "  /* Arrow on the left of the label */\n",
              "  content: \"▸\";\n",
              "  float: left;\n",
              "  margin-right: 0.25em;\n",
              "  color: var(--sklearn-color-icon);\n",
              "}\n",
              "\n",
              "#sk-container-id-6 label.sk-toggleable__label-arrow:hover:before {\n",
              "  color: var(--sklearn-color-text);\n",
              "}\n",
              "\n",
              "/* Toggleable content - dropdown */\n",
              "\n",
              "#sk-container-id-6 div.sk-toggleable__content {\n",
              "  max-height: 0;\n",
              "  max-width: 0;\n",
              "  overflow: hidden;\n",
              "  text-align: left;\n",
              "  /* unfitted */\n",
              "  background-color: var(--sklearn-color-unfitted-level-0);\n",
              "}\n",
              "\n",
              "#sk-container-id-6 div.sk-toggleable__content.fitted {\n",
              "  /* fitted */\n",
              "  background-color: var(--sklearn-color-fitted-level-0);\n",
              "}\n",
              "\n",
              "#sk-container-id-6 div.sk-toggleable__content pre {\n",
              "  margin: 0.2em;\n",
              "  border-radius: 0.25em;\n",
              "  color: var(--sklearn-color-text);\n",
              "  /* unfitted */\n",
              "  background-color: var(--sklearn-color-unfitted-level-0);\n",
              "}\n",
              "\n",
              "#sk-container-id-6 div.sk-toggleable__content.fitted pre {\n",
              "  /* unfitted */\n",
              "  background-color: var(--sklearn-color-fitted-level-0);\n",
              "}\n",
              "\n",
              "#sk-container-id-6 input.sk-toggleable__control:checked~div.sk-toggleable__content {\n",
              "  /* Expand drop-down */\n",
              "  max-height: 200px;\n",
              "  max-width: 100%;\n",
              "  overflow: auto;\n",
              "}\n",
              "\n",
              "#sk-container-id-6 input.sk-toggleable__control:checked~label.sk-toggleable__label-arrow:before {\n",
              "  content: \"▾\";\n",
              "}\n",
              "\n",
              "/* Pipeline/ColumnTransformer-specific style */\n",
              "\n",
              "#sk-container-id-6 div.sk-label input.sk-toggleable__control:checked~label.sk-toggleable__label {\n",
              "  color: var(--sklearn-color-text);\n",
              "  background-color: var(--sklearn-color-unfitted-level-2);\n",
              "}\n",
              "\n",
              "#sk-container-id-6 div.sk-label.fitted input.sk-toggleable__control:checked~label.sk-toggleable__label {\n",
              "  background-color: var(--sklearn-color-fitted-level-2);\n",
              "}\n",
              "\n",
              "/* Estimator-specific style */\n",
              "\n",
              "/* Colorize estimator box */\n",
              "#sk-container-id-6 div.sk-estimator input.sk-toggleable__control:checked~label.sk-toggleable__label {\n",
              "  /* unfitted */\n",
              "  background-color: var(--sklearn-color-unfitted-level-2);\n",
              "}\n",
              "\n",
              "#sk-container-id-6 div.sk-estimator.fitted input.sk-toggleable__control:checked~label.sk-toggleable__label {\n",
              "  /* fitted */\n",
              "  background-color: var(--sklearn-color-fitted-level-2);\n",
              "}\n",
              "\n",
              "#sk-container-id-6 div.sk-label label.sk-toggleable__label,\n",
              "#sk-container-id-6 div.sk-label label {\n",
              "  /* The background is the default theme color */\n",
              "  color: var(--sklearn-color-text-on-default-background);\n",
              "}\n",
              "\n",
              "/* On hover, darken the color of the background */\n",
              "#sk-container-id-6 div.sk-label:hover label.sk-toggleable__label {\n",
              "  color: var(--sklearn-color-text);\n",
              "  background-color: var(--sklearn-color-unfitted-level-2);\n",
              "}\n",
              "\n",
              "/* Label box, darken color on hover, fitted */\n",
              "#sk-container-id-6 div.sk-label.fitted:hover label.sk-toggleable__label.fitted {\n",
              "  color: var(--sklearn-color-text);\n",
              "  background-color: var(--sklearn-color-fitted-level-2);\n",
              "}\n",
              "\n",
              "/* Estimator label */\n",
              "\n",
              "#sk-container-id-6 div.sk-label label {\n",
              "  font-family: monospace;\n",
              "  font-weight: bold;\n",
              "  display: inline-block;\n",
              "  line-height: 1.2em;\n",
              "}\n",
              "\n",
              "#sk-container-id-6 div.sk-label-container {\n",
              "  text-align: center;\n",
              "}\n",
              "\n",
              "/* Estimator-specific */\n",
              "#sk-container-id-6 div.sk-estimator {\n",
              "  font-family: monospace;\n",
              "  border: 1px dotted var(--sklearn-color-border-box);\n",
              "  border-radius: 0.25em;\n",
              "  box-sizing: border-box;\n",
              "  margin-bottom: 0.5em;\n",
              "  /* unfitted */\n",
              "  background-color: var(--sklearn-color-unfitted-level-0);\n",
              "}\n",
              "\n",
              "#sk-container-id-6 div.sk-estimator.fitted {\n",
              "  /* fitted */\n",
              "  background-color: var(--sklearn-color-fitted-level-0);\n",
              "}\n",
              "\n",
              "/* on hover */\n",
              "#sk-container-id-6 div.sk-estimator:hover {\n",
              "  /* unfitted */\n",
              "  background-color: var(--sklearn-color-unfitted-level-2);\n",
              "}\n",
              "\n",
              "#sk-container-id-6 div.sk-estimator.fitted:hover {\n",
              "  /* fitted */\n",
              "  background-color: var(--sklearn-color-fitted-level-2);\n",
              "}\n",
              "\n",
              "/* Specification for estimator info (e.g. \"i\" and \"?\") */\n",
              "\n",
              "/* Common style for \"i\" and \"?\" */\n",
              "\n",
              ".sk-estimator-doc-link,\n",
              "a:link.sk-estimator-doc-link,\n",
              "a:visited.sk-estimator-doc-link {\n",
              "  float: right;\n",
              "  font-size: smaller;\n",
              "  line-height: 1em;\n",
              "  font-family: monospace;\n",
              "  background-color: var(--sklearn-color-background);\n",
              "  border-radius: 1em;\n",
              "  height: 1em;\n",
              "  width: 1em;\n",
              "  text-decoration: none !important;\n",
              "  margin-left: 0.5em;\n",
              "  text-align: center;\n",
              "  /* unfitted */\n",
              "  border: var(--sklearn-color-unfitted-level-1) 1pt solid;\n",
              "  color: var(--sklearn-color-unfitted-level-1);\n",
              "}\n",
              "\n",
              ".sk-estimator-doc-link.fitted,\n",
              "a:link.sk-estimator-doc-link.fitted,\n",
              "a:visited.sk-estimator-doc-link.fitted {\n",
              "  /* fitted */\n",
              "  border: var(--sklearn-color-fitted-level-1) 1pt solid;\n",
              "  color: var(--sklearn-color-fitted-level-1);\n",
              "}\n",
              "\n",
              "/* On hover */\n",
              "div.sk-estimator:hover .sk-estimator-doc-link:hover,\n",
              ".sk-estimator-doc-link:hover,\n",
              "div.sk-label-container:hover .sk-estimator-doc-link:hover,\n",
              ".sk-estimator-doc-link:hover {\n",
              "  /* unfitted */\n",
              "  background-color: var(--sklearn-color-unfitted-level-3);\n",
              "  color: var(--sklearn-color-background);\n",
              "  text-decoration: none;\n",
              "}\n",
              "\n",
              "div.sk-estimator.fitted:hover .sk-estimator-doc-link.fitted:hover,\n",
              ".sk-estimator-doc-link.fitted:hover,\n",
              "div.sk-label-container:hover .sk-estimator-doc-link.fitted:hover,\n",
              ".sk-estimator-doc-link.fitted:hover {\n",
              "  /* fitted */\n",
              "  background-color: var(--sklearn-color-fitted-level-3);\n",
              "  color: var(--sklearn-color-background);\n",
              "  text-decoration: none;\n",
              "}\n",
              "\n",
              "/* Span, style for the box shown on hovering the info icon */\n",
              ".sk-estimator-doc-link span {\n",
              "  display: none;\n",
              "  z-index: 9999;\n",
              "  position: relative;\n",
              "  font-weight: normal;\n",
              "  right: .2ex;\n",
              "  padding: .5ex;\n",
              "  margin: .5ex;\n",
              "  width: min-content;\n",
              "  min-width: 20ex;\n",
              "  max-width: 50ex;\n",
              "  color: var(--sklearn-color-text);\n",
              "  box-shadow: 2pt 2pt 4pt #999;\n",
              "  /* unfitted */\n",
              "  background: var(--sklearn-color-unfitted-level-0);\n",
              "  border: .5pt solid var(--sklearn-color-unfitted-level-3);\n",
              "}\n",
              "\n",
              ".sk-estimator-doc-link.fitted span {\n",
              "  /* fitted */\n",
              "  background: var(--sklearn-color-fitted-level-0);\n",
              "  border: var(--sklearn-color-fitted-level-3);\n",
              "}\n",
              "\n",
              ".sk-estimator-doc-link:hover span {\n",
              "  display: block;\n",
              "}\n",
              "\n",
              "/* \"?\"-specific style due to the `<a>` HTML tag */\n",
              "\n",
              "#sk-container-id-6 a.estimator_doc_link {\n",
              "  float: right;\n",
              "  font-size: 1rem;\n",
              "  line-height: 1em;\n",
              "  font-family: monospace;\n",
              "  background-color: var(--sklearn-color-background);\n",
              "  border-radius: 1rem;\n",
              "  height: 1rem;\n",
              "  width: 1rem;\n",
              "  text-decoration: none;\n",
              "  /* unfitted */\n",
              "  color: var(--sklearn-color-unfitted-level-1);\n",
              "  border: var(--sklearn-color-unfitted-level-1) 1pt solid;\n",
              "}\n",
              "\n",
              "#sk-container-id-6 a.estimator_doc_link.fitted {\n",
              "  /* fitted */\n",
              "  border: var(--sklearn-color-fitted-level-1) 1pt solid;\n",
              "  color: var(--sklearn-color-fitted-level-1);\n",
              "}\n",
              "\n",
              "/* On hover */\n",
              "#sk-container-id-6 a.estimator_doc_link:hover {\n",
              "  /* unfitted */\n",
              "  background-color: var(--sklearn-color-unfitted-level-3);\n",
              "  color: var(--sklearn-color-background);\n",
              "  text-decoration: none;\n",
              "}\n",
              "\n",
              "#sk-container-id-6 a.estimator_doc_link.fitted:hover {\n",
              "  /* fitted */\n",
              "  background-color: var(--sklearn-color-fitted-level-3);\n",
              "}\n",
              "</style><div id=\"sk-container-id-6\" class=\"sk-top-container\"><div class=\"sk-text-repr-fallback\"><pre>RandomForestClassifier(n_estimators=150, random_state=42)</pre><b>In a Jupyter environment, please rerun this cell to show the HTML representation or trust the notebook. <br />On GitHub, the HTML representation is unable to render, please try loading this page with nbviewer.org.</b></div><div class=\"sk-container\" hidden><div class=\"sk-item\"><div class=\"sk-estimator fitted sk-toggleable\"><input class=\"sk-toggleable__control sk-hidden--visually\" id=\"sk-estimator-id-6\" type=\"checkbox\" checked><label for=\"sk-estimator-id-6\" class=\"sk-toggleable__label fitted sk-toggleable__label-arrow\"><div><div>RandomForestClassifier</div></div><div><a class=\"sk-estimator-doc-link fitted\" rel=\"noreferrer\" target=\"_blank\" href=\"https://scikit-learn.org/1.6/modules/generated/sklearn.ensemble.RandomForestClassifier.html\">?<span>Documentation for RandomForestClassifier</span></a><span class=\"sk-estimator-doc-link fitted\">i<span>Fitted</span></span></div></label><div class=\"sk-toggleable__content fitted\"><pre>RandomForestClassifier(n_estimators=150, random_state=42)</pre></div> </div></div></div></div>"
            ],
            "text/plain": [
              "RandomForestClassifier(n_estimators=150, random_state=42)"
            ]
          },
          "execution_count": 159,
          "metadata": {},
          "output_type": "execute_result"
        }
      ],
      "source": [
        "# n_estimators: Number of trees in the random forest\n",
        "rfc = RandomForestClassifier(n_estimators=numer_of_decision_trees,\n",
        "                             random_state=42)\n",
        "rfc.fit(X_train, Y_train)"
      ]
    },
    {
      "cell_type": "markdown",
      "metadata": {
        "id": "J-EnsE6SV7aQ"
      },
      "source": [
        "## Make predictions on test data (second times)"
      ]
    },
    {
      "cell_type": "code",
      "execution_count": null,
      "metadata": {
        "id": "AHX0zKS2WEN1"
      },
      "outputs": [],
      "source": [
        "Y_prediction = rfc.predict(X_test)"
      ]
    },
    {
      "cell_type": "markdown",
      "metadata": {
        "id": "rGVSVakGWRPD"
      },
      "source": [
        "## Calculate Accuracy (second times)"
      ]
    },
    {
      "cell_type": "code",
      "execution_count": null,
      "metadata": {
        "colab": {
          "base_uri": "https://localhost:8080/"
        },
        "id": "ys8c_nPeWUd9",
        "outputId": "390f963c-090a-432d-aab9-0e44a435ec64"
      },
      "outputs": [
        {
          "name": "stdout",
          "output_type": "stream",
          "text": [
            "Model Accuracy: 0.8591603053435114\n"
          ]
        }
      ],
      "source": [
        "# Ref: https://scikit-learn.org/stable/modules/generated/sklearn.metrics.accuracy_score.html\n",
        "accuracy = accuracy_score(Y_test, Y_prediction)\n",
        "print(\"Model Accuracy:\", accuracy)"
      ]
    },
    {
      "cell_type": "markdown",
      "metadata": {
        "id": "iDRNf094OYmR"
      },
      "source": [
        "## Create a bar plot to view the feature importance values (after removed unnecessary features)"
      ]
    },
    {
      "cell_type": "code",
      "execution_count": null,
      "metadata": {
        "colab": {
          "base_uri": "https://localhost:8080/",
          "height": 693
        },
        "id": "6rL_ZttsOYmR",
        "outputId": "86efa699-e7dc-4efc-dad6-449282e0ef75"
      },
      "outputs": [
        {
          "data": {
            "image/png": "[encoded data removed]",
            "text/plain": [
              "<Figure size 1500x500 with 1 Axes>"
            ]
          },
          "metadata": {},
          "output_type": "display_data"
        }
      ],
      "source": [
        "# Sort features by importance in ascending order\n",
        "sorted_index = np.argsort(rfc.feature_importances_)\n",
        "sorted_features = [X_train.columns[i] for i in sorted_index]\n",
        "\n",
        "# Plot Feature Importance\n",
        "# Define figure size\n",
        "plt.figure(figsize=(15, 5))\n",
        "plt.bar(sorted_features, rfc.feature_importances_[sorted_index])\n",
        "# Rotate labels 45 degrees\n",
        "plt.xticks(rotation=45, ha='right')\n",
        "# Set labels\n",
        "plt.xlabel(\"Environmental Factor\", fontsize=default_graph_font_size, labelpad=15)\n",
        "plt.ylabel(\"Importance Score\", fontsize=default_graph_font_size, labelpad=15)\n",
        "plt.title(\"The Importance Score of Environmental Factors\",\n",
        "          fontsize=graph_title_font_size)\n",
        "\n",
        "# Set font size for tick labels on x and y axes\n",
        "plt.tick_params(axis='x', labelsize=default_graph_font_size)\n",
        "plt.tick_params(axis='y', labelsize=default_graph_font_size)\n",
        "\n",
        "# Display graph\n",
        "plt.show()"
      ]
    },
    {
      "cell_type": "markdown",
      "metadata": {
        "id": "XWsBxAKoZKmK"
      },
      "source": [
        "# Conclusion"
      ]
    },
    {
      "cell_type": "markdown",
      "metadata": {
        "id": "CquAPCbEZMND"
      },
      "source": [
        "The model accuracy does not drop much after removing unnecessary features, so I can conclude to keep the new filtered features."
      ]
    },
    {
      "cell_type": "markdown",
      "metadata": {
        "id": "E60-jX_n3V4Q"
      },
      "source": [
        "# Skill notes\n",
        "Working with pandas library:\n",
        "- Read and write dataframe\n",
        "- Loop through columns\n",
        "```\n",
        "[column for column in df.columns ...]\n",
        "```\n",
        "- Drop columns:\n",
        "```\n",
        "df.drop(columns=['A', 'B'], inplace=True)\n",
        "```\n",
        "- Convert data type of a column to a new one\n",
        "```\n",
        "pd.to_datetime(df['A'], errors='coerce')\n",
        "```\n",
        "- Remove records having NA in a column (example: 'A') in the dataframe:\n",
        "```\n",
        "df.dropna(subset=['A'])\n",
        "```"
      ]
    }
  ],
  "metadata": {
    "colab": {
      "provenance": [],
      "toc_visible": true
    },
    "kernelspec": {
      "display_name": "Python 3",
      "name": "python3"
    },
    "language_info": {
      "name": "python"
    }
  },
  "nbformat": 4,
  "nbformat_minor": 0
}
